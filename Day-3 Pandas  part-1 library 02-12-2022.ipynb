{
 "cells": [
  {
   "cell_type": "markdown",
   "id": "7f508e98",
   "metadata": {},
   "source": [
    "# Vigneshwar Day-3 02/12/2022"
   ]
  },
  {
   "cell_type": "raw",
   "id": "7323d831",
   "metadata": {},
   "source": [
    "Day-3 Pandas libray part-1"
   ]
  },
  {
   "cell_type": "raw",
   "id": "3d48d9e9",
   "metadata": {},
   "source": [
    "Topics Covered Today - Vigneshwar \n",
    "\n",
    "List item\n",
    " 1.Introduction\n",
    " 2.Fast and Efficient\n",
    " 3.In-Memory\n",
    " 4.Easy to handle missing data\n",
    " 5.Easy for Data Manipulation\n",
    " 6.Supports operations like aggregation, groupby, reshape, pivot, insertion, deletion and lot more\n",
    " 7.Supports Timeseries conversion\n",
    " 8.Creating DF\n",
    " 9.Reading Data ffrom different Sources\n",
    " 10.Writing a DF to a CSV file\n",
    " 11.basic Functions"
   ]
  },
  {
   "cell_type": "code",
   "execution_count": 1,
   "id": "03f3bbae",
   "metadata": {},
   "outputs": [],
   "source": [
    "##Import Pandas Library and name it as pd\n",
    "import pandas as pd"
   ]
  },
  {
   "cell_type": "markdown",
   "id": "aac2fb08",
   "metadata": {},
   "source": [
    "# Creating an empty DF"
   ]
  },
  {
   "cell_type": "code",
   "execution_count": 2,
   "id": "86134b12",
   "metadata": {},
   "outputs": [
    {
     "name": "stdout",
     "output_type": "stream",
     "text": [
      "Empty DataFrame\n",
      "Columns: []\n",
      "Index: []\n"
     ]
    }
   ],
   "source": [
    "df=pd.DataFrame()\n",
    "print(df)"
   ]
  },
  {
   "cell_type": "markdown",
   "id": "84091fa2",
   "metadata": {},
   "source": [
    "# Creating Custom DataFrame"
   ]
  },
  {
   "cell_type": "raw",
   "id": "1964991a",
   "metadata": {},
   "source": [
    "Single Column DF"
   ]
  },
  {
   "cell_type": "code",
   "execution_count": 3,
   "id": "54d4de19",
   "metadata": {},
   "outputs": [
    {
     "name": "stdout",
     "output_type": "stream",
     "text": [
      "['Metaverse', 'Google', 'Microsoft', 'Tesla']\n",
      "           0\n",
      "0  Metaverse\n",
      "1     Google\n",
      "2  Microsoft\n",
      "3      Tesla\n"
     ]
    }
   ],
   "source": [
    "companies=[\"Metaverse\",\"Google\",\"Microsoft\",\"Tesla\"]\n",
    "print(companies)\n",
    "df_companies=pd.DataFrame(companies)\n",
    "print(df_companies)"
   ]
  },
  {
   "cell_type": "code",
   "execution_count": 4,
   "id": "c20b8619",
   "metadata": {},
   "outputs": [
    {
     "name": "stdout",
     "output_type": "stream",
     "text": [
      "[['Metaverse', 'Meta', 200], ['Google', 'Alphabet', 700], ['Microsoft', 'MSFT', 500], ['Tesla', 'TSLA', 1000]]\n",
      "     Company  Shortcut  Price\n",
      "0  Metaverse      Meta    200\n",
      "1     Google  Alphabet    700\n",
      "2  Microsoft      MSFT    500\n",
      "3      Tesla      TSLA   1000\n"
     ]
    }
   ],
   "source": [
    "companies=[[\"Metaverse\",\"Meta\",200],[\"Google\",\"Alphabet\",700],[\"Microsoft\",\"MSFT\",500],[\"Tesla\",\"TSLA\",1000]]\n",
    "print(companies)\n",
    "df_companies=pd.DataFrame(companies,columns=['Company',\"Shortcut\",\"Price\"])\n",
    "print(df_companies)"
   ]
  },
  {
   "cell_type": "code",
   "execution_count": 5,
   "id": "5690eaf5",
   "metadata": {},
   "outputs": [
    {
     "data": {
      "text/html": [
       "<div>\n",
       "<style scoped>\n",
       "    .dataframe tbody tr th:only-of-type {\n",
       "        vertical-align: middle;\n",
       "    }\n",
       "\n",
       "    .dataframe tbody tr th {\n",
       "        vertical-align: top;\n",
       "    }\n",
       "\n",
       "    .dataframe thead th {\n",
       "        text-align: right;\n",
       "    }\n",
       "</style>\n",
       "<table border=\"1\" class=\"dataframe\">\n",
       "  <thead>\n",
       "    <tr style=\"text-align: right;\">\n",
       "      <th></th>\n",
       "      <th>Apple</th>\n",
       "      <th>Tesla</th>\n",
       "    </tr>\n",
       "  </thead>\n",
       "  <tbody>\n",
       "    <tr>\n",
       "      <th>0</th>\n",
       "      <td>IPhone</td>\n",
       "      <td>Model S</td>\n",
       "    </tr>\n",
       "    <tr>\n",
       "      <th>1</th>\n",
       "      <td>Ipad</td>\n",
       "      <td>Model E</td>\n",
       "    </tr>\n",
       "    <tr>\n",
       "      <th>2</th>\n",
       "      <td>Imac</td>\n",
       "      <td>Model X</td>\n",
       "    </tr>\n",
       "  </tbody>\n",
       "</table>\n",
       "</div>"
      ],
      "text/plain": [
       "    Apple    Tesla\n",
       "0  IPhone  Model S\n",
       "1    Ipad  Model E\n",
       "2    Imac  Model X"
      ]
     },
     "execution_count": 5,
     "metadata": {},
     "output_type": "execute_result"
    }
   ],
   "source": [
    "pd.DataFrame({\"Apple\": [\"IPhone\", \"Ipad\",\"Imac\"], \"Tesla\": [\"Model S\", \"Model E\",\"Model X\"]})\n"
   ]
  },
  {
   "cell_type": "code",
   "execution_count": 6,
   "id": "234d80b5",
   "metadata": {},
   "outputs": [
    {
     "data": {
      "text/html": [
       "<div>\n",
       "<style scoped>\n",
       "    .dataframe tbody tr th:only-of-type {\n",
       "        vertical-align: middle;\n",
       "    }\n",
       "\n",
       "    .dataframe tbody tr th {\n",
       "        vertical-align: top;\n",
       "    }\n",
       "\n",
       "    .dataframe thead th {\n",
       "        text-align: right;\n",
       "    }\n",
       "</style>\n",
       "<table border=\"1\" class=\"dataframe\">\n",
       "  <thead>\n",
       "    <tr style=\"text-align: right;\">\n",
       "      <th></th>\n",
       "      <th>Apple</th>\n",
       "      <th>Tesla</th>\n",
       "    </tr>\n",
       "  </thead>\n",
       "  <tbody>\n",
       "    <tr>\n",
       "      <th>prod_1</th>\n",
       "      <td>IPhone</td>\n",
       "      <td>Model S</td>\n",
       "    </tr>\n",
       "    <tr>\n",
       "      <th>prod_2</th>\n",
       "      <td>Ipad</td>\n",
       "      <td>Model E</td>\n",
       "    </tr>\n",
       "    <tr>\n",
       "      <th>prod_3</th>\n",
       "      <td>Imac</td>\n",
       "      <td>Model X</td>\n",
       "    </tr>\n",
       "  </tbody>\n",
       "</table>\n",
       "</div>"
      ],
      "text/plain": [
       "         Apple    Tesla\n",
       "prod_1  IPhone  Model S\n",
       "prod_2    Ipad  Model E\n",
       "prod_3    Imac  Model X"
      ]
     },
     "execution_count": 6,
     "metadata": {},
     "output_type": "execute_result"
    }
   ],
   "source": [
    "pd.DataFrame({\"Apple\": [\"IPhone\", \"Ipad\",\"Imac\"], \"Tesla\": [\"Model S\", \"Model E\",\"Model X\"]},index=[\"prod_1\",\"prod_2\",\"prod_3\"])"
   ]
  },
  {
   "cell_type": "raw",
   "id": "3579c74c",
   "metadata": {},
   "source": [
    "Basic operation"
   ]
  },
  {
   "cell_type": "code",
   "execution_count": 9,
   "id": "70b84c3a",
   "metadata": {},
   "outputs": [
    {
     "data": {
      "text/html": [
       "<div>\n",
       "<style scoped>\n",
       "    .dataframe tbody tr th:only-of-type {\n",
       "        vertical-align: middle;\n",
       "    }\n",
       "\n",
       "    .dataframe tbody tr th {\n",
       "        vertical-align: top;\n",
       "    }\n",
       "\n",
       "    .dataframe thead th {\n",
       "        text-align: right;\n",
       "    }\n",
       "</style>\n",
       "<table border=\"1\" class=\"dataframe\">\n",
       "  <thead>\n",
       "    <tr style=\"text-align: right;\">\n",
       "      <th></th>\n",
       "      <th>Company</th>\n",
       "      <th>Seq</th>\n",
       "    </tr>\n",
       "  </thead>\n",
       "  <tbody>\n",
       "    <tr>\n",
       "      <th>5</th>\n",
       "      <td>Zoom</td>\n",
       "      <td>666</td>\n",
       "    </tr>\n",
       "    <tr>\n",
       "      <th>6</th>\n",
       "      <td>Microsoft</td>\n",
       "      <td>777</td>\n",
       "    </tr>\n",
       "  </tbody>\n",
       "</table>\n",
       "</div>"
      ],
      "text/plain": [
       "     Company  Seq\n",
       "5       Zoom  666\n",
       "6  Microsoft  777"
      ]
     },
     "execution_count": 9,
     "metadata": {},
     "output_type": "execute_result"
    }
   ],
   "source": [
    "companies3 = [[\"Apple\",111],[\"Facebook\",222],[\"Google\",333], [\"Amazon\", 444], [\"Tesla\", 555], [\"Zoom\", 666], [\"Microsoft\", 777]]\n",
    "df_companies3 = pd.DataFrame(companies3,columns=['Company','Seq'])\n",
    "#df_companies3.head()\n",
    "df_companies3.tail(2)"
   ]
  },
  {
   "cell_type": "code",
   "execution_count": 10,
   "id": "95dfed03",
   "metadata": {},
   "outputs": [
    {
     "name": "stdout",
     "output_type": "stream",
     "text": [
      "             0         1       2       3      4     5          6\n",
      "Company  Apple  Facebook  Google  Amazon  Tesla  Zoom  Microsoft\n",
      "Seq        111       222     333     444    555   666        777\n"
     ]
    }
   ],
   "source": [
    "print(df_companies3.T)"
   ]
  },
  {
   "cell_type": "code",
   "execution_count": 11,
   "id": "1fe823d4",
   "metadata": {},
   "outputs": [
    {
     "name": "stdout",
     "output_type": "stream",
     "text": [
      "2\n",
      "(7, 2)\n",
      "14\n"
     ]
    }
   ],
   "source": [
    "print(df_companies3.ndim)\n",
    "print(df_companies3.shape)\n",
    "print(df_companies3.size)\n"
   ]
  },
  {
   "cell_type": "raw",
   "id": "540f679a",
   "metadata": {},
   "source": [
    "further query\n",
    "contact: https://www.linkedin.com/in/vigneshwar2103/"
   ]
  }
 ],
 "metadata": {
  "kernelspec": {
   "display_name": "Python 3 (ipykernel)",
   "language": "python",
   "name": "python3"
  },
  "language_info": {
   "codemirror_mode": {
    "name": "ipython",
    "version": 3
   },
   "file_extension": ".py",
   "mimetype": "text/x-python",
   "name": "python",
   "nbconvert_exporter": "python",
   "pygments_lexer": "ipython3",
   "version": "3.10.8"
  }
 },
 "nbformat": 4,
 "nbformat_minor": 5
}
