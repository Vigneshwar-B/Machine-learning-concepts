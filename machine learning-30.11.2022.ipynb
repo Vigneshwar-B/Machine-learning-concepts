{
 "cells": [
  {
   "cell_type": "raw",
   "id": "9b5cd991",
   "metadata": {},
   "source": [
    "30/11/2022\n",
    "279. over view of machine learing\n",
    "introduction/feaute-feature eng-feature selection-visualization-ml algorithm-model selection-optimization-model deployment."
   ]
  },
  {
   "cell_type": "raw",
   "id": "77a0c74a",
   "metadata": {},
   "source": [
    "280. practical introduction to ml\n",
    "classical definition :\n",
    "    ml is the scientific study of algorithms and statistical model that computer systems use to perform\n",
    "    instruction , relying on patterns.\n",
    "ai->ml->dl->cv,nlp.\n",
    "key points\n",
    "1.study of algorithm\n",
    "2.perform specific task.\n",
    "3.rely on pattern\n",
    "4.based on training data\n",
    "5.make prediction\n",
    "6.without explicity being programmed."
   ]
  },
  {
   "cell_type": "raw",
   "id": "436bb314",
   "metadata": {},
   "source": [
    "281. what is ml?\n",
    "1.It is a thing labeller."
   ]
  },
  {
   "cell_type": "raw",
   "id": "c6027e5a",
   "metadata": {},
   "source": [
    "282. Application of machine learing\n",
    "1.netflix \n",
    "2.amazon.com \n",
    "3.faceboook autotagging \n",
    "4.youtube \n",
    "5.drones \n",
    "7.testla -> video and imagine \n",
    "8.pose detection ,fraud detection ,medical diagnosis.\n"
   ]
  },
  {
   "cell_type": "code",
   "execution_count": null,
   "id": "7c33025c",
   "metadata": {},
   "outputs": [],
   "source": [
    "283. Foundation of the mcahine learing lifecycle.\n",
    "a question->collect the data-> explore the data-> model the data -> answer.\n",
    "iterative development\n",
    "1. question (requirement analysis)\n",
    "    objective of the project.\n",
    "    path for analysis.\n",
    "    is there enough data.\n",
    "    classify or forcast.\n",
    "    supervised or unsupervised.\n",
    "2.collect the data ->database management,repositories,programming, data integration\n",
    "    what data is relevant \n",
    "    where can i find \n",
    "    where do data sources reside\n",
    "    is the access to the data readily available\n",
    "    are there any privacy issues\n",
    "    are the data available when the model is deployed in production.\n",
    "3.exploring the data\n",
    "    anomolies and patterm are noticable\n",
    "    too many variables\n",
    "    are data transformation \n",
    "4.model the data\n",
    "    highest predictive accuracy\n",
    "    which model best generalizes to new data\n",
    "    which model explains the correlation between the input and output.\n",
    "    which model address the business model.\n",
    "    train the model \n",
    "    validate all trained model \n",
    "    assess the model\n",
    "    select the best model.\n",
    "    \n",
    "    define sucess matrix\n",
    "5.provide the answer.\n",
    "    what lessons were learned from the training models.\n",
    "    story telling.\n",
    "    requirement specification documentaion.\n",
    "    \n",
    "    \n",
    "    "
   ]
  }
 ],
 "metadata": {
  "kernelspec": {
   "display_name": "Python 3 (ipykernel)",
   "language": "python",
   "name": "python3"
  },
  "language_info": {
   "codemirror_mode": {
    "name": "ipython",
    "version": 3
   },
   "file_extension": ".py",
   "mimetype": "text/x-python",
   "name": "python",
   "nbconvert_exporter": "python",
   "pygments_lexer": "ipython3",
   "version": "3.10.8"
  }
 },
 "nbformat": 4,
 "nbformat_minor": 5
}
