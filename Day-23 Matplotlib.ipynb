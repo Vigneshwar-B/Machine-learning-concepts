{
  "nbformat": 4,
  "nbformat_minor": 0,
  "metadata": {
    "colab": {
      "provenance": []
    }
  },
  "cells": [
    {
      "cell_type": "markdown",
      "source": [
        "#Plotting with Matplotlib"
      ],
      "metadata": {
        "id": "f1mSI-lsgs1_"
      }
    },
    {
      "cell_type": "markdown",
      "source": [
        "IPython works with the [Matplotlib](http://matplotlib.org/) plotting library, which integrates Matplotlib with IPython's display system and event loop handling."
      ],
      "metadata": {
        "id": "DCkhLsaBgs2F"
      }
    },
    {
      "cell_type": "markdown",
      "source": [
        "##matplotlib mode"
      ],
      "metadata": {
        "id": "AQV6zFO1gs2G"
      }
    },
    {
      "cell_type": "markdown",
      "source": [
        "To make plots using Matplotlib, you must first enable IPython's matplotlib mode.\n",
        "\n",
        "To do this, run the `%matplotlib` magic command to enable plotting in the current Notebook.\n",
        "\n",
        "This magic takes an optional argument that specifies which Matplotlib backend should be used.  Most of the time, in the Notebook, you will want to use the `inline` backend, which will embed plots inside the Notebook:"
      ],
      "metadata": {
        "id": "AxHqexSZgs2G"
      }
    },
    {
      "cell_type": "code",
      "source": [
        "%matplotlib inline"
      ],
      "outputs": [],
      "metadata": {
        "id": "BhFtbh60gs2H"
      },
      "execution_count": null
    },
    {
      "cell_type": "markdown",
      "source": [
        "You can also use Matplotlib GUI backends in the Notebook, such as the Qt backend (`%matplotlib qt`). This will use Matplotlib's interactive Qt UI in a floating window to the side of your browser. Of course, this only works if your browser is running on the same system as the Notebook Server.  You can always call the `display` function to paste figures into the Notebook document."
      ],
      "metadata": {
        "id": "XHtbWxvYgs2I"
      }
    },
    {
      "cell_type": "markdown",
      "source": [
        "##Making a simple plot"
      ],
      "metadata": {
        "id": "0kU67HPvgs2I"
      }
    },
    {
      "cell_type": "markdown",
      "source": [
        "With matplotlib enabled, plotting should just work."
      ],
      "metadata": {
        "id": "pjv-91ARgs2J"
      }
    },
    {
      "cell_type": "code",
      "source": [
        "import matplotlib.pyplot as plt\n",
        "import numpy as np"
      ],
      "outputs": [],
      "metadata": {
        "id": "WiE_hsLRgs2L"
      },
      "execution_count": null
    },
    {
      "cell_type": "code",
      "source": [
        "x = np.linspace(0, 3*np.pi, 500)\n",
        "plt.plot(x, np.sin(x**2))\n",
        "plt.title('A simple chirp');"
      ],
      "outputs": [
        {
          "output_type": "display_data",
          "data": {},
          "metadata": {}
        }
      ],
      "metadata": {
        "id": "j5tWl_mmgs2M",
        "outputId": "132999fe-6278-473e-e8d6-b8d848872609"
      },
      "execution_count": null
    },
    {
      "cell_type": "markdown",
      "source": [
        "These images can be resized by dragging the handle in the lower right corner.  Double clicking will return them to their original size."
      ],
      "metadata": {
        "id": "JAGYNvwbgs2O"
      }
    },
    {
      "cell_type": "markdown",
      "source": [
        "One thing to be aware of is that by default, the `Figure` object is cleared at the end of each cell, so you will need to issue all plotting commands for a single figure in a single cell."
      ],
      "metadata": {
        "id": "hksGNZWHgs2P"
      }
    },
    {
      "cell_type": "markdown",
      "source": [
        "##Loading Matplotlib demos with %load"
      ],
      "metadata": {
        "id": "jxT_z89Ggs2P"
      }
    },
    {
      "cell_type": "markdown",
      "source": [
        "IPython's `%load` magic can be used to load any Matplotlib demo by its URL:"
      ],
      "metadata": {
        "id": "ZMOO2ks-gs2Q"
      }
    },
    {
      "cell_type": "code",
      "source": [
        "%load http://matplotlib.sourceforge.net/mpl_examples/pylab_examples/integral_demo.py"
      ],
      "outputs": [],
      "metadata": {
        "id": "FTMWk2y0gs2Q"
      },
      "execution_count": null
    },
    {
      "cell_type": "code",
      "source": [
        "#!/usr/bin/env python\n",
        "\n",
        "# implement the example graphs/integral from pyx\n",
        "from pylab import *\n",
        "from matplotlib.patches import Polygon\n",
        "\n",
        "def func(x):\n",
        "    return (x-3)*(x-5)*(x-7)+85\n",
        "\n",
        "ax = subplot(111)\n",
        "\n",
        "a, b = 2, 9 # integral area\n",
        "x = arange(0, 10, 0.01)\n",
        "y = func(x)\n",
        "plot(x, y, linewidth=1)\n",
        "\n",
        "# make the shaded region\n",
        "ix = arange(a, b, 0.01)\n",
        "iy = func(ix)\n",
        "verts = [(a,0)] + list(zip(ix,iy)) + [(b,0)]\n",
        "poly = Polygon(verts, facecolor='0.8', edgecolor='k')\n",
        "ax.add_patch(poly)\n",
        "\n",
        "text(0.5 * (a + b), 30,\n",
        "     r\"$\\int_a^b f(x)\\mathrm{d}x$\", horizontalalignment='center',\n",
        "     fontsize=20)\n",
        "\n",
        "axis([0,10, 0, 180])\n",
        "figtext(0.9, 0.05, 'x')\n",
        "figtext(0.1, 0.9, 'y')\n",
        "ax.set_xticks((a,b))\n",
        "ax.set_xticklabels(('a','b'))\n",
        "ax.set_yticks([])\n",
        "show()\n"
      ],
      "outputs": [
        {
          "output_type": "display_data",
          "data": {},
          "metadata": {}
        }
      ],
      "metadata": {
        "id": "w4dNqZDtgs2Q",
        "outputId": "6a12f85e-9e73-404d-d801-8980f50b342a"
      },
      "execution_count": null
    }
  ]
}