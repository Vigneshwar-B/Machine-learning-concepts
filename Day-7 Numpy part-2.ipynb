{
 "cells": [
  {
   "cell_type": "code",
   "execution_count": null,
   "id": "d9b027a2",
   "metadata": {},
   "outputs": [],
   "source": [
    "# Numpy -2 Vigneshwar Day-7 "
   ]
  },
  {
   "cell_type": "markdown",
   "id": "8539a577",
   "metadata": {},
   "source": [
    "#### Finding standard deviation for a array"
   ]
  },
  {
   "cell_type": "code",
   "execution_count": 1,
   "id": "253e1f78",
   "metadata": {},
   "outputs": [
    {
     "data": {
      "text/plain": [
       "0.008423775875461286"
      ]
     },
     "execution_count": 1,
     "metadata": {},
     "output_type": "execute_result"
    }
   ],
   "source": [
    "import numpy as np\n",
    "x1=[8.116,8.125,8.125,8.129,8.130,8.137,8.137,8.141,8.136,8.146]\n",
    "np.std(x1)"
   ]
  },
  {
   "cell_type": "markdown",
   "id": "fc0a9612",
   "metadata": {},
   "source": [
    "#### Finding mean of the series"
   ]
  },
  {
   "cell_type": "code",
   "execution_count": 2,
   "id": "bcc1013a",
   "metadata": {},
   "outputs": [
    {
     "data": {
      "text/plain": [
       "8.1312"
      ]
     },
     "execution_count": 2,
     "metadata": {},
     "output_type": "execute_result"
    }
   ],
   "source": [
    "import numpy as np\n",
    "x=[8.112,8.118,8.124,8.130,8.136,8.137,8.138,8.139,8.137,8.141]\n",
    "np.mean(x)"
   ]
  },
  {
   "cell_type": "markdown",
   "id": "a1c5a741",
   "metadata": {},
   "source": [
    " #### program to perform matrix operations using numpy arrays."
   ]
  },
  {
   "cell_type": "code",
   "execution_count": 6,
   "id": "0d57ec53",
   "metadata": {},
   "outputs": [
    {
     "name": "stdout",
     "output_type": "stream",
     "text": [
      "[[4 6]\n",
      " [6 4]]\n",
      "[[-2 -2]\n",
      " [-2 -2]]\n"
     ]
    }
   ],
   "source": [
    "import numpy as np\n",
    "a=np.array([[1,2],[2,1]])\n",
    "b=np.array([[3,4],[4,3]])\n",
    "r1=np.add(a,b)\n",
    "r2=a-b\n",
    "print(r1)\n",
    "print(r2)"
   ]
  },
  {
   "cell_type": "markdown",
   "id": "fe120c86",
   "metadata": {},
   "source": [
    "#### program to perform matrix multiplication using numpy arrays"
   ]
  },
  {
   "cell_type": "code",
   "execution_count": 7,
   "id": "7e6df7ff",
   "metadata": {},
   "outputs": [
    {
     "name": "stdout",
     "output_type": "stream",
     "text": [
      "[[22 34]\n",
      " [46 74]]\n"
     ]
    }
   ],
   "source": [
    "import numpy as np\n",
    "a=[[2,4],[6,8]]\n",
    "b=[[1,3],[5,7]]\n",
    "print(np.matmul(a,b))"
   ]
  },
  {
   "cell_type": "markdown",
   "id": "6fa713f5",
   "metadata": {},
   "source": [
    "#### program to find transpose of a matrix using numpy arrays"
   ]
  },
  {
   "cell_type": "code",
   "execution_count": 9,
   "id": "04beeb72",
   "metadata": {},
   "outputs": [
    {
     "name": "stdout",
     "output_type": "stream",
     "text": [
      "[[1 3]\n",
      " [2 4]]\n"
     ]
    }
   ],
   "source": [
    "import numpy as np\n",
    "a=np.array([[1,2],[3,4]])\n",
    "b=a.transpose()\n",
    "print(b)"
   ]
  },
  {
   "cell_type": "markdown",
   "id": "af96e79e",
   "metadata": {},
   "source": [
    "#### program to convert an one dimensional array into a two dimensional array using numpy."
   ]
  },
  {
   "cell_type": "code",
   "execution_count": 16,
   "id": "44cb2857",
   "metadata": {},
   "outputs": [
    {
     "name": "stdout",
     "output_type": "stream",
     "text": [
      "After reshaping having dimension 4x2:\n",
      "[[1 2]\n",
      " [3 4]\n",
      " [5 6]\n",
      " [7 8]]\n",
      "\n",
      "\n",
      "After reshaping having dimension 2x4:\n",
      "[[1 2 3 4]\n",
      " [5 6 7 8]]\n",
      "\n",
      "\n"
     ]
    }
   ],
   "source": [
    "import numpy as np\n",
    "# 1-D array having elements [1 2 3 4 5 6 7 8]\n",
    "arr = np.array([1, 2, 3, 4, 5, 6, 7, 8])\n",
    "\n",
    "# Now we can convert this 1-D array into 2-D in two ways\n",
    "\n",
    "# 1. having dimension 4 x 2\n",
    "arr1 = arr.reshape(4, 2)\n",
    "print ('After reshaping having dimension 4x2:')\n",
    "print (arr1)\n",
    "print ('\\n')\n",
    "\n",
    "# 2. having dimension 2 x 4\n",
    "arr2 = arr.reshape(2, 4)\n",
    "print ('After reshaping having dimension 2x4:')\n",
    "print (arr2)\n",
    "print ('\\n')\n"
   ]
  }
 ],
 "metadata": {
  "kernelspec": {
   "display_name": "Python 3 (ipykernel)",
   "language": "python",
   "name": "python3"
  },
  "language_info": {
   "codemirror_mode": {
    "name": "ipython",
    "version": 3
   },
   "file_extension": ".py",
   "mimetype": "text/x-python",
   "name": "python",
   "nbconvert_exporter": "python",
   "pygments_lexer": "ipython3",
   "version": "3.10.8"
  }
 },
 "nbformat": 4,
 "nbformat_minor": 5
}
