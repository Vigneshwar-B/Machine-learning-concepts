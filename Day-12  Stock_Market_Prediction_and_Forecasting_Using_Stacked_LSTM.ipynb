{
 "cells": [
  {
   "cell_type": "markdown",
   "metadata": {
    "id": "2Ipg4HyjfuOY"
   },
   "source": [
    "# Lets Grow More Internship December-2022\n",
    "#### Done by Vigneshwar-B "
   ]
  },
  {
   "cell_type": "markdown",
   "metadata": {},
   "source": [
    "# Stock Market Prediction and Forecasting Using Stacked LSTM\n",
    "Using Keras and Tensorflow\n",
    "\n",
    "##### Dataset\n",
    "Yahoo Finance - Stock of Reliance Industries Limited\n",
    "find data set @- https://github.com/Vigneshwar-B/Data-set/blob/main/Reliance.csv"
   ]
  },
  {
   "cell_type": "code",
   "execution_count": 1,
   "metadata": {
    "id": "KznT42hsfuOj"
   },
   "outputs": [],
   "source": [
    "#Import necessary Libraries\n",
    "import pandas as pd\n",
    "import numpy as np\n",
    "import math\n",
    "import matplotlib.pyplot as plt\n",
    "from sklearn.preprocessing import MinMaxScaler\n",
    "from sklearn.metrics import mean_squared_error\n",
    "import tensorflow as tf\n",
    "from tensorflow.python.keras.models import Sequential\n",
    "from tensorflow.python.keras.layers import Dense\n",
    "from tensorflow.python.keras.layers import LSTM\n",
    "%matplotlib inline"
   ]
  },
  {
   "cell_type": "code",
   "execution_count": 2,
   "metadata": {},
   "outputs": [
    {
     "data": {
      "text/html": [
       "<div>\n",
       "<style scoped>\n",
       "    .dataframe tbody tr th:only-of-type {\n",
       "        vertical-align: middle;\n",
       "    }\n",
       "\n",
       "    .dataframe tbody tr th {\n",
       "        vertical-align: top;\n",
       "    }\n",
       "\n",
       "    .dataframe thead th {\n",
       "        text-align: right;\n",
       "    }\n",
       "</style>\n",
       "<table border=\"1\" class=\"dataframe\">\n",
       "  <thead>\n",
       "    <tr style=\"text-align: right;\">\n",
       "      <th></th>\n",
       "      <th>Date</th>\n",
       "      <th>Open</th>\n",
       "      <th>High</th>\n",
       "      <th>Low</th>\n",
       "      <th>Close</th>\n",
       "      <th>Adj Close</th>\n",
       "      <th>Volume</th>\n",
       "    </tr>\n",
       "  </thead>\n",
       "  <tbody>\n",
       "    <tr>\n",
       "      <th>0</th>\n",
       "      <td>2015-11-18</td>\n",
       "      <td>463.799988</td>\n",
       "      <td>465.649994</td>\n",
       "      <td>454.975006</td>\n",
       "      <td>456.000000</td>\n",
       "      <td>436.671021</td>\n",
       "      <td>5142766.0</td>\n",
       "    </tr>\n",
       "    <tr>\n",
       "      <th>1</th>\n",
       "      <td>2015-11-19</td>\n",
       "      <td>459.450012</td>\n",
       "      <td>469.350006</td>\n",
       "      <td>458.625000</td>\n",
       "      <td>467.375000</td>\n",
       "      <td>447.563873</td>\n",
       "      <td>5569752.0</td>\n",
       "    </tr>\n",
       "    <tr>\n",
       "      <th>2</th>\n",
       "      <td>2015-11-20</td>\n",
       "      <td>467.000000</td>\n",
       "      <td>476.399994</td>\n",
       "      <td>462.774994</td>\n",
       "      <td>473.424988</td>\n",
       "      <td>453.357422</td>\n",
       "      <td>5167930.0</td>\n",
       "    </tr>\n",
       "    <tr>\n",
       "      <th>3</th>\n",
       "      <td>2015-11-23</td>\n",
       "      <td>475.000000</td>\n",
       "      <td>478.950012</td>\n",
       "      <td>473.100006</td>\n",
       "      <td>476.875000</td>\n",
       "      <td>456.661224</td>\n",
       "      <td>4800026.0</td>\n",
       "    </tr>\n",
       "    <tr>\n",
       "      <th>4</th>\n",
       "      <td>2015-11-24</td>\n",
       "      <td>476.500000</td>\n",
       "      <td>485.799988</td>\n",
       "      <td>475.524994</td>\n",
       "      <td>483.850006</td>\n",
       "      <td>463.340515</td>\n",
       "      <td>6768886.0</td>\n",
       "    </tr>\n",
       "  </tbody>\n",
       "</table>\n",
       "</div>"
      ],
      "text/plain": [
       "         Date        Open        High         Low       Close   Adj Close  \\\n",
       "0  2015-11-18  463.799988  465.649994  454.975006  456.000000  436.671021   \n",
       "1  2015-11-19  459.450012  469.350006  458.625000  467.375000  447.563873   \n",
       "2  2015-11-20  467.000000  476.399994  462.774994  473.424988  453.357422   \n",
       "3  2015-11-23  475.000000  478.950012  473.100006  476.875000  456.661224   \n",
       "4  2015-11-24  476.500000  485.799988  475.524994  483.850006  463.340515   \n",
       "\n",
       "      Volume  \n",
       "0  5142766.0  \n",
       "1  5569752.0  \n",
       "2  5167930.0  \n",
       "3  4800026.0  \n",
       "4  6768886.0  "
      ]
     },
     "execution_count": 2,
     "metadata": {},
     "output_type": "execute_result"
    }
   ],
   "source": [
    "#Import the data and remove rows containing NAN values\n",
    "df = pd.read_csv('Reliance.csv')\n",
    "df = df.dropna()\n",
    "df.head()"
   ]
  },
  {
   "cell_type": "code",
   "execution_count": 3,
   "metadata": {
    "id": "bbqhKE3SfuOn",
    "outputId": "04253fbe-4b27-44be-a684-0232c9b82f89"
   },
   "outputs": [
    {
     "data": {
      "text/html": [
       "<div>\n",
       "<style scoped>\n",
       "    .dataframe tbody tr th:only-of-type {\n",
       "        vertical-align: middle;\n",
       "    }\n",
       "\n",
       "    .dataframe tbody tr th {\n",
       "        vertical-align: top;\n",
       "    }\n",
       "\n",
       "    .dataframe thead th {\n",
       "        text-align: right;\n",
       "    }\n",
       "</style>\n",
       "<table border=\"1\" class=\"dataframe\">\n",
       "  <thead>\n",
       "    <tr style=\"text-align: right;\">\n",
       "      <th></th>\n",
       "      <th>Date</th>\n",
       "      <th>Open</th>\n",
       "      <th>High</th>\n",
       "      <th>Low</th>\n",
       "      <th>Close</th>\n",
       "      <th>Adj Close</th>\n",
       "      <th>Volume</th>\n",
       "    </tr>\n",
       "  </thead>\n",
       "  <tbody>\n",
       "    <tr>\n",
       "      <th>1228</th>\n",
       "      <td>2020-11-10</td>\n",
       "      <td>2077.0</td>\n",
       "      <td>2090.000000</td>\n",
       "      <td>2041.199951</td>\n",
       "      <td>2084.550049</td>\n",
       "      <td>2084.550049</td>\n",
       "      <td>17045147.0</td>\n",
       "    </tr>\n",
       "    <tr>\n",
       "      <th>1229</th>\n",
       "      <td>2020-11-11</td>\n",
       "      <td>2089.0</td>\n",
       "      <td>2095.000000</td>\n",
       "      <td>1978.099976</td>\n",
       "      <td>1997.199951</td>\n",
       "      <td>1997.199951</td>\n",
       "      <td>26178477.0</td>\n",
       "    </tr>\n",
       "    <tr>\n",
       "      <th>1230</th>\n",
       "      <td>2020-11-12</td>\n",
       "      <td>1981.0</td>\n",
       "      <td>2008.449951</td>\n",
       "      <td>1965.000000</td>\n",
       "      <td>1980.000000</td>\n",
       "      <td>1980.000000</td>\n",
       "      <td>18481466.0</td>\n",
       "    </tr>\n",
       "    <tr>\n",
       "      <th>1231</th>\n",
       "      <td>2020-11-13</td>\n",
       "      <td>1982.0</td>\n",
       "      <td>2036.650024</td>\n",
       "      <td>1981.750000</td>\n",
       "      <td>1996.400024</td>\n",
       "      <td>1996.400024</td>\n",
       "      <td>20946864.0</td>\n",
       "    </tr>\n",
       "    <tr>\n",
       "      <th>1232</th>\n",
       "      <td>2020-11-17</td>\n",
       "      <td>2085.0</td>\n",
       "      <td>2085.000000</td>\n",
       "      <td>1985.000000</td>\n",
       "      <td>1993.250000</td>\n",
       "      <td>1993.250000</td>\n",
       "      <td>21479385.0</td>\n",
       "    </tr>\n",
       "  </tbody>\n",
       "</table>\n",
       "</div>"
      ],
      "text/plain": [
       "            Date    Open         High          Low        Close    Adj Close  \\\n",
       "1228  2020-11-10  2077.0  2090.000000  2041.199951  2084.550049  2084.550049   \n",
       "1229  2020-11-11  2089.0  2095.000000  1978.099976  1997.199951  1997.199951   \n",
       "1230  2020-11-12  1981.0  2008.449951  1965.000000  1980.000000  1980.000000   \n",
       "1231  2020-11-13  1982.0  2036.650024  1981.750000  1996.400024  1996.400024   \n",
       "1232  2020-11-17  2085.0  2085.000000  1985.000000  1993.250000  1993.250000   \n",
       "\n",
       "          Volume  \n",
       "1228  17045147.0  \n",
       "1229  26178477.0  \n",
       "1230  18481466.0  \n",
       "1231  20946864.0  \n",
       "1232  21479385.0  "
      ]
     },
     "execution_count": 3,
     "metadata": {},
     "output_type": "execute_result"
    }
   ],
   "source": [
    "df.tail()"
   ]
  },
  {
   "cell_type": "code",
   "execution_count": 4,
   "metadata": {
    "id": "tiPqs3JUfuOo"
   },
   "outputs": [],
   "source": [
    "df_close = df['Close']"
   ]
  },
  {
   "cell_type": "code",
   "execution_count": 5,
   "metadata": {
    "id": "mnFq1kSRfuOp",
    "outputId": "0f41ac1b-a3ba-444e-c5c8-0ae6b5186389"
   },
   "outputs": [
    {
     "data": {
      "text/plain": [
       "(1232,)"
      ]
     },
     "execution_count": 5,
     "metadata": {},
     "output_type": "execute_result"
    }
   ],
   "source": [
    "df_close.shape"
   ]
  },
  {
   "cell_type": "code",
   "execution_count": 6,
   "metadata": {
    "id": "NETtlBZyfuOq",
    "outputId": "f35ec19f-db20-4330-c6d6-30d5a89ec356"
   },
   "outputs": [
    {
     "data": {
      "text/plain": [
       "[<matplotlib.lines.Line2D at 0x21e38e8b370>]"
      ]
     },
     "execution_count": 6,
     "metadata": {},
     "output_type": "execute_result"
    },
    {
     "data": {
      "image/png": "[encoded data removed]",
      "text/plain": [
       "<Figure size 640x480 with 1 Axes>"
      ]
     },
     "metadata": {},
     "output_type": "display_data"
    }
   ],
   "source": [
    "plt.plot(df_close)"
   ]
  },
  {
   "cell_type": "markdown",
   "metadata": {
    "id": "gbc8NL9OfuOr"
   },
   "source": [
    "Since LSTM are sensitive to the scale of the data, so we apply MinMax Scaler to transform our values between 0 and 1"
   ]
  },
  {
   "cell_type": "code",
   "execution_count": 7,
   "metadata": {
    "id": "6ZiLKa72fuOr"
   },
   "outputs": [],
   "source": [
    "scaler = MinMaxScaler(feature_range = (0,1))\n",
    "df_close = scaler.fit_transform(np.array(df_close).reshape(-1,1))"
   ]
  },
  {
   "cell_type": "code",
   "execution_count": 8,
   "metadata": {
    "id": "w8BjYWoRfuOt",
    "outputId": "a9cde37b-a935-4148-d86e-e0c73280eefb"
   },
   "outputs": [
    {
     "data": {
      "text/plain": [
       "(1232, 1)"
      ]
     },
     "execution_count": 8,
     "metadata": {},
     "output_type": "execute_result"
    }
   ],
   "source": [
    "df_close.shape"
   ]
  },
  {
   "cell_type": "code",
   "execution_count": 9,
   "metadata": {
    "id": "ziE6PbzEfuOt",
    "outputId": "ab0d7c8a-c825-4075-8377-7f26639f6448"
   },
   "outputs": [
    {
     "data": {
      "text/plain": [
       "array([[0.00145623],\n",
       "       [0.00753497],\n",
       "       [0.01076806],\n",
       "       ...,\n",
       "       [0.81587418],\n",
       "       [0.82463827],\n",
       "       [0.82295492]])"
      ]
     },
     "execution_count": 9,
     "metadata": {},
     "output_type": "execute_result"
    }
   ],
   "source": [
    "df_close"
   ]
  },
  {
   "cell_type": "code",
   "execution_count": 10,
   "metadata": {
    "id": "7pjVyEGmfuOu"
   },
   "outputs": [],
   "source": [
    "#Split the data into train and test split\n",
    "training_size = int(len(df_close) * 0.75)\n",
    "test_size = len(df_close) - training_size\n",
    "train_data, test_data = df_close[0:training_size,:], df_close[training_size:len(df_close),:1]"
   ]
  },
  {
   "cell_type": "code",
   "execution_count": 11,
   "metadata": {
    "id": "xUmqRS2WfuOv"
   },
   "outputs": [],
   "source": [
    "def create_dataset(dataset, time_step = 1):\n",
    "    dataX, dataY = [], []\n",
    "    for i in range(len(dataset) - time_step - 1):\n",
    "        a = dataset[i:(i+time_step), 0]\n",
    "        dataX.append(a)\n",
    "        dataY.append(dataset[i+time_step, 0])\n",
    "    return np.array(dataX), np.array(dataY)"
   ]
  },
  {
   "cell_type": "code",
   "execution_count": 12,
   "metadata": {
    "id": "M_tUH8vgfuOv"
   },
   "outputs": [],
   "source": [
    "time_step = 100\n",
    "x_train, y_train = create_dataset(train_data, time_step)\n",
    "x_test, y_test = create_dataset(test_data, time_step)"
   ]
  },
  {
   "cell_type": "code",
   "execution_count": 13,
   "metadata": {
    "id": "Z6Ny0TwtfuOx"
   },
   "outputs": [],
   "source": [
    "#Reshape the input to be [samples, time steps, features] which is the requirement of LSTM\n",
    "x_train = x_train.reshape(x_train.shape[0], x_train.shape[1], 1)\n",
    "x_test = x_test.reshape(x_test.shape[0], x_test.shape[1], 1)"
   ]
  },
  {
   "cell_type": "code",
   "execution_count": 14,
   "metadata": {
    "id": "IL2m5LYZfuOy",
    "outputId": "4d11041b-8bcc-4bb3-e65f-ca36e2833844"
   },
   "outputs": [],
   "source": [
    "#Create the LSTM Model\n",
    "model = Sequential()\n",
    "model.add(LSTM(50, return_sequences = True, input_shape = (100,1)))\n",
    "model.add(LSTM(50, return_sequences = True))\n",
    "model.add(LSTM(50))\n",
    "model.add(Dense(1))\n",
    "model.compile(loss = 'mean_squared_error', optimizer = 'adam')\n"
   ]
  },
  {
   "cell_type": "code",
   "execution_count": 15,
   "metadata": {
    "id": "nCDi1PH6fuOz",
    "outputId": "d79ea2da-2cbb-400e-fec1-efd2b7d3ecdf"
   },
   "outputs": [
    {
     "name": "stdout",
     "output_type": "stream",
     "text": [
      "Model: \"sequential\"\n",
      "_________________________________________________________________\n",
      "Layer (type)                 Output Shape              Param #   \n",
      "=================================================================\n",
      "lstm (LSTM)                  (None, 100, 50)           10400     \n",
      "_________________________________________________________________\n",
      "lstm_1 (LSTM)                (None, 100, 50)           20200     \n",
      "_________________________________________________________________\n",
      "lstm_2 (LSTM)                (None, 50)                20200     \n",
      "_________________________________________________________________\n",
      "dense (Dense)                (None, 1)                 51        \n",
      "=================================================================\n",
      "Total params: 50,851\n",
      "Trainable params: 50,851\n",
      "Non-trainable params: 0\n",
      "_________________________________________________________________\n"
     ]
    }
   ],
   "source": [
    "model.summary()"
   ]
  },
  {
   "cell_type": "code",
   "execution_count": 16,
   "metadata": {
    "id": "ncOvlTVQfuO0",
    "outputId": "89506abe-6762-40a1-e302-d07309e205e8"
   },
   "outputs": [
    {
     "name": "stdout",
     "output_type": "stream",
     "text": [
      "Epoch 1/100\n",
      "13/13 [==============================] - 20s 467ms/step - loss: 0.0234 - val_loss: 0.0630\n",
      "Epoch 2/100\n",
      "13/13 [==============================] - 4s 297ms/step - loss: 0.0051 - val_loss: 0.0059\n",
      "Epoch 3/100\n",
      "13/13 [==============================] - 3s 263ms/step - loss: 0.0016 - val_loss: 0.0054\n",
      "Epoch 4/100\n",
      "13/13 [==============================] - 3s 259ms/step - loss: 7.0871e-04 - val_loss: 0.0059\n",
      "Epoch 5/100\n",
      "13/13 [==============================] - 3s 269ms/step - loss: 5.4859e-04 - val_loss: 0.0068\n",
      "Epoch 6/100\n",
      "13/13 [==============================] - 3s 267ms/step - loss: 4.9976e-04 - val_loss: 0.0055\n",
      "Epoch 7/100\n",
      "13/13 [==============================] - 3s 256ms/step - loss: 4.8960e-04 - val_loss: 0.0058\n",
      "Epoch 8/100\n",
      "13/13 [==============================] - 3s 237ms/step - loss: 4.8806e-04 - val_loss: 0.0058\n",
      "Epoch 9/100\n",
      "13/13 [==============================] - 3s 230ms/step - loss: 5.0710e-04 - val_loss: 0.0062\n",
      "Epoch 10/100\n",
      "13/13 [==============================] - 3s 232ms/step - loss: 5.0160e-04 - val_loss: 0.0063\n",
      "Epoch 11/100\n",
      "13/13 [==============================] - 3s 266ms/step - loss: 4.7620e-04 - val_loss: 0.0069\n",
      "Epoch 12/100\n",
      "13/13 [==============================] - 4s 271ms/step - loss: 4.6371e-04 - val_loss: 0.0064\n",
      "Epoch 13/100\n",
      "13/13 [==============================] - 3s 251ms/step - loss: 4.8008e-04 - val_loss: 0.0067\n",
      "Epoch 14/100\n",
      "13/13 [==============================] - 3s 228ms/step - loss: 4.7975e-04 - val_loss: 0.0069\n",
      "Epoch 15/100\n",
      "13/13 [==============================] - 3s 240ms/step - loss: 4.6734e-04 - val_loss: 0.0082\n",
      "Epoch 16/100\n",
      "13/13 [==============================] - 4s 272ms/step - loss: 4.3716e-04 - val_loss: 0.0083\n",
      "Epoch 17/100\n",
      "13/13 [==============================] - 4s 273ms/step - loss: 4.3049e-04 - val_loss: 0.0088\n",
      "Epoch 18/100\n",
      "13/13 [==============================] - 3s 249ms/step - loss: 4.3693e-04 - val_loss: 0.0094\n",
      "Epoch 19/100\n",
      "13/13 [==============================] - 3s 256ms/step - loss: 4.2950e-04 - val_loss: 0.0072\n",
      "Epoch 20/100\n",
      "13/13 [==============================] - 3s 270ms/step - loss: 4.4144e-04 - val_loss: 0.0075\n",
      "Epoch 21/100\n",
      "13/13 [==============================] - 4s 271ms/step - loss: 4.2692e-04 - val_loss: 0.0087\n",
      "Epoch 22/100\n",
      "13/13 [==============================] - 3s 235ms/step - loss: 4.1480e-04 - val_loss: 0.0096\n",
      "Epoch 23/100\n",
      "13/13 [==============================] - 3s 262ms/step - loss: 4.2272e-04 - val_loss: 0.0079\n",
      "Epoch 24/100\n",
      "13/13 [==============================] - 4s 273ms/step - loss: 4.1009e-04 - val_loss: 0.0078\n",
      "Epoch 25/100\n",
      "13/13 [==============================] - 4s 275ms/step - loss: 4.0710e-04 - val_loss: 0.0077\n",
      "Epoch 26/100\n",
      "13/13 [==============================] - 3s 231ms/step - loss: 4.3366e-04 - val_loss: 0.0084\n",
      "Epoch 27/100\n",
      "13/13 [==============================] - 4s 276ms/step - loss: 4.0262e-04 - val_loss: 0.0093\n",
      "Epoch 28/100\n",
      "13/13 [==============================] - 4s 277ms/step - loss: 3.9215e-04 - val_loss: 0.0088\n",
      "Epoch 29/100\n",
      "13/13 [==============================] - 4s 270ms/step - loss: 3.8737e-04 - val_loss: 0.0083\n",
      "Epoch 30/100\n",
      "13/13 [==============================] - 3s 244ms/step - loss: 3.8253e-04 - val_loss: 0.0071\n",
      "Epoch 31/100\n",
      "13/13 [==============================] - 4s 276ms/step - loss: 4.1600e-04 - val_loss: 0.0083\n",
      "Epoch 32/100\n",
      "13/13 [==============================] - 4s 282ms/step - loss: 4.3653e-04 - val_loss: 0.0062\n",
      "Epoch 33/100\n",
      "13/13 [==============================] - 4s 273ms/step - loss: 4.1625e-04 - val_loss: 0.0085\n",
      "Epoch 34/100\n",
      "13/13 [==============================] - 3s 234ms/step - loss: 3.8051e-04 - val_loss: 0.0090\n",
      "Epoch 35/100\n",
      "13/13 [==============================] - 3s 239ms/step - loss: 3.9293e-04 - val_loss: 0.0063\n",
      "Epoch 36/100\n",
      "13/13 [==============================] - 3s 240ms/step - loss: 3.6654e-04 - val_loss: 0.0099\n",
      "Epoch 37/100\n",
      "13/13 [==============================] - 3s 269ms/step - loss: 3.9968e-04 - val_loss: 0.0067\n",
      "Epoch 38/100\n",
      "13/13 [==============================] - 3s 269ms/step - loss: 3.7061e-04 - val_loss: 0.0081\n",
      "Epoch 39/100\n",
      "13/13 [==============================] - 4s 290ms/step - loss: 3.7046e-04 - val_loss: 0.0062\n",
      "Epoch 40/100\n",
      "13/13 [==============================] - 4s 288ms/step - loss: 3.5322e-04 - val_loss: 0.0067\n",
      "Epoch 41/100\n",
      "13/13 [==============================] - 3s 256ms/step - loss: 3.7154e-04 - val_loss: 0.0063\n",
      "Epoch 42/100\n",
      "13/13 [==============================] - 3s 251ms/step - loss: 3.5180e-04 - val_loss: 0.0075\n",
      "Epoch 43/100\n",
      "13/13 [==============================] - 3s 255ms/step - loss: 3.6225e-04 - val_loss: 0.0071\n",
      "Epoch 44/100\n",
      "13/13 [==============================] - 4s 281ms/step - loss: 3.7129e-04 - val_loss: 0.0041\n",
      "Epoch 45/100\n",
      "13/13 [==============================] - 4s 280ms/step - loss: 4.2304e-04 - val_loss: 0.0092\n",
      "Epoch 46/100\n",
      "13/13 [==============================] - 3s 269ms/step - loss: 3.4661e-04 - val_loss: 0.0065\n",
      "Epoch 47/100\n",
      "13/13 [==============================] - 3s 269ms/step - loss: 3.3364e-04 - val_loss: 0.0061\n",
      "Epoch 48/100\n",
      "13/13 [==============================] - 4s 292ms/step - loss: 3.3229e-04 - val_loss: 0.0065\n",
      "Epoch 49/100\n",
      "13/13 [==============================] - 3s 251ms/step - loss: 3.2707e-04 - val_loss: 0.0069\n",
      "Epoch 50/100\n",
      "13/13 [==============================] - 3s 266ms/step - loss: 3.2516e-04 - val_loss: 0.0055\n",
      "Epoch 51/100\n",
      "13/13 [==============================] - 4s 289ms/step - loss: 3.3100e-04 - val_loss: 0.0057\n",
      "Epoch 52/100\n",
      "13/13 [==============================] - 4s 275ms/step - loss: 3.3256e-04 - val_loss: 0.0059\n",
      "Epoch 53/100\n",
      "13/13 [==============================] - 3s 233ms/step - loss: 3.1583e-04 - val_loss: 0.0065\n",
      "Epoch 54/100\n",
      "13/13 [==============================] - 3s 266ms/step - loss: 3.2586e-04 - val_loss: 0.0050\n",
      "Epoch 55/100\n",
      "13/13 [==============================] - 4s 307ms/step - loss: 3.3025e-04 - val_loss: 0.0050\n",
      "Epoch 56/100\n",
      "13/13 [==============================] - 4s 304ms/step - loss: 3.1015e-04 - val_loss: 0.0073\n",
      "Epoch 57/100\n",
      "13/13 [==============================] - 4s 279ms/step - loss: 3.3720e-04 - val_loss: 0.0061\n",
      "Epoch 58/100\n",
      "13/13 [==============================] - 4s 278ms/step - loss: 3.1238e-04 - val_loss: 0.0046\n",
      "Epoch 59/100\n",
      "13/13 [==============================] - 4s 275ms/step - loss: 3.2516e-04 - val_loss: 0.0065\n",
      "Epoch 60/100\n",
      "13/13 [==============================] - 4s 278ms/step - loss: 3.1074e-04 - val_loss: 0.0055\n",
      "Epoch 61/100\n",
      "13/13 [==============================] - 3s 267ms/step - loss: 3.0182e-04 - val_loss: 0.0056\n",
      "Epoch 62/100\n",
      "13/13 [==============================] - 3s 254ms/step - loss: 3.2661e-04 - val_loss: 0.0043\n",
      "Epoch 63/100\n",
      "13/13 [==============================] - 3s 252ms/step - loss: 3.2708e-04 - val_loss: 0.0043\n",
      "Epoch 64/100\n",
      "13/13 [==============================] - 4s 312ms/step - loss: 3.1230e-04 - val_loss: 0.0057\n",
      "Epoch 65/100\n",
      "13/13 [==============================] - 4s 337ms/step - loss: 3.1522e-04 - val_loss: 0.0085\n",
      "Epoch 66/100\n",
      "13/13 [==============================] - 4s 297ms/step - loss: 3.2792e-04 - val_loss: 0.0048\n",
      "Epoch 67/100\n",
      "13/13 [==============================] - 4s 306ms/step - loss: 2.9360e-04 - val_loss: 0.0048\n",
      "Epoch 68/100\n",
      "13/13 [==============================] - 4s 289ms/step - loss: 2.8634e-04 - val_loss: 0.0041\n",
      "Epoch 69/100\n",
      "13/13 [==============================] - 4s 278ms/step - loss: 2.9692e-04 - val_loss: 0.0080\n",
      "Epoch 70/100\n",
      "13/13 [==============================] - 4s 276ms/step - loss: 3.0042e-04 - val_loss: 0.0054\n",
      "Epoch 71/100\n",
      "13/13 [==============================] - 4s 275ms/step - loss: 2.9953e-04 - val_loss: 0.0044\n",
      "Epoch 72/100\n",
      "13/13 [==============================] - 3s 256ms/step - loss: 2.9605e-04 - val_loss: 0.0048\n",
      "Epoch 73/100\n",
      "13/13 [==============================] - 4s 287ms/step - loss: 3.3753e-04 - val_loss: 0.0065\n",
      "Epoch 74/100\n",
      "13/13 [==============================] - 4s 282ms/step - loss: 3.5128e-04 - val_loss: 0.0070\n",
      "Epoch 75/100\n",
      "13/13 [==============================] - 4s 285ms/step - loss: 2.8241e-04 - val_loss: 0.0048\n",
      "Epoch 76/100\n",
      "13/13 [==============================] - 3s 260ms/step - loss: 2.6908e-04 - val_loss: 0.0053\n",
      "Epoch 77/100\n",
      "13/13 [==============================] - 4s 278ms/step - loss: 2.6772e-04 - val_loss: 0.0049\n",
      "Epoch 78/100\n",
      "13/13 [==============================] - 4s 272ms/step - loss: 2.7109e-04 - val_loss: 0.0052\n",
      "Epoch 79/100\n",
      "13/13 [==============================] - 3s 231ms/step - loss: 2.6629e-04 - val_loss: 0.0036\n",
      "Epoch 80/100\n",
      "13/13 [==============================] - 3s 267ms/step - loss: 2.7944e-04 - val_loss: 0.0030\n",
      "Epoch 81/100\n",
      "13/13 [==============================] - 4s 283ms/step - loss: 2.7740e-04 - val_loss: 0.0047\n",
      "Epoch 82/100\n",
      "13/13 [==============================] - 4s 321ms/step - loss: 2.5392e-04 - val_loss: 0.0055\n",
      "Epoch 83/100\n",
      "13/13 [==============================] - 4s 303ms/step - loss: 2.9655e-04 - val_loss: 0.0052\n",
      "Epoch 84/100\n",
      "13/13 [==============================] - 4s 282ms/step - loss: 2.8344e-04 - val_loss: 0.0048\n",
      "Epoch 85/100\n",
      "13/13 [==============================] - 4s 269ms/step - loss: 2.5755e-04 - val_loss: 0.0049\n",
      "Epoch 86/100\n",
      "13/13 [==============================] - 4s 272ms/step - loss: 2.5024e-04 - val_loss: 0.0049\n",
      "Epoch 87/100\n",
      "13/13 [==============================] - 4s 301ms/step - loss: 2.6787e-04 - val_loss: 0.0059\n",
      "Epoch 88/100\n",
      "13/13 [==============================] - 4s 316ms/step - loss: 2.6716e-04 - val_loss: 0.0053\n",
      "Epoch 89/100\n",
      "13/13 [==============================] - 4s 316ms/step - loss: 2.8920e-04 - val_loss: 0.0033\n",
      "Epoch 90/100\n",
      "13/13 [==============================] - 4s 343ms/step - loss: 2.6844e-04 - val_loss: 0.0034\n",
      "Epoch 91/100\n",
      "13/13 [==============================] - 3s 239ms/step - loss: 2.4812e-04 - val_loss: 0.0051\n",
      "Epoch 92/100\n",
      "13/13 [==============================] - 3s 241ms/step - loss: 2.7477e-04 - val_loss: 0.0042\n",
      "Epoch 93/100\n",
      "13/13 [==============================] - 4s 301ms/step - loss: 2.5685e-04 - val_loss: 0.0032\n",
      "Epoch 94/100\n",
      "13/13 [==============================] - 4s 332ms/step - loss: 2.3896e-04 - val_loss: 0.0035\n",
      "Epoch 95/100\n",
      "13/13 [==============================] - 4s 337ms/step - loss: 2.3868e-04 - val_loss: 0.0049\n",
      "Epoch 96/100\n",
      "13/13 [==============================] - 4s 336ms/step - loss: 2.6474e-04 - val_loss: 0.0056\n",
      "Epoch 97/100\n",
      "13/13 [==============================] - 5s 350ms/step - loss: 2.3380e-04 - val_loss: 0.0039\n",
      "Epoch 98/100\n",
      "13/13 [==============================] - 4s 321ms/step - loss: 2.4944e-04 - val_loss: 0.0031\n",
      "Epoch 99/100\n",
      "13/13 [==============================] - 5s 381ms/step - loss: 2.3119e-04 - val_loss: 0.0026\n",
      "Epoch 100/100\n",
      "13/13 [==============================] - 4s 277ms/step - loss: 2.6045e-04 - val_loss: 0.0039\n"
     ]
    },
    {
     "data": {
      "text/plain": [
       "<tensorflow.python.keras.callbacks.History at 0x21e3b258d90>"
      ]
     },
     "execution_count": 16,
     "metadata": {},
     "output_type": "execute_result"
    }
   ],
   "source": [
    "model.fit(x_train, y_train, validation_data = (x_test, y_test), epochs = 100, batch_size = 64, verbose = 1)"
   ]
  },
  {
   "cell_type": "code",
   "execution_count": 17,
   "metadata": {
    "id": "bXmZGT3yfuO1"
   },
   "outputs": [],
   "source": [
    "#Lets predict and check performance metrics\n",
    "train_predict = model.predict(x_train)\n",
    "test_predict = model.predict(x_test)"
   ]
  },
  {
   "cell_type": "code",
   "execution_count": 18,
   "metadata": {
    "id": "o68sOws0fuO2"
   },
   "outputs": [],
   "source": [
    "#Transform back to original form\n",
    "train_predict = scaler.inverse_transform(train_predict)\n",
    "test_predict = scaler.inverse_transform(test_predict)"
   ]
  },
  {
   "cell_type": "code",
   "execution_count": 19,
   "metadata": {
    "id": "0LMetE3JfuO2",
    "outputId": "b6168ee5-acf6-4cf2-d2ca-519be9079ef2"
   },
   "outputs": [
    {
     "data": {
      "text/plain": [
       "923.4502133292664"
      ]
     },
     "execution_count": 19,
     "metadata": {},
     "output_type": "execute_result"
    }
   ],
   "source": [
    "#Calculate RMSE performance metrics\n",
    "math.sqrt(mean_squared_error(y_train, train_predict))"
   ]
  },
  {
   "cell_type": "code",
   "execution_count": 20,
   "metadata": {
    "id": "VBlhluNffuO4",
    "outputId": "ec62b653-4b6f-49f8-b7ec-3592cb70b604"
   },
   "outputs": [
    {
     "data": {
      "text/plain": [
       "1677.6428637522818"
      ]
     },
     "execution_count": 20,
     "metadata": {},
     "output_type": "execute_result"
    }
   ],
   "source": [
    "#Test Data RMSE\n",
    "math.sqrt(mean_squared_error(y_test, test_predict))"
   ]
  },
  {
   "cell_type": "code",
   "execution_count": 21,
   "metadata": {
    "id": "4W7JjsnzfuO5",
    "outputId": "62d2be54-f164-4c70-a9db-0bbb45096f55"
   },
   "outputs": [
    {
     "data": {
      "image/png": "[encoded data removed]",
      "text/plain": [
       "<Figure size 640x480 with 1 Axes>"
      ]
     },
     "metadata": {},
     "output_type": "display_data"
    }
   ],
   "source": [
    "#Plotting\n",
    "\n",
    "#Shift train prediction for plotting\n",
    "look_back = 100\n",
    "trainPredictPlot = np.empty_like(df_close)\n",
    "trainPredictPlot[:,:] = np.nan\n",
    "trainPredictPlot[look_back:len(train_predict) + look_back, :] = train_predict\n",
    "\n",
    "#Shift test prediction for plotting\n",
    "testPredictPlot = np.empty_like(df_close)\n",
    "testPredictPlot[:,:] = np.nan\n",
    "testPredictPlot[len(train_predict) + (look_back * 2)+1:len(df_close) - 1, :] = test_predict\n",
    "\n",
    "#Plot baseline and predictions\n",
    "plt.plot(scaler.inverse_transform(df_close))\n",
    "plt.plot(trainPredictPlot)\n",
    "plt.plot(testPredictPlot)\n",
    "plt.show()"
   ]
  },
  {
   "cell_type": "markdown",
   "metadata": {
    "id": "QvjziFeLfuO6"
   },
   "source": [
    "### Predict the next 30 days Stock Price"
   ]
  },
  {
   "cell_type": "code",
   "execution_count": 22,
   "metadata": {
    "id": "QPGWeIk-fuO6",
    "outputId": "f4a87a3c-68a2-40f7-ff0b-48db22727d3b"
   },
   "outputs": [
    {
     "data": {
      "text/plain": [
       "(308, (207, 100, 1))"
      ]
     },
     "execution_count": 22,
     "metadata": {},
     "output_type": "execute_result"
    }
   ],
   "source": [
    "len(test_data), x_test.shape"
   ]
  },
  {
   "cell_type": "code",
   "execution_count": 23,
   "metadata": {
    "id": "GtoFBy0HfuO7",
    "outputId": "19be364d-8f7b-4108-8d44-daf6a63ea5cb"
   },
   "outputs": [
    {
     "data": {
      "text/plain": [
       "(1, 101)"
      ]
     },
     "execution_count": 23,
     "metadata": {},
     "output_type": "execute_result"
    }
   ],
   "source": [
    "x_input = test_data[207:].reshape(1,-1)\n",
    "x_input.shape"
   ]
  },
  {
   "cell_type": "code",
   "execution_count": 24,
   "metadata": {
    "id": "S0tG5Iw6fuO8"
   },
   "outputs": [],
   "source": [
    "temp_input = list(x_input)\n",
    "temp_input = temp_input[0].tolist()"
   ]
  },
  {
   "cell_type": "code",
   "execution_count": 25,
   "metadata": {
    "id": "DWEDR-VQfuO8",
    "outputId": "7fcd4668-41b8-46ad-890e-88d24e1c72bf"
   },
   "outputs": [
    {
     "name": "stdout",
     "output_type": "stream",
     "text": [
      "0 day input [0.67861484 0.66843459 0.68633683 0.69849431 0.71321692 0.74736477\n",
      " 0.73221462 0.7186143  0.73264216 0.76139264 0.79182641 0.7822073\n",
      " 0.74319647 0.74287584 0.77937498 0.78375706 0.81135857 0.82869966\n",
      " 0.85745014 0.90466386 0.91003455 0.92152404 0.8782113  0.88473103\n",
      " 0.86242004 0.83137164 0.90704202 0.8941363  0.8982245  0.9048242\n",
      " 0.89060937 0.89806416 0.89475093 0.89178502 0.88737626 0.87537912\n",
      " 0.88991463 0.89686177 0.87842514 0.87030236 0.8777304  0.87043596\n",
      " 0.89993454 0.88566622 0.88863201 0.86968773 0.87318804 0.89507149\n",
      " 0.88646781 0.86784409 0.87072978 0.88379584 0.91278677 0.99436211\n",
      " 0.99743488 0.98824331 0.99695397 1.         0.98621258 0.9899266\n",
      " 0.96328709 0.93939953 0.94990047 0.92339443 0.93434952 0.942125\n",
      " 0.9575156  0.9517976  0.94693455 0.93996067 0.93897212 0.96416879\n",
      " 0.95441608 0.95131656 0.95324044 0.97656673 0.98020064 0.93691465\n",
      " 0.92050875 0.92072245 0.90987421 0.89314775 0.8837156  0.88697546\n",
      " 0.84211296 0.84499871 0.83268088 0.84093732 0.85568661 0.76107195\n",
      " 0.74661661 0.78017657 0.80251431 0.84213971 0.85365588 0.8717452\n",
      " 0.82506575 0.81587418 0.82463827 0.82295492]\n",
      "0 day output [[0.7909894]]\n",
      "1 day input [0.66843459 0.68633683 0.69849431 0.71321692 0.74736477 0.73221462\n",
      " 0.7186143  0.73264216 0.76139264 0.79182641 0.7822073  0.74319647\n",
      " 0.74287584 0.77937498 0.78375706 0.81135857 0.82869966 0.85745014\n",
      " 0.90466386 0.91003455 0.92152404 0.8782113  0.88473103 0.86242004\n",
      " 0.83137164 0.90704202 0.8941363  0.8982245  0.9048242  0.89060937\n",
      " 0.89806416 0.89475093 0.89178502 0.88737626 0.87537912 0.88991463\n",
      " 0.89686177 0.87842514 0.87030236 0.8777304  0.87043596 0.89993454\n",
      " 0.88566622 0.88863201 0.86968773 0.87318804 0.89507149 0.88646781\n",
      " 0.86784409 0.87072978 0.88379584 0.91278677 0.99436211 0.99743488\n",
      " 0.98824331 0.99695397 1.         0.98621258 0.9899266  0.96328709\n",
      " 0.93939953 0.94990047 0.92339443 0.93434952 0.942125   0.9575156\n",
      " 0.9517976  0.94693455 0.93996067 0.93897212 0.96416879 0.95441608\n",
      " 0.95131656 0.95324044 0.97656673 0.98020064 0.93691465 0.92050875\n",
      " 0.92072245 0.90987421 0.89314775 0.8837156  0.88697546 0.84211296\n",
      " 0.84499871 0.83268088 0.84093732 0.85568661 0.76107195 0.74661661\n",
      " 0.78017657 0.80251431 0.84213971 0.85365588 0.8717452  0.82506575\n",
      " 0.81587418 0.82463827 0.82295492 0.7909894 ]\n",
      "1 day output [[0.7757031]]\n",
      "2 day input [0.68633683 0.69849431 0.71321692 0.74736477 0.73221462 0.7186143\n",
      " 0.73264216 0.76139264 0.79182641 0.7822073  0.74319647 0.74287584\n",
      " 0.77937498 0.78375706 0.81135857 0.82869966 0.85745014 0.90466386\n",
      " 0.91003455 0.92152404 0.8782113  0.88473103 0.86242004 0.83137164\n",
      " 0.90704202 0.8941363  0.8982245  0.9048242  0.89060937 0.89806416\n",
      " 0.89475093 0.89178502 0.88737626 0.87537912 0.88991463 0.89686177\n",
      " 0.87842514 0.87030236 0.8777304  0.87043596 0.89993454 0.88566622\n",
      " 0.88863201 0.86968773 0.87318804 0.89507149 0.88646781 0.86784409\n",
      " 0.87072978 0.88379584 0.91278677 0.99436211 0.99743488 0.98824331\n",
      " 0.99695397 1.         0.98621258 0.9899266  0.96328709 0.93939953\n",
      " 0.94990047 0.92339443 0.93434952 0.942125   0.9575156  0.9517976\n",
      " 0.94693455 0.93996067 0.93897212 0.96416879 0.95441608 0.95131656\n",
      " 0.95324044 0.97656673 0.98020064 0.93691465 0.92050875 0.92072245\n",
      " 0.90987421 0.89314775 0.8837156  0.88697546 0.84211296 0.84499871\n",
      " 0.83268088 0.84093732 0.85568661 0.76107195 0.74661661 0.78017657\n",
      " 0.80251431 0.84213971 0.85365588 0.8717452  0.82506575 0.81587418\n",
      " 0.82463827 0.82295492 0.7909894  0.77570307]\n",
      "2 day output [[0.75653446]]\n",
      "3 day input [0.69849431 0.71321692 0.74736477 0.73221462 0.7186143  0.73264216\n",
      " 0.76139264 0.79182641 0.7822073  0.74319647 0.74287584 0.77937498\n",
      " 0.78375706 0.81135857 0.82869966 0.85745014 0.90466386 0.91003455\n",
      " 0.92152404 0.8782113  0.88473103 0.86242004 0.83137164 0.90704202\n",
      " 0.8941363  0.8982245  0.9048242  0.89060937 0.89806416 0.89475093\n",
      " 0.89178502 0.88737626 0.87537912 0.88991463 0.89686177 0.87842514\n",
      " 0.87030236 0.8777304  0.87043596 0.89993454 0.88566622 0.88863201\n",
      " 0.86968773 0.87318804 0.89507149 0.88646781 0.86784409 0.87072978\n",
      " 0.88379584 0.91278677 0.99436211 0.99743488 0.98824331 0.99695397\n",
      " 1.         0.98621258 0.9899266  0.96328709 0.93939953 0.94990047\n",
      " 0.92339443 0.93434952 0.942125   0.9575156  0.9517976  0.94693455\n",
      " 0.93996067 0.93897212 0.96416879 0.95441608 0.95131656 0.95324044\n",
      " 0.97656673 0.98020064 0.93691465 0.92050875 0.92072245 0.90987421\n",
      " 0.89314775 0.8837156  0.88697546 0.84211296 0.84499871 0.83268088\n",
      " 0.84093732 0.85568661 0.76107195 0.74661661 0.78017657 0.80251431\n",
      " 0.84213971 0.85365588 0.8717452  0.82506575 0.81587418 0.82463827\n",
      " 0.82295492 0.7909894  0.77570307 0.75653446]\n",
      "3 day output [[0.73541]]\n",
      "4 day input [0.71321692 0.74736477 0.73221462 0.7186143  0.73264216 0.76139264\n",
      " 0.79182641 0.7822073  0.74319647 0.74287584 0.77937498 0.78375706\n",
      " 0.81135857 0.82869966 0.85745014 0.90466386 0.91003455 0.92152404\n",
      " 0.8782113  0.88473103 0.86242004 0.83137164 0.90704202 0.8941363\n",
      " 0.8982245  0.9048242  0.89060937 0.89806416 0.89475093 0.89178502\n",
      " 0.88737626 0.87537912 0.88991463 0.89686177 0.87842514 0.87030236\n",
      " 0.8777304  0.87043596 0.89993454 0.88566622 0.88863201 0.86968773\n",
      " 0.87318804 0.89507149 0.88646781 0.86784409 0.87072978 0.88379584\n",
      " 0.91278677 0.99436211 0.99743488 0.98824331 0.99695397 1.\n",
      " 0.98621258 0.9899266  0.96328709 0.93939953 0.94990047 0.92339443\n",
      " 0.93434952 0.942125   0.9575156  0.9517976  0.94693455 0.93996067\n",
      " 0.93897212 0.96416879 0.95441608 0.95131656 0.95324044 0.97656673\n",
      " 0.98020064 0.93691465 0.92050875 0.92072245 0.90987421 0.89314775\n",
      " 0.8837156  0.88697546 0.84211296 0.84499871 0.83268088 0.84093732\n",
      " 0.85568661 0.76107195 0.74661661 0.78017657 0.80251431 0.84213971\n",
      " 0.85365588 0.8717452  0.82506575 0.81587418 0.82463827 0.82295492\n",
      " 0.7909894  0.77570307 0.75653446 0.73540998]\n",
      "4 day output [[0.7137917]]\n",
      "5 day input [0.74736477 0.73221462 0.7186143  0.73264216 0.76139264 0.79182641\n",
      " 0.7822073  0.74319647 0.74287584 0.77937498 0.78375706 0.81135857\n",
      " 0.82869966 0.85745014 0.90466386 0.91003455 0.92152404 0.8782113\n",
      " 0.88473103 0.86242004 0.83137164 0.90704202 0.8941363  0.8982245\n",
      " 0.9048242  0.89060937 0.89806416 0.89475093 0.89178502 0.88737626\n",
      " 0.87537912 0.88991463 0.89686177 0.87842514 0.87030236 0.8777304\n",
      " 0.87043596 0.89993454 0.88566622 0.88863201 0.86968773 0.87318804\n",
      " 0.89507149 0.88646781 0.86784409 0.87072978 0.88379584 0.91278677\n",
      " 0.99436211 0.99743488 0.98824331 0.99695397 1.         0.98621258\n",
      " 0.9899266  0.96328709 0.93939953 0.94990047 0.92339443 0.93434952\n",
      " 0.942125   0.9575156  0.9517976  0.94693455 0.93996067 0.93897212\n",
      " 0.96416879 0.95441608 0.95131656 0.95324044 0.97656673 0.98020064\n",
      " 0.93691465 0.92050875 0.92072245 0.90987421 0.89314775 0.8837156\n",
      " 0.88697546 0.84211296 0.84499871 0.83268088 0.84093732 0.85568661\n",
      " 0.76107195 0.74661661 0.78017657 0.80251431 0.84213971 0.85365588\n",
      " 0.8717452  0.82506575 0.81587418 0.82463827 0.82295492 0.7909894\n",
      " 0.77570307 0.75653446 0.73540998 0.71379173]\n",
      "5 day output [[0.69272935]]\n",
      "6 day input [0.73221462 0.7186143  0.73264216 0.76139264 0.79182641 0.7822073\n",
      " 0.74319647 0.74287584 0.77937498 0.78375706 0.81135857 0.82869966\n",
      " 0.85745014 0.90466386 0.91003455 0.92152404 0.8782113  0.88473103\n",
      " 0.86242004 0.83137164 0.90704202 0.8941363  0.8982245  0.9048242\n",
      " 0.89060937 0.89806416 0.89475093 0.89178502 0.88737626 0.87537912\n",
      " 0.88991463 0.89686177 0.87842514 0.87030236 0.8777304  0.87043596\n",
      " 0.89993454 0.88566622 0.88863201 0.86968773 0.87318804 0.89507149\n",
      " 0.88646781 0.86784409 0.87072978 0.88379584 0.91278677 0.99436211\n",
      " 0.99743488 0.98824331 0.99695397 1.         0.98621258 0.9899266\n",
      " 0.96328709 0.93939953 0.94990047 0.92339443 0.93434952 0.942125\n",
      " 0.9575156  0.9517976  0.94693455 0.93996067 0.93897212 0.96416879\n",
      " 0.95441608 0.95131656 0.95324044 0.97656673 0.98020064 0.93691465\n",
      " 0.92050875 0.92072245 0.90987421 0.89314775 0.8837156  0.88697546\n",
      " 0.84211296 0.84499871 0.83268088 0.84093732 0.85568661 0.76107195\n",
      " 0.74661661 0.78017657 0.80251431 0.84213971 0.85365588 0.8717452\n",
      " 0.82506575 0.81587418 0.82463827 0.82295492 0.7909894  0.77570307\n",
      " 0.75653446 0.73540998 0.71379173 0.69272935]\n",
      "6 day output [[0.67296875]]\n",
      "7 day input [0.7186143  0.73264216 0.76139264 0.79182641 0.7822073  0.74319647\n",
      " 0.74287584 0.77937498 0.78375706 0.81135857 0.82869966 0.85745014\n",
      " 0.90466386 0.91003455 0.92152404 0.8782113  0.88473103 0.86242004\n",
      " 0.83137164 0.90704202 0.8941363  0.8982245  0.9048242  0.89060937\n",
      " 0.89806416 0.89475093 0.89178502 0.88737626 0.87537912 0.88991463\n",
      " 0.89686177 0.87842514 0.87030236 0.8777304  0.87043596 0.89993454\n",
      " 0.88566622 0.88863201 0.86968773 0.87318804 0.89507149 0.88646781\n",
      " 0.86784409 0.87072978 0.88379584 0.91278677 0.99436211 0.99743488\n",
      " 0.98824331 0.99695397 1.         0.98621258 0.9899266  0.96328709\n",
      " 0.93939953 0.94990047 0.92339443 0.93434952 0.942125   0.9575156\n",
      " 0.9517976  0.94693455 0.93996067 0.93897212 0.96416879 0.95441608\n",
      " 0.95131656 0.95324044 0.97656673 0.98020064 0.93691465 0.92050875\n",
      " 0.92072245 0.90987421 0.89314775 0.8837156  0.88697546 0.84211296\n",
      " 0.84499871 0.83268088 0.84093732 0.85568661 0.76107195 0.74661661\n",
      " 0.78017657 0.80251431 0.84213971 0.85365588 0.8717452  0.82506575\n",
      " 0.81587418 0.82463827 0.82295492 0.7909894  0.77570307 0.75653446\n",
      " 0.73540998 0.71379173 0.69272935 0.67296875]\n",
      "7 day output [[0.65503275]]\n",
      "8 day input [0.73264216 0.76139264 0.79182641 0.7822073  0.74319647 0.74287584\n",
      " 0.77937498 0.78375706 0.81135857 0.82869966 0.85745014 0.90466386\n",
      " 0.91003455 0.92152404 0.8782113  0.88473103 0.86242004 0.83137164\n",
      " 0.90704202 0.8941363  0.8982245  0.9048242  0.89060937 0.89806416\n",
      " 0.89475093 0.89178502 0.88737626 0.87537912 0.88991463 0.89686177\n",
      " 0.87842514 0.87030236 0.8777304  0.87043596 0.89993454 0.88566622\n",
      " 0.88863201 0.86968773 0.87318804 0.89507149 0.88646781 0.86784409\n",
      " 0.87072978 0.88379584 0.91278677 0.99436211 0.99743488 0.98824331\n",
      " 0.99695397 1.         0.98621258 0.9899266  0.96328709 0.93939953\n",
      " 0.94990047 0.92339443 0.93434952 0.942125   0.9575156  0.9517976\n",
      " 0.94693455 0.93996067 0.93897212 0.96416879 0.95441608 0.95131656\n",
      " 0.95324044 0.97656673 0.98020064 0.93691465 0.92050875 0.92072245\n",
      " 0.90987421 0.89314775 0.8837156  0.88697546 0.84211296 0.84499871\n",
      " 0.83268088 0.84093732 0.85568661 0.76107195 0.74661661 0.78017657\n",
      " 0.80251431 0.84213971 0.85365588 0.8717452  0.82506575 0.81587418\n",
      " 0.82463827 0.82295492 0.7909894  0.77570307 0.75653446 0.73540998\n",
      " 0.71379173 0.69272935 0.67296875 0.65503275]\n",
      "8 day output [[0.6392596]]\n",
      "9 day input [0.76139264 0.79182641 0.7822073  0.74319647 0.74287584 0.77937498\n",
      " 0.78375706 0.81135857 0.82869966 0.85745014 0.90466386 0.91003455\n",
      " 0.92152404 0.8782113  0.88473103 0.86242004 0.83137164 0.90704202\n",
      " 0.8941363  0.8982245  0.9048242  0.89060937 0.89806416 0.89475093\n",
      " 0.89178502 0.88737626 0.87537912 0.88991463 0.89686177 0.87842514\n",
      " 0.87030236 0.8777304  0.87043596 0.89993454 0.88566622 0.88863201\n",
      " 0.86968773 0.87318804 0.89507149 0.88646781 0.86784409 0.87072978\n",
      " 0.88379584 0.91278677 0.99436211 0.99743488 0.98824331 0.99695397\n",
      " 1.         0.98621258 0.9899266  0.96328709 0.93939953 0.94990047\n",
      " 0.92339443 0.93434952 0.942125   0.9575156  0.9517976  0.94693455\n",
      " 0.93996067 0.93897212 0.96416879 0.95441608 0.95131656 0.95324044\n",
      " 0.97656673 0.98020064 0.93691465 0.92050875 0.92072245 0.90987421\n",
      " 0.89314775 0.8837156  0.88697546 0.84211296 0.84499871 0.83268088\n",
      " 0.84093732 0.85568661 0.76107195 0.74661661 0.78017657 0.80251431\n",
      " 0.84213971 0.85365588 0.8717452  0.82506575 0.81587418 0.82463827\n",
      " 0.82295492 0.7909894  0.77570307 0.75653446 0.73540998 0.71379173\n",
      " 0.69272935 0.67296875 0.65503275 0.63925958]\n",
      "9 day output [[0.6258266]]\n",
      "10 day input [0.79182641 0.7822073  0.74319647 0.74287584 0.77937498 0.78375706\n",
      " 0.81135857 0.82869966 0.85745014 0.90466386 0.91003455 0.92152404\n",
      " 0.8782113  0.88473103 0.86242004 0.83137164 0.90704202 0.8941363\n",
      " 0.8982245  0.9048242  0.89060937 0.89806416 0.89475093 0.89178502\n",
      " 0.88737626 0.87537912 0.88991463 0.89686177 0.87842514 0.87030236\n",
      " 0.8777304  0.87043596 0.89993454 0.88566622 0.88863201 0.86968773\n",
      " 0.87318804 0.89507149 0.88646781 0.86784409 0.87072978 0.88379584\n",
      " 0.91278677 0.99436211 0.99743488 0.98824331 0.99695397 1.\n",
      " 0.98621258 0.9899266  0.96328709 0.93939953 0.94990047 0.92339443\n",
      " 0.93434952 0.942125   0.9575156  0.9517976  0.94693455 0.93996067\n",
      " 0.93897212 0.96416879 0.95441608 0.95131656 0.95324044 0.97656673\n",
      " 0.98020064 0.93691465 0.92050875 0.92072245 0.90987421 0.89314775\n",
      " 0.8837156  0.88697546 0.84211296 0.84499871 0.83268088 0.84093732\n",
      " 0.85568661 0.76107195 0.74661661 0.78017657 0.80251431 0.84213971\n",
      " 0.85365588 0.8717452  0.82506575 0.81587418 0.82463827 0.82295492\n",
      " 0.7909894  0.77570307 0.75653446 0.73540998 0.71379173 0.69272935\n",
      " 0.67296875 0.65503275 0.63925958 0.6258266 ]\n",
      "10 day output [[0.6147654]]\n",
      "11 day input [0.7822073  0.74319647 0.74287584 0.77937498 0.78375706 0.81135857\n",
      " 0.82869966 0.85745014 0.90466386 0.91003455 0.92152404 0.8782113\n",
      " 0.88473103 0.86242004 0.83137164 0.90704202 0.8941363  0.8982245\n",
      " 0.9048242  0.89060937 0.89806416 0.89475093 0.89178502 0.88737626\n",
      " 0.87537912 0.88991463 0.89686177 0.87842514 0.87030236 0.8777304\n",
      " 0.87043596 0.89993454 0.88566622 0.88863201 0.86968773 0.87318804\n",
      " 0.89507149 0.88646781 0.86784409 0.87072978 0.88379584 0.91278677\n",
      " 0.99436211 0.99743488 0.98824331 0.99695397 1.         0.98621258\n",
      " 0.9899266  0.96328709 0.93939953 0.94990047 0.92339443 0.93434952\n",
      " 0.942125   0.9575156  0.9517976  0.94693455 0.93996067 0.93897212\n",
      " 0.96416879 0.95441608 0.95131656 0.95324044 0.97656673 0.98020064\n",
      " 0.93691465 0.92050875 0.92072245 0.90987421 0.89314775 0.8837156\n",
      " 0.88697546 0.84211296 0.84499871 0.83268088 0.84093732 0.85568661\n",
      " 0.76107195 0.74661661 0.78017657 0.80251431 0.84213971 0.85365588\n",
      " 0.8717452  0.82506575 0.81587418 0.82463827 0.82295492 0.7909894\n",
      " 0.77570307 0.75653446 0.73540998 0.71379173 0.69272935 0.67296875\n",
      " 0.65503275 0.63925958 0.6258266  0.61476541]\n",
      "11 day output [[0.6059835]]\n",
      "12 day input [0.74319647 0.74287584 0.77937498 0.78375706 0.81135857 0.82869966\n",
      " 0.85745014 0.90466386 0.91003455 0.92152404 0.8782113  0.88473103\n",
      " 0.86242004 0.83137164 0.90704202 0.8941363  0.8982245  0.9048242\n",
      " 0.89060937 0.89806416 0.89475093 0.89178502 0.88737626 0.87537912\n",
      " 0.88991463 0.89686177 0.87842514 0.87030236 0.8777304  0.87043596\n",
      " 0.89993454 0.88566622 0.88863201 0.86968773 0.87318804 0.89507149\n",
      " 0.88646781 0.86784409 0.87072978 0.88379584 0.91278677 0.99436211\n",
      " 0.99743488 0.98824331 0.99695397 1.         0.98621258 0.9899266\n",
      " 0.96328709 0.93939953 0.94990047 0.92339443 0.93434952 0.942125\n",
      " 0.9575156  0.9517976  0.94693455 0.93996067 0.93897212 0.96416879\n",
      " 0.95441608 0.95131656 0.95324044 0.97656673 0.98020064 0.93691465\n",
      " 0.92050875 0.92072245 0.90987421 0.89314775 0.8837156  0.88697546\n",
      " 0.84211296 0.84499871 0.83268088 0.84093732 0.85568661 0.76107195\n",
      " 0.74661661 0.78017657 0.80251431 0.84213971 0.85365588 0.8717452\n",
      " 0.82506575 0.81587418 0.82463827 0.82295492 0.7909894  0.77570307\n",
      " 0.75653446 0.73540998 0.71379173 0.69272935 0.67296875 0.65503275\n",
      " 0.63925958 0.6258266  0.61476541 0.6059835 ]\n",
      "12 day output [[0.5992888]]\n",
      "13 day input [0.74287584 0.77937498 0.78375706 0.81135857 0.82869966 0.85745014\n",
      " 0.90466386 0.91003455 0.92152404 0.8782113  0.88473103 0.86242004\n",
      " 0.83137164 0.90704202 0.8941363  0.8982245  0.9048242  0.89060937\n",
      " 0.89806416 0.89475093 0.89178502 0.88737626 0.87537912 0.88991463\n",
      " 0.89686177 0.87842514 0.87030236 0.8777304  0.87043596 0.89993454\n",
      " 0.88566622 0.88863201 0.86968773 0.87318804 0.89507149 0.88646781\n",
      " 0.86784409 0.87072978 0.88379584 0.91278677 0.99436211 0.99743488\n",
      " 0.98824331 0.99695397 1.         0.98621258 0.9899266  0.96328709\n",
      " 0.93939953 0.94990047 0.92339443 0.93434952 0.942125   0.9575156\n",
      " 0.9517976  0.94693455 0.93996067 0.93897212 0.96416879 0.95441608\n",
      " 0.95131656 0.95324044 0.97656673 0.98020064 0.93691465 0.92050875\n",
      " 0.92072245 0.90987421 0.89314775 0.8837156  0.88697546 0.84211296\n",
      " 0.84499871 0.83268088 0.84093732 0.85568661 0.76107195 0.74661661\n",
      " 0.78017657 0.80251431 0.84213971 0.85365588 0.8717452  0.82506575\n",
      " 0.81587418 0.82463827 0.82295492 0.7909894  0.77570307 0.75653446\n",
      " 0.73540998 0.71379173 0.69272935 0.67296875 0.65503275 0.63925958\n",
      " 0.6258266  0.61476541 0.6059835  0.59928882]\n",
      "13 day output [[0.5944176]]\n",
      "14 day input [0.77937498 0.78375706 0.81135857 0.82869966 0.85745014 0.90466386\n",
      " 0.91003455 0.92152404 0.8782113  0.88473103 0.86242004 0.83137164\n",
      " 0.90704202 0.8941363  0.8982245  0.9048242  0.89060937 0.89806416\n",
      " 0.89475093 0.89178502 0.88737626 0.87537912 0.88991463 0.89686177\n",
      " 0.87842514 0.87030236 0.8777304  0.87043596 0.89993454 0.88566622\n",
      " 0.88863201 0.86968773 0.87318804 0.89507149 0.88646781 0.86784409\n",
      " 0.87072978 0.88379584 0.91278677 0.99436211 0.99743488 0.98824331\n",
      " 0.99695397 1.         0.98621258 0.9899266  0.96328709 0.93939953\n",
      " 0.94990047 0.92339443 0.93434952 0.942125   0.9575156  0.9517976\n",
      " 0.94693455 0.93996067 0.93897212 0.96416879 0.95441608 0.95131656\n",
      " 0.95324044 0.97656673 0.98020064 0.93691465 0.92050875 0.92072245\n",
      " 0.90987421 0.89314775 0.8837156  0.88697546 0.84211296 0.84499871\n",
      " 0.83268088 0.84093732 0.85568661 0.76107195 0.74661661 0.78017657\n",
      " 0.80251431 0.84213971 0.85365588 0.8717452  0.82506575 0.81587418\n",
      " 0.82463827 0.82295492 0.7909894  0.77570307 0.75653446 0.73540998\n",
      " 0.71379173 0.69272935 0.67296875 0.65503275 0.63925958 0.6258266\n",
      " 0.61476541 0.6059835  0.59928882 0.59441757]\n",
      "14 day output [[0.5910611]]\n",
      "15 day input [0.78375706 0.81135857 0.82869966 0.85745014 0.90466386 0.91003455\n",
      " 0.92152404 0.8782113  0.88473103 0.86242004 0.83137164 0.90704202\n",
      " 0.8941363  0.8982245  0.9048242  0.89060937 0.89806416 0.89475093\n",
      " 0.89178502 0.88737626 0.87537912 0.88991463 0.89686177 0.87842514\n",
      " 0.87030236 0.8777304  0.87043596 0.89993454 0.88566622 0.88863201\n",
      " 0.86968773 0.87318804 0.89507149 0.88646781 0.86784409 0.87072978\n",
      " 0.88379584 0.91278677 0.99436211 0.99743488 0.98824331 0.99695397\n",
      " 1.         0.98621258 0.9899266  0.96328709 0.93939953 0.94990047\n",
      " 0.92339443 0.93434952 0.942125   0.9575156  0.9517976  0.94693455\n",
      " 0.93996067 0.93897212 0.96416879 0.95441608 0.95131656 0.95324044\n",
      " 0.97656673 0.98020064 0.93691465 0.92050875 0.92072245 0.90987421\n",
      " 0.89314775 0.8837156  0.88697546 0.84211296 0.84499871 0.83268088\n",
      " 0.84093732 0.85568661 0.76107195 0.74661661 0.78017657 0.80251431\n",
      " 0.84213971 0.85365588 0.8717452  0.82506575 0.81587418 0.82463827\n",
      " 0.82295492 0.7909894  0.77570307 0.75653446 0.73540998 0.71379173\n",
      " 0.69272935 0.67296875 0.65503275 0.63925958 0.6258266  0.61476541\n",
      " 0.6059835  0.59928882 0.59441757 0.59106112]\n",
      "15 day output [[0.5888902]]\n",
      "16 day input [0.81135857 0.82869966 0.85745014 0.90466386 0.91003455 0.92152404\n",
      " 0.8782113  0.88473103 0.86242004 0.83137164 0.90704202 0.8941363\n",
      " 0.8982245  0.9048242  0.89060937 0.89806416 0.89475093 0.89178502\n",
      " 0.88737626 0.87537912 0.88991463 0.89686177 0.87842514 0.87030236\n",
      " 0.8777304  0.87043596 0.89993454 0.88566622 0.88863201 0.86968773\n",
      " 0.87318804 0.89507149 0.88646781 0.86784409 0.87072978 0.88379584\n",
      " 0.91278677 0.99436211 0.99743488 0.98824331 0.99695397 1.\n",
      " 0.98621258 0.9899266  0.96328709 0.93939953 0.94990047 0.92339443\n",
      " 0.93434952 0.942125   0.9575156  0.9517976  0.94693455 0.93996067\n",
      " 0.93897212 0.96416879 0.95441608 0.95131656 0.95324044 0.97656673\n",
      " 0.98020064 0.93691465 0.92050875 0.92072245 0.90987421 0.89314775\n",
      " 0.8837156  0.88697546 0.84211296 0.84499871 0.83268088 0.84093732\n",
      " 0.85568661 0.76107195 0.74661661 0.78017657 0.80251431 0.84213971\n",
      " 0.85365588 0.8717452  0.82506575 0.81587418 0.82463827 0.82295492\n",
      " 0.7909894  0.77570307 0.75653446 0.73540998 0.71379173 0.69272935\n",
      " 0.67296875 0.65503275 0.63925958 0.6258266  0.61476541 0.6059835\n",
      " 0.59928882 0.59441757 0.59106112 0.58889019]\n",
      "16 day output [[0.5875746]]\n",
      "17 day input [0.82869966 0.85745014 0.90466386 0.91003455 0.92152404 0.8782113\n",
      " 0.88473103 0.86242004 0.83137164 0.90704202 0.8941363  0.8982245\n",
      " 0.9048242  0.89060937 0.89806416 0.89475093 0.89178502 0.88737626\n",
      " 0.87537912 0.88991463 0.89686177 0.87842514 0.87030236 0.8777304\n",
      " 0.87043596 0.89993454 0.88566622 0.88863201 0.86968773 0.87318804\n",
      " 0.89507149 0.88646781 0.86784409 0.87072978 0.88379584 0.91278677\n",
      " 0.99436211 0.99743488 0.98824331 0.99695397 1.         0.98621258\n",
      " 0.9899266  0.96328709 0.93939953 0.94990047 0.92339443 0.93434952\n",
      " 0.942125   0.9575156  0.9517976  0.94693455 0.93996067 0.93897212\n",
      " 0.96416879 0.95441608 0.95131656 0.95324044 0.97656673 0.98020064\n",
      " 0.93691465 0.92050875 0.92072245 0.90987421 0.89314775 0.8837156\n",
      " 0.88697546 0.84211296 0.84499871 0.83268088 0.84093732 0.85568661\n",
      " 0.76107195 0.74661661 0.78017657 0.80251431 0.84213971 0.85365588\n",
      " 0.8717452  0.82506575 0.81587418 0.82463827 0.82295492 0.7909894\n",
      " 0.77570307 0.75653446 0.73540998 0.71379173 0.69272935 0.67296875\n",
      " 0.65503275 0.63925958 0.6258266  0.61476541 0.6059835  0.59928882\n",
      " 0.59441757 0.59106112 0.58889019 0.5875746 ]\n",
      "17 day output [[0.5868007]]\n",
      "18 day input [0.85745014 0.90466386 0.91003455 0.92152404 0.8782113  0.88473103\n",
      " 0.86242004 0.83137164 0.90704202 0.8941363  0.8982245  0.9048242\n",
      " 0.89060937 0.89806416 0.89475093 0.89178502 0.88737626 0.87537912\n",
      " 0.88991463 0.89686177 0.87842514 0.87030236 0.8777304  0.87043596\n",
      " 0.89993454 0.88566622 0.88863201 0.86968773 0.87318804 0.89507149\n",
      " 0.88646781 0.86784409 0.87072978 0.88379584 0.91278677 0.99436211\n",
      " 0.99743488 0.98824331 0.99695397 1.         0.98621258 0.9899266\n",
      " 0.96328709 0.93939953 0.94990047 0.92339443 0.93434952 0.942125\n",
      " 0.9575156  0.9517976  0.94693455 0.93996067 0.93897212 0.96416879\n",
      " 0.95441608 0.95131656 0.95324044 0.97656673 0.98020064 0.93691465\n",
      " 0.92050875 0.92072245 0.90987421 0.89314775 0.8837156  0.88697546\n",
      " 0.84211296 0.84499871 0.83268088 0.84093732 0.85568661 0.76107195\n",
      " 0.74661661 0.78017657 0.80251431 0.84213971 0.85365588 0.8717452\n",
      " 0.82506575 0.81587418 0.82463827 0.82295492 0.7909894  0.77570307\n",
      " 0.75653446 0.73540998 0.71379173 0.69272935 0.67296875 0.65503275\n",
      " 0.63925958 0.6258266  0.61476541 0.6059835  0.59928882 0.59441757\n",
      " 0.59106112 0.58889019 0.5875746  0.58680069]\n",
      "18 day output [[0.5862833]]\n",
      "19 day input [0.90466386 0.91003455 0.92152404 0.8782113  0.88473103 0.86242004\n",
      " 0.83137164 0.90704202 0.8941363  0.8982245  0.9048242  0.89060937\n",
      " 0.89806416 0.89475093 0.89178502 0.88737626 0.87537912 0.88991463\n",
      " 0.89686177 0.87842514 0.87030236 0.8777304  0.87043596 0.89993454\n",
      " 0.88566622 0.88863201 0.86968773 0.87318804 0.89507149 0.88646781\n",
      " 0.86784409 0.87072978 0.88379584 0.91278677 0.99436211 0.99743488\n",
      " 0.98824331 0.99695397 1.         0.98621258 0.9899266  0.96328709\n",
      " 0.93939953 0.94990047 0.92339443 0.93434952 0.942125   0.9575156\n",
      " 0.9517976  0.94693455 0.93996067 0.93897212 0.96416879 0.95441608\n",
      " 0.95131656 0.95324044 0.97656673 0.98020064 0.93691465 0.92050875\n",
      " 0.92072245 0.90987421 0.89314775 0.8837156  0.88697546 0.84211296\n",
      " 0.84499871 0.83268088 0.84093732 0.85568661 0.76107195 0.74661661\n",
      " 0.78017657 0.80251431 0.84213971 0.85365588 0.8717452  0.82506575\n",
      " 0.81587418 0.82463827 0.82295492 0.7909894  0.77570307 0.75653446\n",
      " 0.73540998 0.71379173 0.69272935 0.67296875 0.65503275 0.63925958\n",
      " 0.6258266  0.61476541 0.6059835  0.59928882 0.59441757 0.59106112\n",
      " 0.58889019 0.5875746  0.58680069 0.58628333]\n",
      "19 day output [[0.5857748]]\n",
      "20 day input [0.91003455 0.92152404 0.8782113  0.88473103 0.86242004 0.83137164\n",
      " 0.90704202 0.8941363  0.8982245  0.9048242  0.89060937 0.89806416\n",
      " 0.89475093 0.89178502 0.88737626 0.87537912 0.88991463 0.89686177\n",
      " 0.87842514 0.87030236 0.8777304  0.87043596 0.89993454 0.88566622\n",
      " 0.88863201 0.86968773 0.87318804 0.89507149 0.88646781 0.86784409\n",
      " 0.87072978 0.88379584 0.91278677 0.99436211 0.99743488 0.98824331\n",
      " 0.99695397 1.         0.98621258 0.9899266  0.96328709 0.93939953\n",
      " 0.94990047 0.92339443 0.93434952 0.942125   0.9575156  0.9517976\n",
      " 0.94693455 0.93996067 0.93897212 0.96416879 0.95441608 0.95131656\n",
      " 0.95324044 0.97656673 0.98020064 0.93691465 0.92050875 0.92072245\n",
      " 0.90987421 0.89314775 0.8837156  0.88697546 0.84211296 0.84499871\n",
      " 0.83268088 0.84093732 0.85568661 0.76107195 0.74661661 0.78017657\n",
      " 0.80251431 0.84213971 0.85365588 0.8717452  0.82506575 0.81587418\n",
      " 0.82463827 0.82295492 0.7909894  0.77570307 0.75653446 0.73540998\n",
      " 0.71379173 0.69272935 0.67296875 0.65503275 0.63925958 0.6258266\n",
      " 0.61476541 0.6059835  0.59928882 0.59441757 0.59106112 0.58889019\n",
      " 0.5875746  0.58680069 0.58628333 0.58577478]\n",
      "20 day output [[0.5850719]]\n",
      "21 day input [0.92152404 0.8782113  0.88473103 0.86242004 0.83137164 0.90704202\n",
      " 0.8941363  0.8982245  0.9048242  0.89060937 0.89806416 0.89475093\n",
      " 0.89178502 0.88737626 0.87537912 0.88991463 0.89686177 0.87842514\n",
      " 0.87030236 0.8777304  0.87043596 0.89993454 0.88566622 0.88863201\n",
      " 0.86968773 0.87318804 0.89507149 0.88646781 0.86784409 0.87072978\n",
      " 0.88379584 0.91278677 0.99436211 0.99743488 0.98824331 0.99695397\n",
      " 1.         0.98621258 0.9899266  0.96328709 0.93939953 0.94990047\n",
      " 0.92339443 0.93434952 0.942125   0.9575156  0.9517976  0.94693455\n",
      " 0.93996067 0.93897212 0.96416879 0.95441608 0.95131656 0.95324044\n",
      " 0.97656673 0.98020064 0.93691465 0.92050875 0.92072245 0.90987421\n",
      " 0.89314775 0.8837156  0.88697546 0.84211296 0.84499871 0.83268088\n",
      " 0.84093732 0.85568661 0.76107195 0.74661661 0.78017657 0.80251431\n",
      " 0.84213971 0.85365588 0.8717452  0.82506575 0.81587418 0.82463827\n",
      " 0.82295492 0.7909894  0.77570307 0.75653446 0.73540998 0.71379173\n",
      " 0.69272935 0.67296875 0.65503275 0.63925958 0.6258266  0.61476541\n",
      " 0.6059835  0.59928882 0.59441757 0.59106112 0.58889019 0.5875746\n",
      " 0.58680069 0.58628333 0.58577478 0.58507192]\n",
      "21 day output [[0.5840188]]\n",
      "22 day input [0.8782113  0.88473103 0.86242004 0.83137164 0.90704202 0.8941363\n",
      " 0.8982245  0.9048242  0.89060937 0.89806416 0.89475093 0.89178502\n",
      " 0.88737626 0.87537912 0.88991463 0.89686177 0.87842514 0.87030236\n",
      " 0.8777304  0.87043596 0.89993454 0.88566622 0.88863201 0.86968773\n",
      " 0.87318804 0.89507149 0.88646781 0.86784409 0.87072978 0.88379584\n",
      " 0.91278677 0.99436211 0.99743488 0.98824331 0.99695397 1.\n",
      " 0.98621258 0.9899266  0.96328709 0.93939953 0.94990047 0.92339443\n",
      " 0.93434952 0.942125   0.9575156  0.9517976  0.94693455 0.93996067\n",
      " 0.93897212 0.96416879 0.95441608 0.95131656 0.95324044 0.97656673\n",
      " 0.98020064 0.93691465 0.92050875 0.92072245 0.90987421 0.89314775\n",
      " 0.8837156  0.88697546 0.84211296 0.84499871 0.83268088 0.84093732\n",
      " 0.85568661 0.76107195 0.74661661 0.78017657 0.80251431 0.84213971\n",
      " 0.85365588 0.8717452  0.82506575 0.81587418 0.82463827 0.82295492\n",
      " 0.7909894  0.77570307 0.75653446 0.73540998 0.71379173 0.69272935\n",
      " 0.67296875 0.65503275 0.63925958 0.6258266  0.61476541 0.6059835\n",
      " 0.59928882 0.59441757 0.59106112 0.58889019 0.5875746  0.58680069\n",
      " 0.58628333 0.58577478 0.58507192 0.58401883]\n",
      "22 day output [[0.5825089]]\n",
      "23 day input [0.88473103 0.86242004 0.83137164 0.90704202 0.8941363  0.8982245\n",
      " 0.9048242  0.89060937 0.89806416 0.89475093 0.89178502 0.88737626\n",
      " 0.87537912 0.88991463 0.89686177 0.87842514 0.87030236 0.8777304\n",
      " 0.87043596 0.89993454 0.88566622 0.88863201 0.86968773 0.87318804\n",
      " 0.89507149 0.88646781 0.86784409 0.87072978 0.88379584 0.91278677\n",
      " 0.99436211 0.99743488 0.98824331 0.99695397 1.         0.98621258\n",
      " 0.9899266  0.96328709 0.93939953 0.94990047 0.92339443 0.93434952\n",
      " 0.942125   0.9575156  0.9517976  0.94693455 0.93996067 0.93897212\n",
      " 0.96416879 0.95441608 0.95131656 0.95324044 0.97656673 0.98020064\n",
      " 0.93691465 0.92050875 0.92072245 0.90987421 0.89314775 0.8837156\n",
      " 0.88697546 0.84211296 0.84499871 0.83268088 0.84093732 0.85568661\n",
      " 0.76107195 0.74661661 0.78017657 0.80251431 0.84213971 0.85365588\n",
      " 0.8717452  0.82506575 0.81587418 0.82463827 0.82295492 0.7909894\n",
      " 0.77570307 0.75653446 0.73540998 0.71379173 0.69272935 0.67296875\n",
      " 0.65503275 0.63925958 0.6258266  0.61476541 0.6059835  0.59928882\n",
      " 0.59441757 0.59106112 0.58889019 0.5875746  0.58680069 0.58628333\n",
      " 0.58577478 0.58507192 0.58401883 0.58250892]\n",
      "23 day output [[0.58048177]]\n",
      "24 day input [0.86242004 0.83137164 0.90704202 0.8941363  0.8982245  0.9048242\n",
      " 0.89060937 0.89806416 0.89475093 0.89178502 0.88737626 0.87537912\n",
      " 0.88991463 0.89686177 0.87842514 0.87030236 0.8777304  0.87043596\n",
      " 0.89993454 0.88566622 0.88863201 0.86968773 0.87318804 0.89507149\n",
      " 0.88646781 0.86784409 0.87072978 0.88379584 0.91278677 0.99436211\n",
      " 0.99743488 0.98824331 0.99695397 1.         0.98621258 0.9899266\n",
      " 0.96328709 0.93939953 0.94990047 0.92339443 0.93434952 0.942125\n",
      " 0.9575156  0.9517976  0.94693455 0.93996067 0.93897212 0.96416879\n",
      " 0.95441608 0.95131656 0.95324044 0.97656673 0.98020064 0.93691465\n",
      " 0.92050875 0.92072245 0.90987421 0.89314775 0.8837156  0.88697546\n",
      " 0.84211296 0.84499871 0.83268088 0.84093732 0.85568661 0.76107195\n",
      " 0.74661661 0.78017657 0.80251431 0.84213971 0.85365588 0.8717452\n",
      " 0.82506575 0.81587418 0.82463827 0.82295492 0.7909894  0.77570307\n",
      " 0.75653446 0.73540998 0.71379173 0.69272935 0.67296875 0.65503275\n",
      " 0.63925958 0.6258266  0.61476541 0.6059835  0.59928882 0.59441757\n",
      " 0.59106112 0.58889019 0.5875746  0.58680069 0.58628333 0.58577478\n",
      " 0.58507192 0.58401883 0.58250892 0.58048177]\n",
      "24 day output [[0.57792115]]\n",
      "25 day input [0.83137164 0.90704202 0.8941363  0.8982245  0.9048242  0.89060937\n",
      " 0.89806416 0.89475093 0.89178502 0.88737626 0.87537912 0.88991463\n",
      " 0.89686177 0.87842514 0.87030236 0.8777304  0.87043596 0.89993454\n",
      " 0.88566622 0.88863201 0.86968773 0.87318804 0.89507149 0.88646781\n",
      " 0.86784409 0.87072978 0.88379584 0.91278677 0.99436211 0.99743488\n",
      " 0.98824331 0.99695397 1.         0.98621258 0.9899266  0.96328709\n",
      " 0.93939953 0.94990047 0.92339443 0.93434952 0.942125   0.9575156\n",
      " 0.9517976  0.94693455 0.93996067 0.93897212 0.96416879 0.95441608\n",
      " 0.95131656 0.95324044 0.97656673 0.98020064 0.93691465 0.92050875\n",
      " 0.92072245 0.90987421 0.89314775 0.8837156  0.88697546 0.84211296\n",
      " 0.84499871 0.83268088 0.84093732 0.85568661 0.76107195 0.74661661\n",
      " 0.78017657 0.80251431 0.84213971 0.85365588 0.8717452  0.82506575\n",
      " 0.81587418 0.82463827 0.82295492 0.7909894  0.77570307 0.75653446\n",
      " 0.73540998 0.71379173 0.69272935 0.67296875 0.65503275 0.63925958\n",
      " 0.6258266  0.61476541 0.6059835  0.59928882 0.59441757 0.59106112\n",
      " 0.58889019 0.5875746  0.58680069 0.58628333 0.58577478 0.58507192\n",
      " 0.58401883 0.58250892 0.58048177 0.57792115]\n",
      "25 day output [[0.57484853]]\n",
      "26 day input [0.90704202 0.8941363  0.8982245  0.9048242  0.89060937 0.89806416\n",
      " 0.89475093 0.89178502 0.88737626 0.87537912 0.88991463 0.89686177\n",
      " 0.87842514 0.87030236 0.8777304  0.87043596 0.89993454 0.88566622\n",
      " 0.88863201 0.86968773 0.87318804 0.89507149 0.88646781 0.86784409\n",
      " 0.87072978 0.88379584 0.91278677 0.99436211 0.99743488 0.98824331\n",
      " 0.99695397 1.         0.98621258 0.9899266  0.96328709 0.93939953\n",
      " 0.94990047 0.92339443 0.93434952 0.942125   0.9575156  0.9517976\n",
      " 0.94693455 0.93996067 0.93897212 0.96416879 0.95441608 0.95131656\n",
      " 0.95324044 0.97656673 0.98020064 0.93691465 0.92050875 0.92072245\n",
      " 0.90987421 0.89314775 0.8837156  0.88697546 0.84211296 0.84499871\n",
      " 0.83268088 0.84093732 0.85568661 0.76107195 0.74661661 0.78017657\n",
      " 0.80251431 0.84213971 0.85365588 0.8717452  0.82506575 0.81587418\n",
      " 0.82463827 0.82295492 0.7909894  0.77570307 0.75653446 0.73540998\n",
      " 0.71379173 0.69272935 0.67296875 0.65503275 0.63925958 0.6258266\n",
      " 0.61476541 0.6059835  0.59928882 0.59441757 0.59106112 0.58889019\n",
      " 0.5875746  0.58680069 0.58628333 0.58577478 0.58507192 0.58401883\n",
      " 0.58250892 0.58048177 0.57792115 0.57484853]\n",
      "26 day output [[0.57131684]]\n",
      "27 day input [0.8941363  0.8982245  0.9048242  0.89060937 0.89806416 0.89475093\n",
      " 0.89178502 0.88737626 0.87537912 0.88991463 0.89686177 0.87842514\n",
      " 0.87030236 0.8777304  0.87043596 0.89993454 0.88566622 0.88863201\n",
      " 0.86968773 0.87318804 0.89507149 0.88646781 0.86784409 0.87072978\n",
      " 0.88379584 0.91278677 0.99436211 0.99743488 0.98824331 0.99695397\n",
      " 1.         0.98621258 0.9899266  0.96328709 0.93939953 0.94990047\n",
      " 0.92339443 0.93434952 0.942125   0.9575156  0.9517976  0.94693455\n",
      " 0.93996067 0.93897212 0.96416879 0.95441608 0.95131656 0.95324044\n",
      " 0.97656673 0.98020064 0.93691465 0.92050875 0.92072245 0.90987421\n",
      " 0.89314775 0.8837156  0.88697546 0.84211296 0.84499871 0.83268088\n",
      " 0.84093732 0.85568661 0.76107195 0.74661661 0.78017657 0.80251431\n",
      " 0.84213971 0.85365588 0.8717452  0.82506575 0.81587418 0.82463827\n",
      " 0.82295492 0.7909894  0.77570307 0.75653446 0.73540998 0.71379173\n",
      " 0.69272935 0.67296875 0.65503275 0.63925958 0.6258266  0.61476541\n",
      " 0.6059835  0.59928882 0.59441757 0.59106112 0.58889019 0.5875746\n",
      " 0.58680069 0.58628333 0.58577478 0.58507192 0.58401883 0.58250892\n",
      " 0.58048177 0.57792115 0.57484853 0.57131684]\n",
      "27 day output [[0.5674027]]\n",
      "28 day input [0.8982245  0.9048242  0.89060937 0.89806416 0.89475093 0.89178502\n",
      " 0.88737626 0.87537912 0.88991463 0.89686177 0.87842514 0.87030236\n",
      " 0.8777304  0.87043596 0.89993454 0.88566622 0.88863201 0.86968773\n",
      " 0.87318804 0.89507149 0.88646781 0.86784409 0.87072978 0.88379584\n",
      " 0.91278677 0.99436211 0.99743488 0.98824331 0.99695397 1.\n",
      " 0.98621258 0.9899266  0.96328709 0.93939953 0.94990047 0.92339443\n",
      " 0.93434952 0.942125   0.9575156  0.9517976  0.94693455 0.93996067\n",
      " 0.93897212 0.96416879 0.95441608 0.95131656 0.95324044 0.97656673\n",
      " 0.98020064 0.93691465 0.92050875 0.92072245 0.90987421 0.89314775\n",
      " 0.8837156  0.88697546 0.84211296 0.84499871 0.83268088 0.84093732\n",
      " 0.85568661 0.76107195 0.74661661 0.78017657 0.80251431 0.84213971\n",
      " 0.85365588 0.8717452  0.82506575 0.81587418 0.82463827 0.82295492\n",
      " 0.7909894  0.77570307 0.75653446 0.73540998 0.71379173 0.69272935\n",
      " 0.67296875 0.65503275 0.63925958 0.6258266  0.61476541 0.6059835\n",
      " 0.59928882 0.59441757 0.59106112 0.58889019 0.5875746  0.58680069\n",
      " 0.58628333 0.58577478 0.58507192 0.58401883 0.58250892 0.58048177\n",
      " 0.57792115 0.57484853 0.57131684 0.56740272]\n",
      "28 day output [[0.56319845]]\n",
      "29 day input [0.9048242  0.89060937 0.89806416 0.89475093 0.89178502 0.88737626\n",
      " 0.87537912 0.88991463 0.89686177 0.87842514 0.87030236 0.8777304\n",
      " 0.87043596 0.89993454 0.88566622 0.88863201 0.86968773 0.87318804\n",
      " 0.89507149 0.88646781 0.86784409 0.87072978 0.88379584 0.91278677\n",
      " 0.99436211 0.99743488 0.98824331 0.99695397 1.         0.98621258\n",
      " 0.9899266  0.96328709 0.93939953 0.94990047 0.92339443 0.93434952\n",
      " 0.942125   0.9575156  0.9517976  0.94693455 0.93996067 0.93897212\n",
      " 0.96416879 0.95441608 0.95131656 0.95324044 0.97656673 0.98020064\n",
      " 0.93691465 0.92050875 0.92072245 0.90987421 0.89314775 0.8837156\n",
      " 0.88697546 0.84211296 0.84499871 0.83268088 0.84093732 0.85568661\n",
      " 0.76107195 0.74661661 0.78017657 0.80251431 0.84213971 0.85365588\n",
      " 0.8717452  0.82506575 0.81587418 0.82463827 0.82295492 0.7909894\n",
      " 0.77570307 0.75653446 0.73540998 0.71379173 0.69272935 0.67296875\n",
      " 0.65503275 0.63925958 0.6258266  0.61476541 0.6059835  0.59928882\n",
      " 0.59441757 0.59106112 0.58889019 0.5875746  0.58680069 0.58628333\n",
      " 0.58577478 0.58507192 0.58401883 0.58250892 0.58048177 0.57792115\n",
      " 0.57484853 0.57131684 0.56740272 0.56319845]\n",
      "29 day output [[0.5588045]]\n",
      "[[0.7909893989562988], [0.7757030725479126], [0.7565344572067261], [0.7354099750518799], [0.7137917280197144], [0.6927293539047241], [0.6729687452316284], [0.655032753944397], [0.6392595767974854], [0.6258265972137451], [0.6147654056549072], [0.6059834957122803], [0.599288821220398], [0.5944175720214844], [0.5910611152648926], [0.5888901948928833], [0.5875746011734009], [0.5868006944656372], [0.5862833261489868], [0.5857747793197632], [0.5850719213485718], [0.5840188264846802], [0.58250892162323], [0.580481767654419], [0.5779211521148682], [0.5748485326766968], [0.5713168382644653], [0.567402720451355], [0.563198447227478], [0.5588045120239258]]\n"
     ]
    }
   ],
   "source": [
    "lst_output=[]\n",
    "n_steps=100\n",
    "nextNumberOfDays = 30\n",
    "i=0\n",
    "\n",
    "while(i<nextNumberOfDays):\n",
    "    \n",
    "    if(len(temp_input)>100):\n",
    "        x_input=np.array(temp_input[1:])\n",
    "        print(\"{} day input {}\".format(i,x_input))\n",
    "        x_input=x_input.reshape(1,-1)\n",
    "        x_input = x_input.reshape((1, n_steps, 1))\n",
    "        yhat = model.predict(x_input, verbose=0)\n",
    "        print(\"{} day output {}\".format(i,yhat))\n",
    "        temp_input.extend(yhat[0].tolist())\n",
    "        temp_input=temp_input[1:]\n",
    "        lst_output.extend(yhat.tolist())\n",
    "        i=i+1\n",
    "    else:\n",
    "        x_input = x_input.reshape((1, n_steps,1))\n",
    "        yhat = model.predict(x_input, verbose=0)\n",
    "        print(yhat[0])\n",
    "        temp_input.extend(yhat[0].tolist())\n",
    "        print(len(temp_input))\n",
    "        lst_output.extend(yhat.tolist())\n",
    "        i=i+1\n",
    "    \n",
    "\n",
    "print(lst_output)"
   ]
  },
  {
   "cell_type": "code",
   "execution_count": 26,
   "metadata": {
    "id": "Nwjv-mzSfuO9"
   },
   "outputs": [],
   "source": [
    "day_new = np.arange(1,101)\n",
    "day_pred = np.arange(101,131)"
   ]
  },
  {
   "cell_type": "code",
   "execution_count": 27,
   "metadata": {
    "id": "sKDlx46DfuO-"
   },
   "outputs": [],
   "source": [
    "df3 = df_close.tolist()\n",
    "df3.extend(lst_output)"
   ]
  },
  {
   "cell_type": "code",
   "execution_count": 28,
   "metadata": {
    "id": "cL457VhJfuO-",
    "outputId": "fb7a3a3b-6660-4eb3-a2be-2d207ce8ebfe"
   },
   "outputs": [
    {
     "data": {
      "text/plain": [
       "1232"
      ]
     },
     "execution_count": 28,
     "metadata": {},
     "output_type": "execute_result"
    }
   ],
   "source": [
    "len(df_close)"
   ]
  }
 ],
 "metadata": {
  "colab": {
   "provenance": []
  },
  "kernelspec": {
   "display_name": "Python 3 (ipykernel)",
   "language": "python",
   "name": "python3"
  },
  "language_info": {
   "codemirror_mode": {
    "name": "ipython",
    "version": 3
   },
   "file_extension": ".py",
   "mimetype": "text/x-python",
   "name": "python",
   "nbconvert_exporter": "python",
   "pygments_lexer": "ipython3",
   "version": "3.10.8"
  }
 },
 "nbformat": 4,
 "nbformat_minor": 1
}
