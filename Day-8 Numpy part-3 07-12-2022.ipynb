{
 "cells": [
  {
   "cell_type": "markdown",
   "id": "4dcf2aae",
   "metadata": {},
   "source": [
    "# Day-8 Numpy part-3 Vigneshwar 07/12/2022"
   ]
  },
  {
   "cell_type": "markdown",
   "id": "f3fc8b93",
   "metadata": {},
   "source": [
    "#### Conversion of binary numpy array to boolean numpy array"
   ]
  },
  {
   "cell_type": "code",
   "execution_count": 4,
   "id": "1001a0ce",
   "metadata": {},
   "outputs": [
    {
     "name": "stdout",
     "output_type": "stream",
     "text": [
      "[ True False  True  True False]\n"
     ]
    }
   ],
   "source": [
    "import numpy as np\n",
    "a=np.array([1,0,1,1,0])\n",
    "b=a.astype(bool)\n",
    "print(b)"
   ]
  },
  {
   "cell_type": "markdown",
   "id": "e912b560",
   "metadata": {},
   "source": [
    "#### Conversion of one datatype to another"
   ]
  },
  {
   "cell_type": "code",
   "execution_count": 5,
   "id": "7517eb2e",
   "metadata": {},
   "outputs": [
    {
     "name": "stdout",
     "output_type": "stream",
     "text": [
      "[1 7 6 2]\n"
     ]
    }
   ],
   "source": [
    "import numpy as np\n",
    "a=np.array([1.4, 7.4, 6.0, 2.1])\n",
    "b=a.astype(int)\n",
    "print(b)"
   ]
  },
  {
   "cell_type": "markdown",
   "id": "a9b7cc57",
   "metadata": {},
   "source": [
    "#### program to perform horizontal stack and vertical stack of numpy array"
   ]
  },
  {
   "cell_type": "code",
   "execution_count": 8,
   "id": "07756739",
   "metadata": {},
   "outputs": [
    {
     "name": "stdout",
     "output_type": "stream",
     "text": [
      "Horizontal stack\n",
      "[10 20 30]\n",
      "Vertical stack\n",
      "[[10]\n",
      " [20]\n",
      " [30]]\n"
     ]
    }
   ],
   "source": [
    "import numpy as np\n",
    "a=np.array([10,20,30])\n",
    "b=np.hstack(a)\n",
    "c=np.vstack(a)\n",
    "print('Horizontal stack')\n",
    "print(b)\n",
    "print('Vertical stack')\n",
    "print(c)"
   ]
  },
  {
   "cell_type": "markdown",
   "id": "290d5247",
   "metadata": {},
   "source": [
    "#### numpy program to generate a sequence of numbers from 0 to 50 with intervals of 2 numbers"
   ]
  },
  {
   "cell_type": "code",
   "execution_count": 9,
   "id": "b587cb8b",
   "metadata": {},
   "outputs": [
    {
     "name": "stdout",
     "output_type": "stream",
     "text": [
      "[ 0  2  4  6  8 10 12 14 16 18 20 22 24 26 28 30 32 34 36 38 40 42 44 46\n",
      " 48]\n"
     ]
    }
   ],
   "source": [
    "import numpy as np\n",
    "a=np.arange(0,50,2)\n",
    "print(a)"
   ]
  },
  {
   "cell_type": "markdown",
   "id": "b9b70b7a",
   "metadata": {},
   "source": [
    "#### numpy program to get the position where the elements of two numpy arrays match"
   ]
  },
  {
   "cell_type": "code",
   "execution_count": 10,
   "id": "11a5566a",
   "metadata": {},
   "outputs": [
    {
     "name": "stdout",
     "output_type": "stream",
     "text": [
      "(array([0, 2], dtype=int64),)\n"
     ]
    }
   ],
   "source": [
    "import numpy as np\n",
    "a=np.array([2,3,5,5])\n",
    "b=np.array([2,4,5,6])\n",
    "print(np.where(a==b))"
   ]
  },
  {
   "cell_type": "markdown",
   "id": "c3cb8771",
   "metadata": {},
   "source": [
    "#### a numpy program to count equally spaced number within a specific range"
   ]
  },
  {
   "cell_type": "code",
   "execution_count": 11,
   "id": "fffae74c",
   "metadata": {},
   "outputs": [
    {
     "name": "stdout",
     "output_type": "stream",
     "text": [
      "50\n"
     ]
    }
   ],
   "source": [
    "import numpy as np\n",
    "a=np.count_nonzero(np.linspace(2,3))\n",
    "print(a)"
   ]
  },
  {
   "cell_type": "markdown",
   "id": "a897dade",
   "metadata": {},
   "source": [
    "#### python program to find sine and cosine of an angle using numpy"
   ]
  },
  {
   "cell_type": "code",
   "execution_count": 12,
   "id": "a7d58b6f",
   "metadata": {},
   "outputs": [
    {
     "name": "stdout",
     "output_type": "stream",
     "text": [
      "1.0\n",
      "-1.0\n"
     ]
    }
   ],
   "source": [
    "import numpy as np\n",
    "x=np.sin(np.pi/2)\n",
    "y=np.cos(np.pi)\n",
    "print(x)\n",
    "print(y)"
   ]
  },
  {
   "cell_type": "markdown",
   "id": "e4472bdb",
   "metadata": {},
   "source": [
    "#### a numpy program to generate a sequence of random numbers in normal distribution"
   ]
  },
  {
   "cell_type": "code",
   "execution_count": 13,
   "id": "9cf8dfdb",
   "metadata": {},
   "outputs": [
    {
     "name": "stdout",
     "output_type": "stream",
     "text": [
      "[-0.65151912 -1.62265226  0.51757578]\n"
     ]
    }
   ],
   "source": [
    "import numpy as np\n",
    "from numpy import random\n",
    "a=np.random.normal(size=3)\n",
    "print(a)"
   ]
  },
  {
   "cell_type": "markdown",
   "id": "3b2aacca",
   "metadata": {},
   "source": [
    "#### a program to perform mathematical functions using numpy for exponents, log, square roots and cubes of an array"
   ]
  },
  {
   "cell_type": "code",
   "execution_count": 14,
   "id": "17541018",
   "metadata": {},
   "outputs": [
    {
     "name": "stdout",
     "output_type": "stream",
     "text": [
      "[2.71828183e+00 2.98095799e+03 5.45981500e+01]\n",
      "[0.         2.07944154 1.38629436]\n",
      "[1.         2.82842712 2.        ]\n",
      "[  1 512  64]\n"
     ]
    }
   ],
   "source": [
    "import numpy as np\n",
    "a=np.array([1, 8, 4])\n",
    "print(np.exp(a))\n",
    "print(np.log(a))\n",
    "print(np.sqrt(a))\n",
    "print(np.power(a,3))"
   ]
  },
  {
   "cell_type": "code",
   "execution_count": null,
   "id": "6d765712",
   "metadata": {},
   "outputs": [],
   "source": [
    "####  Done by Vigneshwar.B"
   ]
  }
 ],
 "metadata": {
  "kernelspec": {
   "display_name": "Python 3 (ipykernel)",
   "language": "python",
   "name": "python3"
  },
  "language_info": {
   "codemirror_mode": {
    "name": "ipython",
    "version": 3
   },
   "file_extension": ".py",
   "mimetype": "text/x-python",
   "name": "python",
   "nbconvert_exporter": "python",
   "pygments_lexer": "ipython3",
   "version": "3.10.8"
  }
 },
 "nbformat": 4,
 "nbformat_minor": 5
}
