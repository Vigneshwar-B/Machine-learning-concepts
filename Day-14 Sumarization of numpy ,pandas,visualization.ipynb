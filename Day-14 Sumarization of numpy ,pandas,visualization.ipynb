{
 "cells": [
  {
   "cell_type": "raw",
   "id": "9a91e5a6",
   "metadata": {},
   "source": [
    "1.\tWrite a python program to sort the Array of 10 Elements In Ascending Order"
   ]
  },
  {
   "cell_type": "code",
   "execution_count": 1,
   "id": "5a230361",
   "metadata": {},
   "outputs": [
    {
     "name": "stdout",
     "output_type": "stream",
     "text": [
      "[ 1  2  3  8 10 20 45 52 66 78]\n"
     ]
    }
   ],
   "source": [
    "import numpy as np\n",
    "\n",
    "arr = np.array([3, 2, 52,10,66,45,78,8,20, 1])\n",
    "\n",
    "print(np.sort(arr))"
   ]
  },
  {
   "cell_type": "raw",
   "id": "f7082633",
   "metadata": {},
   "source": [
    "2.\tWrite a python code to perform Horizontal stack using numpy array"
   ]
  },
  {
   "cell_type": "code",
   "execution_count": 2,
   "id": "3f18d00d",
   "metadata": {},
   "outputs": [
    {
     "name": "stdout",
     "output_type": "stream",
     "text": [
      "Horizontal stack\n",
      "[10 30 20  1  2  5]\n"
     ]
    }
   ],
   "source": [
    "import numpy as np\n",
    "a=np.array([[10,30,20],[1,2,5]])\n",
    "b=np.hstack(a)\n",
    "print(\"Horizontal stack\")\n",
    "print(b)"
   ]
  },
  {
   "cell_type": "raw",
   "id": "89d24936",
   "metadata": {},
   "source": [
    "3.\tWrite a python program to Sort the Array of 15 elements in Descending Order"
   ]
  },
  {
   "cell_type": "code",
   "execution_count": 3,
   "id": "eef38d99",
   "metadata": {},
   "outputs": [
    {
     "name": "stdout",
     "output_type": "stream",
     "text": [
      "[74 54 25  8  5  2  1]\n"
     ]
    }
   ],
   "source": [
    "import numpy as np\n",
    "x=np.array([1,2,54,8,74,25,5])\n",
    "x=np.sort(x)[::-1]\n",
    "print(x)"
   ]
  },
  {
   "cell_type": "raw",
   "id": "4b4dc7d6",
   "metadata": {},
   "source": [
    "4.\tWrite a python code to perform Generating sequence of numbers using Python"
   ]
  },
  {
   "cell_type": "code",
   "execution_count": 4,
   "id": "3d6e69d8",
   "metadata": {},
   "outputs": [
    {
     "name": "stdout",
     "output_type": "stream",
     "text": [
      "[ 0  2  4  6  8 10 12 14 16 18 20 22 24 26 28 30 32 34 36 38 40 42 44 46\n",
      " 48]\n"
     ]
    }
   ],
   "source": [
    "import numpy as np\n",
    "a=np.arange(0,50,2)\n",
    "print(a)"
   ]
  },
  {
   "cell_type": "raw",
   "id": "7d75588d",
   "metadata": {},
   "source": [
    "5.\tWrite a python code to Count of equally spaced numbers within specific  range 10 to 50"
   ]
  },
  {
   "cell_type": "code",
   "execution_count": 44,
   "id": "7f5b22cc",
   "metadata": {},
   "outputs": [
    {
     "name": "stdout",
     "output_type": "stream",
     "text": [
      "50\n"
     ]
    }
   ],
   "source": [
    "import numpy as np\n",
    "a=np.count_nonzero(np.linspace(10,50))\n",
    "print(a)\n"
   ]
  },
  {
   "cell_type": "markdown",
   "id": "8e1bce64",
   "metadata": {},
   "source": [
    "6.\tWrite a Python program to perform multiplication of two matrices"
   ]
  },
  {
   "cell_type": "code",
   "execution_count": 6,
   "id": "1b504bd5",
   "metadata": {},
   "outputs": [
    {
     "name": "stdout",
     "output_type": "stream",
     "text": [
      "[[22 34]\n",
      " [46 74]]\n"
     ]
    }
   ],
   "source": [
    "import numpy as np\n",
    "a=[[2,4],[6,8]]\n",
    "b=[[1,3],[5,7]]\n",
    "print(np.matmul(a,b))"
   ]
  },
  {
   "cell_type": "markdown",
   "id": "054dbb14",
   "metadata": {},
   "source": [
    "7.\tWrite a python code to perform Pandas program to create and display One Dimensional Frames"
   ]
  },
  {
   "cell_type": "code",
   "execution_count": 7,
   "id": "e7dad8cc",
   "metadata": {},
   "outputs": [
    {
     "name": "stdout",
     "output_type": "stream",
     "text": [
      "0    1\n",
      "1    3\n",
      "2    5\n",
      "3    7\n",
      "dtype: int64\n"
     ]
    }
   ],
   "source": [
    "import pandas as pd\n",
    "ds=pd.Series([1,3,5,7])\n",
    "print(ds)"
   ]
  },
  {
   "cell_type": "markdown",
   "id": "75461c23",
   "metadata": {},
   "source": [
    "8.\tWrite a python code to perform Conversion of binary numpy array to boolean numpy array"
   ]
  },
  {
   "cell_type": "code",
   "execution_count": 8,
   "id": "55283316",
   "metadata": {},
   "outputs": [
    {
     "name": "stdout",
     "output_type": "stream",
     "text": [
      "[ True False  True  True False]\n"
     ]
    }
   ],
   "source": [
    "import numpy as np\n",
    "a=np.array([1,0,1,1,0])\n",
    "b=a.astype(bool)\n",
    "print(b)"
   ]
  },
  {
   "cell_type": "markdown",
   "id": "8b2cb5e3",
   "metadata": {},
   "source": [
    "9.\tWrite a python code to Select specific columns of  DataFrame using Pandas"
   ]
  },
  {
   "cell_type": "code",
   "execution_count": 9,
   "id": "9e4e7a08",
   "metadata": {},
   "outputs": [
    {
     "name": "stdout",
     "output_type": "stream",
     "text": [
      "    name  score\n",
      "a    Joy     12\n",
      "b   Diya      9\n",
      "c    Anu     16\n",
      "d   John      9\n",
      "e  Radha     20\n"
     ]
    }
   ],
   "source": [
    "import pandas as pd\n",
    "exam={\n",
    "'name' : ['Joy','Diya','Anu','John','Radha'],\n",
    "'score' : [12,9,16,9,20],\n",
    "'attempt' : [1,3,2,3,2],\n",
    "'qualify' : ['yes','no','yes','no','yes']\n",
    "     }\n",
    "Labels=['a','b','c','d','e']\n",
    "df=pd.DataFrame(exam,index=Labels)\n",
    "print(df[['name','score']])"
   ]
  },
  {
   "cell_type": "markdown",
   "id": "8fd5deb6",
   "metadata": {},
   "source": [
    "10.\tWrite a python code to perform Vertical stack using numpy array"
   ]
  },
  {
   "cell_type": "code",
   "execution_count": 10,
   "id": "9647957d",
   "metadata": {},
   "outputs": [
    {
     "name": "stdout",
     "output_type": "stream",
     "text": [
      "vertical stack\n",
      "[[10 30 20]\n",
      " [ 1  2  5]]\n"
     ]
    }
   ],
   "source": [
    "import numpy as np\n",
    "a=np.array([[10,30,20],[1,2,5]])\n",
    "b=np.vstack(a)\n",
    "print(\"vertical stack\")\n",
    "print(b)"
   ]
  },
  {
   "cell_type": "raw",
   "id": "2328a91a",
   "metadata": {},
   "source": [
    "11.\tWrite a python code to perform Frequency distribution of ungrouped data as follows\n",
    "The heights of 25 students, measured to the nearest centimetres, have been found as given: \n",
    "161, 150, 154, 165, 168, 161, 154, 162, 150, 151, 162, 164, 171, 165, 158, 154, 156, 172, 160, 170, 153, 159, 161, 170\n"
   ]
  },
  {
   "cell_type": "code",
   "execution_count": 11,
   "id": "00a13cc1",
   "metadata": {},
   "outputs": [
    {
     "name": "stdout",
     "output_type": "stream",
     "text": [
      "161    2\n",
      "150    2\n",
      "154    2\n",
      "165    2\n",
      "162    2\n",
      "168    1\n",
      "151    1\n",
      "164    1\n",
      "171    1\n",
      "158    1\n",
      "Name: A, dtype: int64\n"
     ]
    }
   ],
   "source": [
    "import pandas as pd\n",
    "df=pd.DataFrame({'A' :\n",
    "[161, 150, 154, 165, 168, 161, 154, 162, 150, 151, 162, 164, 171, 165, 158]})\n",
    "count=df['A'].value_counts()\n",
    "print(count)"
   ]
  },
  {
   "cell_type": "raw",
   "id": "e0c7b1e1",
   "metadata": {},
   "source": [
    "12.\tThe scores (out of 100) obtained by 33 students in a mathematics test are as follows:\n",
    "69, 48, 84, 58, 48, 73, 83, 48, 66, 58, 84,66, 64, 71, 64, 66, 69, 66, 83, 66, 69, 71 81, 71, 73, 69, 66, 66, 64, 58, 64, 69, 69\n",
    "Represent this data in the form of a frequency distribution and write source code using python for the above problem \n"
   ]
  },
  {
   "cell_type": "code",
   "execution_count": 12,
   "id": "b9c78108",
   "metadata": {},
   "outputs": [
    {
     "name": "stdout",
     "output_type": "stream",
     "text": [
      "69    6\n",
      "66    4\n",
      "48    2\n",
      "58    2\n",
      "71    2\n",
      "64    2\n",
      "84    1\n",
      "83    1\n",
      "81    1\n",
      "73    1\n",
      "Name: b, dtype: int64\n"
     ]
    }
   ],
   "source": [
    "import pandas as pd\n",
    "df=pd.DataFrame({'b' : [69, 48, 84, 58, 48, 69, 66, 83, 66, 69, 71 ,81, 71, 73, 69, 66, 66, 64, 58, 64, 69, 69]})\n",
    "count=df['b'].value_counts()\n",
    "print(count)"
   ]
  },
  {
   "cell_type": "raw",
   "id": "b2634d68",
   "metadata": {},
   "source": [
    "13.\tWrite a python program to perform Addition and Subtraction Operations in matrix using Numpy arrays"
   ]
  },
  {
   "cell_type": "code",
   "execution_count": 13,
   "id": "e4c8992e",
   "metadata": {},
   "outputs": [
    {
     "name": "stdout",
     "output_type": "stream",
     "text": [
      "[[4 6]\n",
      " [6 4]]\n",
      "[[-2 -2]\n",
      " [-2 -2]]\n"
     ]
    }
   ],
   "source": [
    "import numpy as np\n",
    "a=np.array([[1,2],[2,1]])\n",
    "b=np.array([[3,4],[4,3]])\n",
    "r1=np.add(a,b)\n",
    "r2=np.subtract(a,b)\n",
    "print(r1)\n",
    "print(r2)"
   ]
  },
  {
   "cell_type": "raw",
   "id": "278d4134",
   "metadata": {},
   "source": [
    "14.\tWrite a python code to perform Getting position of numpy array elements "
   ]
  },
  {
   "cell_type": "code",
   "execution_count": 14,
   "id": "b497603c",
   "metadata": {},
   "outputs": [
    {
     "name": "stdout",
     "output_type": "stream",
     "text": [
      "(array([0, 2], dtype=int64),)\n"
     ]
    }
   ],
   "source": [
    "import numpy as np\n",
    "a=np.array([2,3,5,5])\n",
    "b=np.array([2,4,5,6])\n",
    "print(np.where(a==b))"
   ]
  },
  {
   "cell_type": "raw",
   "id": "879f15a1",
   "metadata": {},
   "source": [
    "15.\tWrite a python code to perform Random integer in normal distribution"
   ]
  },
  {
   "cell_type": "code",
   "execution_count": 15,
   "id": "446e2656",
   "metadata": {},
   "outputs": [
    {
     "name": "stdout",
     "output_type": "stream",
     "text": [
      "[ 0.52995131  0.10706876 -0.85282983  0.14363211 -0.3831544 ]\n"
     ]
    }
   ],
   "source": [
    "r = np.random.normal(size=5)\n",
    "print(r)"
   ]
  },
  {
   "cell_type": "raw",
   "id": "6c2b6966",
   "metadata": {},
   "source": [
    "16.\tWrite a python code to perform Random integer generation using function"
   ]
  },
  {
   "cell_type": "code",
   "execution_count": 16,
   "id": "91c3ecf2",
   "metadata": {},
   "outputs": [
    {
     "name": "stdout",
     "output_type": "stream",
     "text": [
      "[10 13  8  7 14  3  8  5 16 16]\n"
     ]
    }
   ],
   "source": [
    "import numpy as np\n",
    "from numpy import random\n",
    "a=np.random.randint(1,20,10)\n",
    "print(a)"
   ]
  },
  {
   "cell_type": "raw",
   "id": "625176d9",
   "metadata": {},
   "source": [
    "17.Write a python code to perform Math functions using numpy"
   ]
  },
  {
   "cell_type": "code",
   "execution_count": 17,
   "id": "a7318f5b",
   "metadata": {},
   "outputs": [
    {
     "name": "stdout",
     "output_type": "stream",
     "text": [
      "[2.71828183e+00 2.98095799e+03 5.45981500e+01]\n",
      "[0.         2.07944154 1.38629436]\n",
      "[1.         2.82842712 2.        ]\n",
      "[  1 512  64]\n"
     ]
    }
   ],
   "source": [
    "import numpy as np\n",
    "a=np.array([1, 8, 4])\n",
    "print(np.exp(a))\n",
    "print(np.log(a))\n",
    "print(np.sqrt(a))\n",
    "print(np.power(a,3))"
   ]
  },
  {
   "cell_type": "raw",
   "id": "db77ebba",
   "metadata": {},
   "source": [
    "18.Write a python code to perform Create and Display of Data Dictionary"
   ]
  },
  {
   "cell_type": "code",
   "execution_count": 18,
   "id": "bcb5b5e1",
   "metadata": {},
   "outputs": [
    {
     "name": "stdout",
     "output_type": "stream",
     "text": [
      "{'name': ['Joy', 'Diya', 'Anu', 'John', 'Radha'], 'score': [12, 9, 16, 9, 20], 'attempt': [1, 3, 2, 3, 2], 'qualify': ['yes', 'no', 'yes', 'no', 'yes']}\n",
      "\n",
      "    name  score  attempt qualify\n",
      "a    Joy     12        1     yes\n",
      "b   Diya      9        3      no\n",
      "c    Anu     16        2     yes\n",
      "d   John      9        3      no\n",
      "e  Radha     20        2     yes\n"
     ]
    }
   ],
   "source": [
    "import pandas as pd\n",
    "exam={'name' : ['Joy','Diya','Anu','John','Radha'],\n",
    "'score' : [12,9,16,9,20],\n",
    "'attempt' : [1,3,2,3,2],\n",
    "'qualify' : ['yes','no','yes','no','yes']}\n",
    "print(exam)# Displaying Data Dictionary\n",
    "print()\n",
    "Labels=['a','b','c','d','e']\n",
    "df=pd.DataFrame(exam,index=Labels)\n",
    "print(df)\n"
   ]
  },
  {
   "cell_type": "raw",
   "id": "ad6807d1",
   "metadata": {},
   "source": [
    "19.\tWrite a python code to Count number of rows and columns in  dataframe using Pandas"
   ]
  },
  {
   "cell_type": "code",
   "execution_count": 19,
   "id": "9ac0e780",
   "metadata": {},
   "outputs": [
    {
     "name": "stdout",
     "output_type": "stream",
     "text": [
      "    name  score  attempt qualify\n",
      "a    Joy     12        1     yes\n",
      "b   Diya      9        3      no\n",
      "c    Anu     16        2     yes\n",
      "d   John      9        3      no\n",
      "e  Radha     20        2     yes\n",
      "\n",
      "Index(['a', 'b', 'c', 'd', 'e'], dtype='object')\n",
      "Index(['name', 'score', 'attempt', 'qualify'], dtype='object')\n",
      "\n",
      "\n",
      "Rows =  5\n",
      "Columns =  4\n"
     ]
    }
   ],
   "source": [
    "import pandas as pd\n",
    "exam={'name' : ['Joy','Diya','Anu','John','Radha'],\n",
    "'score' : [12,9,16,9,20],\n",
    "'attempt' : [1,3,2,3,2],\n",
    "'qualify' : ['yes','no','yes','no','yes']}\n",
    "Labels=['a','b','c','d','e']\n",
    "df=pd.DataFrame(exam,index=Labels)\n",
    "print(df)\n",
    "print()\n",
    "print(df.axes[0])\n",
    "print(df.axes[1])\n",
    "print()\n",
    "print()\n",
    "rows=len(df.axes[0])\n",
    "cols=len(df.axes[1])\n",
    "print('Rows = ',rows)\n",
    "print('Columns = ',cols)"
   ]
  },
  {
   "cell_type": "raw",
   "id": "af0150be",
   "metadata": {},
   "source": [
    "20.\tWrite a python code to perform Getting all elements in array which are less than  50"
   ]
  },
  {
   "cell_type": "code",
   "execution_count": 20,
   "id": "98c00b82",
   "metadata": {},
   "outputs": [
    {
     "name": "stdout",
     "output_type": "stream",
     "text": [
      "Array elements less than n=6 are \n",
      "[ 7.1  9.   4.9 27.5  1.2]\n"
     ]
    }
   ],
   "source": [
    "import numpy as np\n",
    "a=np.array([[57.4, 7.1, 9.0],[273.5, 172.9, 4.9],[27.5, 87.9, 1.2]])\n",
    "n = 50\n",
    "print('Array elements less than n=6 are ')\n",
    "print(a[a<n])"
   ]
  },
  {
   "cell_type": "raw",
   "id": "83366fbf",
   "metadata": {},
   "source": [
    "21.\tWrite a python code to perform Conversion of one dimensional array to 2 dimensional array"
   ]
  },
  {
   "cell_type": "code",
   "execution_count": 21,
   "id": "c0579c60",
   "metadata": {},
   "outputs": [
    {
     "name": "stdout",
     "output_type": "stream",
     "text": [
      "[[ 1  3]\n",
      " [ 5  7]\n",
      " [ 9 11]\n",
      " [13 15]]\n"
     ]
    }
   ],
   "source": [
    "import numpy as np\n",
    "arr=np.array([1,3,5,7,9,11,13,15])\n",
    "b=arr.reshape(4,2)\n",
    "print(b)"
   ]
  },
  {
   "cell_type": "raw",
   "id": "e016286e",
   "metadata": {},
   "source": [
    "22.\tWrite a python code to perform Conversion of one datatype to another "
   ]
  },
  {
   "cell_type": "code",
   "execution_count": 22,
   "id": "7167cecd",
   "metadata": {},
   "outputs": [
    {
     "name": "stdout",
     "output_type": "stream",
     "text": [
      "[1 7 6 2]\n"
     ]
    }
   ],
   "source": [
    "import numpy as np\n",
    "a=np.array([1.4, 7.9, 6.0, 2.1])\n",
    "b=a.astype(int)\n",
    "print(b)"
   ]
  },
  {
   "cell_type": "raw",
   "id": "2d754dd5",
   "metadata": {},
   "source": [
    "23.\tWrite a python code to perform a Transpose of matrix "
   ]
  },
  {
   "cell_type": "code",
   "execution_count": 23,
   "id": "7c1a97fa",
   "metadata": {},
   "outputs": [
    {
     "name": "stdout",
     "output_type": "stream",
     "text": [
      "[[1 3]\n",
      " [2 4]]\n"
     ]
    }
   ],
   "source": [
    "import numpy as np\n",
    "a=np.array([[1,2],[3,4]])\n",
    "b=a.transpose()\n",
    "print(b)"
   ]
  },
  {
   "cell_type": "raw",
   "id": "1f9ac5ce",
   "metadata": {},
   "source": [
    "24.\tWrite a python code to Create and display first rows of  dataframe using pandas"
   ]
  },
  {
   "cell_type": "code",
   "execution_count": 24,
   "id": "b54d2811",
   "metadata": {},
   "outputs": [
    {
     "name": "stdout",
     "output_type": "stream",
     "text": [
      "    name  score  attempt qualify\n",
      "a    Joy     12        1     yes\n",
      "b   Diya      9        3      no\n",
      "c    Anu     16        2     yes\n",
      "d   John      9        3      no\n",
      "e  Radha     20        2     yes\n",
      "\n",
      "\n",
      "   name  score  attempt qualify\n",
      "a   Joy     12        1     yes\n",
      "b  Diya      9        3      no\n"
     ]
    }
   ],
   "source": [
    "import pandas as pd\n",
    "exam={'name' : ['Joy','Diya','Anu','John','Radha'],\n",
    "'score' : [12,9,16,9,20],\n",
    "'attempt' : [1,3,2,3,2],\n",
    "'qualify' : ['yes','no','yes','no','yes']}\n",
    "Labels=['a','b','c','d','e']\n",
    "df=pd.DataFrame(exam,index=Labels)\n",
    "print(df)\n",
    "print()\n",
    "print()\n",
    "print(df.iloc[0:2])"
   ]
  },
  {
   "cell_type": "raw",
   "id": "c8aa99c7",
   "metadata": {},
   "source": [
    "25.\tWrite a python code to perform Sine and Cosine of an angle\n"
   ]
  },
  {
   "cell_type": "code",
   "execution_count": 1,
   "id": "cf880fd4",
   "metadata": {},
   "outputs": [
    {
     "name": "stdout",
     "output_type": "stream",
     "text": [
      "1.0\n",
      "-1.0\n"
     ]
    }
   ],
   "source": [
    "import numpy as np\n",
    "x=np.sin(np.pi/2)\n",
    "y=np.cos(np.pi)\n",
    "print(x)\n",
    "print(y)"
   ]
  },
  {
   "cell_type": "raw",
   "id": "6d3d51d9",
   "metadata": {},
   "source": [
    "26.\tWrite a python code to perform Arithmetic Operations Using Pandas\n",
    "\n"
   ]
  },
  {
   "cell_type": "code",
   "execution_count": null,
   "id": "4f5af805",
   "metadata": {},
   "outputs": [],
   "source": [
    "import pandas as pd\n",
    "a=pd.Series([2,4,6,8])\n",
    "b=pd.Series([1,3,5,7])\n",
    "c=a+b\n",
    "d=a-b;\n",
    "e=a*b\n",
    "f=a/b\n",
    "print('Series 1')\n",
    "print(a)\n",
    "print('Series 2')\n",
    "print(b)\n",
    "print('Sum')\n",
    "print(c)\n",
    "print('Difference')\n",
    "print(d)\n",
    "print('Product')\n",
    "print( e)\n",
    "print('Quotient')\n",
    "print(f)\n"
   ]
  },
  {
   "cell_type": "raw",
   "id": "ae606e9f",
   "metadata": {},
   "source": [
    "27.\tWrite a python code to perform Math functions using numpy array."
   ]
  },
  {
   "cell_type": "code",
   "execution_count": null,
   "id": "d1af8f74",
   "metadata": {},
   "outputs": [],
   "source": [
    "import numpy as np\n",
    "a=np.array([1, 8, 4])\n",
    "print(np.exp(a))\n",
    "print(np.log(a))\n",
    "print(np.sqrt(a))\n",
    "print(np.power(a,3))"
   ]
  },
  {
   "cell_type": "markdown",
   "id": "aa77786d",
   "metadata": {},
   "source": [
    "28. no question"
   ]
  },
  {
   "cell_type": "raw",
   "id": "6f87e7fb",
   "metadata": {},
   "source": [
    "29.\tWrite a python code to perform Averages for the following :\n",
    "The marks obtained by 8 students in a class test are 12, 15, 16, 18, 20, 10, 11, and 21. Use the average formula and find out what is the average of the marks obtained by the students\n"
   ]
  },
  {
   "cell_type": "code",
   "execution_count": 5,
   "id": "1ebbca2f",
   "metadata": {},
   "outputs": [
    {
     "name": "stdout",
     "output_type": "stream",
     "text": [
      "15.375\n"
     ]
    }
   ],
   "source": [
    "import pandas as pd\n",
    "df=pd.DataFrame({'A' :\n",
    "[12, 15, 16, 18, 20, 10, 11,21]})\n",
    "print(df[\"A\"].mean())"
   ]
  },
  {
   "cell_type": "raw",
   "id": "5040c21f",
   "metadata": {},
   "source": [
    "30.\tWrite a python code to perform Averages for the following :\n",
    "The monthly incentives received by an employee for five months are: $21, $27, $31, $19, $22. Using the average formula, calculate the average incentive received by the employee for these five months.\n"
   ]
  },
  {
   "cell_type": "code",
   "execution_count": 6,
   "id": "e0583ef6",
   "metadata": {},
   "outputs": [
    {
     "name": "stdout",
     "output_type": "stream",
     "text": [
      "24.0\n"
     ]
    }
   ],
   "source": [
    "import pandas as pd\n",
    "df=pd.Series([21,27,31,19,22])\n",
    "print(df.mean())"
   ]
  },
  {
   "cell_type": "raw",
   "id": "c6858940",
   "metadata": {},
   "source": [
    "31.\tWrite a python code to perform Averages for the following :\n",
    "The weight(lb) of students in a class are listed here: {50, 55, 53, 56, 57, 59}. Using the average formula, calculate the average weight of students in the class.\n"
   ]
  },
  {
   "cell_type": "code",
   "execution_count": 17,
   "id": "49a3ed88",
   "metadata": {},
   "outputs": [
    {
     "name": "stdout",
     "output_type": "stream",
     "text": [
      "sum : 330\n",
      "number of elemets : 6\n",
      "Average : 55.0\n",
      "Mean : 55.0\n"
     ]
    }
   ],
   "source": [
    "import pandas as pd\n",
    "df=pd.Series([50, 55, 53, 56, 57, 59])\n",
    "a=len(df)\n",
    "b=sum(df)\n",
    "print(\"sum :\",b)\n",
    "print(\"number of elemets :\",a)\n",
    "print(\"Average :\",b/a)\n",
    "print(\"Mean :\",df.mean())"
   ]
  },
  {
   "cell_type": "markdown",
   "id": "2b3454e5",
   "metadata": {},
   "source": [
    "32.\tWrite a python code to perform variability for the dataset 46 69 32 60 52 41"
   ]
  },
  {
   "cell_type": "code",
   "execution_count": 19,
   "id": "7963bd9a",
   "metadata": {},
   "outputs": [
    {
     "name": "stdout",
     "output_type": "stream",
     "text": [
      "[46, 69, 32, 60, 52, 41]\n",
      "Mean : 50.0\n",
      "SD : 12.151817422372122\n",
      "Variance: 147.66666666666666\n"
     ]
    }
   ],
   "source": [
    "import numpy as np\n",
    "array = [46, 69, 32, 60, 52, 41]\n",
    "print(array)\n",
    "r1 = np.mean(array)\n",
    "print('Mean :',r1)\n",
    "r2 = np.std(array)\n",
    "print('SD :',r2)\n",
    "r3 = np.var(array)\n",
    "print('Variance:',r3)"
   ]
  },
  {
   "cell_type": "raw",
   "id": "97652da6",
   "metadata": {},
   "source": [
    "33.\tWrite a python code to perform variability for the following\n",
    "There are 45 students in a class. 5 students were randomly selected from this class and their heights (in cm) were recorded as follows: 131   \t148\t139\t142\t152\n"
   ]
  },
  {
   "cell_type": "code",
   "execution_count": 20,
   "id": "5053a02d",
   "metadata": {},
   "outputs": [
    {
     "name": "stdout",
     "output_type": "stream",
     "text": [
      "[131, 148, 139, 142, 152]\n",
      "Mean : 142.4\n",
      "SD : 7.28285658241325\n",
      "Variance: 53.04\n"
     ]
    }
   ],
   "source": [
    "import numpy as np\n",
    "array = [131,148,139,142,152]\n",
    "print(array)\n",
    "r1 = np.mean(array)\n",
    "print('Mean :',r1)\n",
    "r2 = np.std(array)\n",
    "print('SD :',r2)\n",
    "r3 = np.var(array)\n",
    "print('Variance:',r3)"
   ]
  },
  {
   "cell_type": "raw",
   "id": "a154e7bb",
   "metadata": {},
   "source": [
    "34.\tWrite a python code to perform variability for the following\n",
    "            Given the data set {4.5, 9.8, 2.3, 5.3, 8.9}\n"
   ]
  },
  {
   "cell_type": "code",
   "execution_count": 21,
   "id": "52338560",
   "metadata": {},
   "outputs": [
    {
     "name": "stdout",
     "output_type": "stream",
     "text": [
      "[4.5, 9.8, 2.3, 5.3, 8.9]\n",
      "Mean : 6.160000000000001\n",
      "SD : 2.798285189182833\n",
      "Variance: 7.830400000000003\n"
     ]
    }
   ],
   "source": [
    "import numpy as np\n",
    "array = [4.5, 9.8, 2.3, 5.3, 8.9]\n",
    "print(array)\n",
    "r1 = np.mean(array)\n",
    "print('Mean :',r1)\n",
    "r2 = np.std(array)\n",
    "print('SD :',r2)\n",
    "r3 = np.var(array)\n",
    "print('Variance:',r3)"
   ]
  },
  {
   "cell_type": "raw",
   "id": "03175d33",
   "metadata": {},
   "source": [
    "35.\tWrite a python code to perform variability for the following\n",
    "Xi values\tf\n",
    "10 - 20\t7\n",
    "20 - 30\t2\n",
    "30 - 40\t10\n",
    "40 - 50\t1\n"
   ]
  },
  {
   "cell_type": "code",
   "execution_count": 42,
   "id": "278adc30",
   "metadata": {},
   "outputs": [
    {
     "name": "stdout",
     "output_type": "stream",
     "text": [
      "upper limit : [20 30 40 50]\n",
      "lower limit : [10 20 30 40]\n",
      "mid point : [15. 25. 35. 45.]\n",
      "frequency : [ 7  2 10  1]\n",
      "cummulative frequency : [105.  50. 350.  45.]\n",
      "mean : 137.5\n",
      "standard deviation : 124.92497748648987\n",
      "varience : 15606.25\n"
     ]
    }
   ],
   "source": [
    "import numpy as np\n",
    "lower=np.array([10,20,30,40])\n",
    "upper=np.array([20,30,40,50])\n",
    "frequ=np.array([7,2,10,1])\n",
    "mid=(lower+upper)/2\n",
    "print(\"upper limit :\",upper)\n",
    "print(\"lower limit :\",lower)\n",
    "print(\"mid point :\",mid)\n",
    "print(\"frequency :\",frequ)\n",
    "cf=mid*frequ\n",
    "print(\"cummulative frequency :\",cf)\n",
    "print(\"mean :\",np.mean(cf))\n",
    "print(\"standard deviation :\",np.std(cf))\n",
    "print(\"varience :\",np.var(cf))"
   ]
  },
  {
   "cell_type": "raw",
   "id": "5bff51b8",
   "metadata": {},
   "source": [
    "36.\tWrite a python code to perform variability for the following\n",
    "There were 105 oak trees in a forest. 6 were randomly selected and their heights were recorded in meters. Find the variance in the heights.\n",
    "Heights (in m) = {43, 65, 52, 70, 48, 57}\n"
   ]
  },
  {
   "cell_type": "code",
   "execution_count": 22,
   "id": "3e9b7313",
   "metadata": {},
   "outputs": [
    {
     "name": "stdout",
     "output_type": "stream",
     "text": [
      "[43, 65, 52, 70, 48, 57]\n",
      "Mean : 55.833333333333336\n",
      "SD : 9.370461864580399\n",
      "Variance: 87.80555555555556\n"
     ]
    }
   ],
   "source": [
    "import numpy as np\n",
    "array = [43, 65, 52, 70, 48, 57]\n",
    "print(array)\n",
    "r1 = np.mean(array)\n",
    "print('Mean :',r1)\n",
    "r2 = np.std(array)\n",
    "print('SD :',r2)\n",
    "r3 = np.var(array)\n",
    "print('Variance:',r3)"
   ]
  },
  {
   "cell_type": "raw",
   "id": "c6fe9d4f",
   "metadata": {},
   "source": [
    "37.\tWrite a python code to perform Scatterplots using matplotlib of the following data\n",
    "Age of the Child\tHeight\n",
    "3\t2.3\n",
    "4\t2.7\n",
    "5\t3.1\n",
    "6\t3.6\n",
    "8\t3.8\n",
    "8\t4\n"
   ]
  },
  {
   "cell_type": "code",
   "execution_count": 37,
   "id": "092124d1",
   "metadata": {},
   "outputs": [
    {
     "data": {
      "text/plain": [
       "<matplotlib.collections.PathCollection at 0x11b1c75dd80>"
      ]
     },
     "execution_count": 37,
     "metadata": {},
     "output_type": "execute_result"
    },
    {
     "data": {
      "image/png": "[encoded data removed]",
      "text/plain": [
       "<Figure size 640x480 with 1 Axes>"
      ]
     },
     "metadata": {},
     "output_type": "display_data"
    }
   ],
   "source": [
    "import matplotlib.pyplot as plt\n",
    "plt.scatter([3,4,5,6,8,4],[2.3,2.7,3.7,3.6,3.8,4])"
   ]
  },
  {
   "cell_type": "raw",
   "id": "18d500a9",
   "metadata": {},
   "source": [
    "38.Write a python code to perform Scatterplots using matplotlib of the following data .\n",
    "Laurell had visited a zoo recently and had collected the following data. How can Laurell use a scatter plot to represent this data?\n",
    "Type of Animal\tNumber of Animals in the Zoo\n",
    "Zebra\t25\n",
    "Lions\t5\n",
    "Monkeys\t50\n",
    "Elephants\t10\n",
    "Ostriches\t\n"
   ]
  },
  {
   "cell_type": "code",
   "execution_count": 4,
   "id": "32d3490b",
   "metadata": {},
   "outputs": [
    {
     "data": {
      "image/png": "[encoded data removed]",
      "text/plain": [
       "<Figure size 640x480 with 1 Axes>"
      ]
     },
     "metadata": {},
     "output_type": "display_data"
    }
   ],
   "source": [
    "import matplotlib.pyplot as plt\n",
    "animals= ['Zebra', 'Lions', 'Monkeys', 'Elephants', 'Ostriches']\n",
    "num = [25, 5, 50, 10, 20]\n",
    "plt.scatter(animals,num, color = 'red', marker = \"*\" ,s = 100)\n",
    "plt.xlabel(\"Type of Animal\")\n",
    "plt.ylabel(\"Number of Animals in the Zoo\")\n",
    "plt.show()"
   ]
  },
  {
   "cell_type": "raw",
   "id": "4050e7ab",
   "metadata": {},
   "source": [
    "38.\tWrite a python code to perform Scatterplots using matplotlib of the following data .\n",
    "The meteorological department has collected the following data about the temperature and humidity in their town. Refer to the table given below and indicate the method to find the humidity at a temperature of 60 degrees Fahrenheit.\n",
    "Temperature (Degree Fahrenheit)\tHumidity(%)\n",
    "45\t60\n",
    "62\t48\n",
    "77\t40\n",
    "97\t30\n",
    "118\t20\n",
    "     122\t18\n"
   ]
  },
  {
   "cell_type": "code",
   "execution_count": 3,
   "id": "5b7d791a",
   "metadata": {},
   "outputs": [
    {
     "data": {
      "image/png": "[encoded data removed]",
      "text/plain": [
       "<Figure size 640x480 with 1 Axes>"
      ]
     },
     "metadata": {},
     "output_type": "display_data"
    }
   ],
   "source": [
    "import matplotlib.pyplot as plt\n",
    "temp= [45,62,77,97,118,122]\n",
    "hum= [68,48,40,30,20,18]\n",
    "plt.scatter(temp,hum, color = 'red', marker = \"*\" ,s = 100)\n",
    "plt.xlabel(\"Temperature\")\n",
    "plt.ylabel(\"Humidity\")\n",
    "plt.show()"
   ]
  },
  {
   "cell_type": "raw",
   "id": "ae01c45c",
   "metadata": {},
   "source": [
    "39.\tWrite a python code to perform Correlation using matplotlib for the following\n",
    "Subject\tAge x\tGlucose Level y\n",
    "1\t43\t99\n",
    "2\t21\t65\n",
    "3\t25\t79\n",
    "4\t42\t75\n",
    "5\t57\t87\n",
    "6\t59\t81\n"
   ]
  },
  {
   "cell_type": "code",
   "execution_count": 35,
   "id": "e6ef30ab",
   "metadata": {},
   "outputs": [
    {
     "data": {
      "image/png": "[encoded data removed]",
      "text/plain": [
       "<Figure size 500x500 with 1 Axes>"
      ]
     },
     "metadata": {},
     "output_type": "display_data"
    },
    {
     "data": {
      "text/plain": [
       "<Figure size 200x300 with 0 Axes>"
      ]
     },
     "metadata": {},
     "output_type": "display_data"
    }
   ],
   "source": [
    "import pandas as pd\n",
    "import numpy as np\n",
    "import matplotlib.pyplot as plt\n",
    "import seaborn as sns\n",
    "df=pd.DataFrame({'age':[43,21,25,42,57,59],'gulcose':[99,65,79,75,87,81]})\n",
    "#plt.plot(np.unique(age),np.poly1d(np.polyfit(age,gulcose,1)),(np.unique(gulcose)),color='red')\n",
    "sns.lmplot(x=\"age\",y=\"gulcose\",data=df,fit_reg=True)\n",
    "plt.figure(figsize=(2,3))\n",
    "plt.show()"
   ]
  },
  {
   "cell_type": "markdown",
   "id": "8f064d6e",
   "metadata": {},
   "source": [
    "40. Write a python code to perform Normal curves using arange function"
   ]
  },
  {
   "cell_type": "code",
   "execution_count": 25,
   "id": "35c2e42d",
   "metadata": {},
   "outputs": [
    {
     "data": {
      "image/png": "[encoded data removed]",
      "text/plain": [
       "<Figure size 640x480 with 1 Axes>"
      ]
     },
     "metadata": {},
     "output_type": "display_data"
    }
   ],
   "source": [
    "import numpy as np\n",
    "import matplotlib.pyplot as plt\n",
    "from scipy.stats import norm\n",
    "import statistics\n",
    "x_axis = np.arange(-20,20,0.01)\n",
    "mean = statistics.mean(x_axis)\n",
    "sd = statistics.stdev(x_axis)\n",
    "plt.plot(x_axis,norm.pdf(x_axis,mean,sd))\n",
    "plt.show()"
   ]
  },
  {
   "cell_type": "markdown",
   "id": "e3bd4f47",
   "metadata": {},
   "source": [
    "\n",
    "41. Write a python code to perform multiple normal curves using arange function\n"
   ]
  },
  {
   "cell_type": "code",
   "execution_count": 26,
   "id": "84370110",
   "metadata": {},
   "outputs": [
    {
     "data": {
      "image/png": "[encoded data removed]",
      "text/plain": [
       "<Figure size 640x480 with 1 Axes>"
      ]
     },
     "metadata": {},
     "output_type": "display_data"
    }
   ],
   "source": [
    "import numpy as np\n",
    "import matplotlib.pyplot as plt\n",
    "from scipy.stats import norm\n",
    "import statistics\n",
    "a = np.arange(-40,40,0.01)\n",
    "mean = statistics.mean(a)\n",
    "sd = statistics.stdev(a)\n",
    "plt.plot(a,norm.pdf(a,mean,sd))\n",
    "b = np.arange(-20,20,0.01)\n",
    "mean = statistics.mean(b)\n",
    "sd = statistics.stdev(b)\n",
    "plt.plot(b,norm.pdf(b,mean,sd))\n",
    "c = np.arange(-15,15,0.01)\n",
    "mean = statistics.mean(c)\n",
    "sd = statistics.stdev(c)\n",
    "plt.plot(c,norm.pdf(c,mean,sd))\n",
    "plt.show()"
   ]
  },
  {
   "cell_type": "markdown",
   "id": "a5b2309e",
   "metadata": {},
   "source": [
    "42. Write a python code to perform line plot and dot plot using matplotlib "
   ]
  },
  {
   "cell_type": "code",
   "execution_count": 27,
   "id": "f871d47f",
   "metadata": {},
   "outputs": [
    {
     "data": {
      "image/png": "[encoded data removed]",
      "text/plain": [
       "<Figure size 640x480 with 1 Axes>"
      ]
     },
     "metadata": {},
     "output_type": "display_data"
    }
   ],
   "source": [
    "import matplotlib.pyplot as plt\n",
    "import numpy as np\n",
    "# define data values\n",
    "x = np.array([1, 2, 3, 4]) # X-axis points\n",
    "y = x*2 # Y-axis points\n",
    "plt.plot(x, y, 'o-') # Plot the chart\n",
    "plt.show()"
   ]
  },
  {
   "cell_type": "markdown",
   "id": "0e58f95a",
   "metadata": {},
   "source": [
    "43.Write a python code to perform Regression Coefficient of census of literate people of South India (Category based on Men, Women)"
   ]
  },
  {
   "cell_type": "code",
   "execution_count": 28,
   "id": "e83c3ff2",
   "metadata": {},
   "outputs": [
    {
     "name": "stdout",
     "output_type": "stream",
     "text": [
      "Requirement already satisfied: scikit-learn in c:\\users\\vigne\\appdata\\local\\programs\\python\\python310\\lib\\site-packages (1.1.3)\n",
      "Requirement already satisfied: joblib>=1.0.0 in c:\\users\\vigne\\appdata\\local\\programs\\python\\python310\\lib\\site-packages (from scikit-learn) (1.2.0)\n",
      "Requirement already satisfied: threadpoolctl>=2.0.0 in c:\\users\\vigne\\appdata\\local\\programs\\python\\python310\\lib\\site-packages (from scikit-learn) (3.1.0)\n",
      "Requirement already satisfied: scipy>=1.3.2 in c:\\users\\vigne\\appdata\\local\\programs\\python\\python310\\lib\\site-packages (from scikit-learn) (1.9.3)\n",
      "Requirement already satisfied: numpy>=1.17.3 in c:\\users\\vigne\\appdata\\local\\programs\\python\\python310\\lib\\site-packages (from scikit-learn) (1.23.4)\n"
     ]
    }
   ],
   "source": [
    "!pip3 install -U scikit-learn"
   ]
  },
  {
   "cell_type": "code",
   "execution_count": 29,
   "id": "cf344505",
   "metadata": {},
   "outputs": [
    {
     "name": "stdout",
     "output_type": "stream",
     "text": [
      "Coefficients:  [[0. 0. 0. 0. 0. 0. 0. 0. 0. 0.]\n",
      " [0. 0. 0. 0. 0. 0. 0. 0. 0. 0.]\n",
      " [0. 0. 0. 0. 0. 0. 0. 0. 0. 0.]\n",
      " [0. 0. 0. 0. 0. 0. 0. 0. 0. 0.]\n",
      " [0. 0. 0. 0. 0. 0. 0. 0. 0. 0.]\n",
      " [0. 0. 0. 0. 0. 0. 0. 0. 0. 0.]\n",
      " [0. 0. 0. 0. 0. 0. 0. 0. 0. 0.]\n",
      " [0. 0. 0. 0. 0. 0. 0. 0. 0. 0.]\n",
      " [0. 0. 0. 0. 0. 0. 0. 0. 0. 0.]\n",
      " [0. 0. 0. 0. 0. 0. 0. 0. 0. 0.]]\n"
     ]
    }
   ],
   "source": [
    "\n",
    "import matplotlib.pyplot as plt\n",
    "import numpy as np\n",
    "from sklearn import linear_model, metrics\n",
    "x = np.array([[0, 1, 2, 3, 4, 5, 6, 7, 8, 9]])\n",
    "y = np.array([[1, 3, 2, 5, 7, 8, 8, 9, 10, 12]])\n",
    "reg = linear_model.LinearRegression()\n",
    "# train the model using the training sets\n",
    "reg.fit(x, y)\n",
    "# regression coefficients\n",
    "print('Coefficients: ', reg.coef_)"
   ]
  },
  {
   "cell_type": "markdown",
   "id": "57afb37a",
   "metadata": {},
   "source": [
    "  46. Write a Pandas program to join the two given dataframes along rows and assign all data\n",
    "Test Data:\n",
    "student_data1:\n",
    "  student_id              name          marks\n",
    "0         S1      Danniella Fenton    200\n",
    "1         S2      Ryder Storey          210\n",
    "2         S3      Bryce Jensen          190\n",
    "3         S4      Ed Bernal               222\n",
    "4         S5      Kwame Morin       199\n",
    "student_data2:\n",
    "  student_id              name       \tmarks\n",
    "0         S4  \tScarlette Fisher    \t201\n",
    "1         S5   Carla Williamson    \t200\n",
    "2         S6   Dante Morse    \t198\n",
    "3         S7   Kaiser William    \t219\n",
    "4         S8   Madeeha Preston   \t201\n"
   ]
  },
  {
   "cell_type": "code",
   "execution_count": 30,
   "id": "e29b8d11",
   "metadata": {},
   "outputs": [],
   "source": [
    "import pandas as pd\n",
    "student_data1 = pd.DataFrame({\n",
    "'student_id': ['S1', 'S2', 'S3',  'S5'],\n",
    "'name': ['Danniella Fenton', 'Ryder Storey', 'Bryce Jensen', 'Ed '],\n",
    "'marks': [200, 210, 190,  199]})\n",
    "student_data2 = pd.DataFrame({\n",
    "'student_id': ['S4', 'S5', 'S6',  'S8'],\n",
    "'name': ['Scarlette Fisher', 'Carla Williamson', 'Dante Morse', 'Ka'],\n",
    "'marks': [201, 200, 198,  201]})"
   ]
  },
  {
   "cell_type": "code",
   "execution_count": 31,
   "id": "3fad891e",
   "metadata": {},
   "outputs": [
    {
     "name": "stdout",
     "output_type": "stream",
     "text": [
      "Original DataFrames:\n",
      "  student_id              name  marks\n",
      "0         S1  Danniella Fenton    200\n",
      "1         S2      Ryder Storey    210\n",
      "2         S3      Bryce Jensen    190\n",
      "3         S5               Ed     199\n",
      "-------------------------------------\n",
      "  student_id              name  marks\n",
      "0         S4  Scarlette Fisher    201\n",
      "1         S5  Carla Williamson    200\n",
      "2         S6       Dante Morse    198\n",
      "3         S8                Ka    201\n",
      "\n",
      "Join the said two dataframes along rows:\n",
      "  student_id              name  marks\n",
      "0         S1  Danniella Fenton    200\n",
      "1         S2      Ryder Storey    210\n",
      "2         S3      Bryce Jensen    190\n",
      "3         S5               Ed     199\n",
      "0         S4  Scarlette Fisher    201\n",
      "1         S5  Carla Williamson    200\n",
      "2         S6       Dante Morse    198\n",
      "3         S8                Ka    201\n"
     ]
    }
   ],
   "source": [
    "print(\"Original DataFrames:\")\n",
    "print(student_data1)\n",
    "print(\"-------------------------------------\")\n",
    "print(student_data2)\n",
    "print(\"\\nJoin the said two dataframes along rows:\")\n",
    "result_data = pd.concat([student_data1, student_data2])\n",
    "print(result_data)"
   ]
  },
  {
   "cell_type": "raw",
   "id": "290f7802",
   "metadata": {},
   "source": [
    "47. Write a Pandas program to append rows to an existing DataFrame and display the combined data.\n",
    "Test Data:\n",
    "student_data1\n",
    "  student_id              name  marks\n",
    "0         S1  Danniella Fenton    200\n",
    "1         S2      Ryder Storey    210\n",
    "2         S3      Bryce Jensen    190\n",
    "3         S4         Ed Bernal    222\n",
    "4         S5       Kwame Morin    199\n",
    "New Row(s)\n",
    "student_id                  S6\n",
    "name          Scarlette Fisher\n",
    "marks                      205\n",
    "dtype: object\n"
   ]
  },
  {
   "cell_type": "code",
   "execution_count": 32,
   "id": "223f8f4d",
   "metadata": {},
   "outputs": [
    {
     "name": "stdout",
     "output_type": "stream",
     "text": [
      "Original DataFrames:\n",
      "  student_id              name  marks\n",
      "0         S1  Danniella Fenton    200\n",
      "1         S2      Ryder Storey    210\n",
      "2         S3      Bryce Jensen    190\n",
      "3         S5              Ed B    199\n",
      "\n",
      "New Row(s)\n",
      "student_id                  S6\n",
      "name          Scarlette Fisher\n",
      "marks                      205\n",
      "dtype: object\n",
      "\n",
      "Combined Data:\n",
      "  student_id              name  marks\n",
      "0         S1  Danniella Fenton    200\n",
      "1         S2      Ryder Storey    210\n",
      "2         S3      Bryce Jensen    190\n",
      "3         S5              Ed B    199\n",
      "4         S6  Scarlette Fisher    205\n"
     ]
    },
    {
     "name": "stderr",
     "output_type": "stream",
     "text": [
      "C:\\Users\\vigne\\AppData\\Local\\Temp\\ipykernel_6448\\4117813957.py:11: FutureWarning: The frame.append method is deprecated and will be removed from pandas in a future version. Use pandas.concat instead.\n",
      "  combined_data = student_data1.append(s6, ignore_index = True)\n"
     ]
    }
   ],
   "source": [
    "import pandas as pd\n",
    "student_data1 = pd.DataFrame({\n",
    "'student_id': ['S1', 'S2', 'S3', 'S5'],\n",
    "'name': ['Danniella Fenton', 'Ryder Storey', 'Bryce Jensen', 'Ed B'],\n",
    "'marks': [200, 210, 190,  199]})\n",
    "s6 = pd.Series(['S6', 'Scarlette Fisher', 205], index=['student_id', 'name','marks'])\n",
    "print(\"Original DataFrames:\")\n",
    "print(student_data1)\n",
    "print(\"\\nNew Row(s)\")\n",
    "print(s6)\n",
    "combined_data = student_data1.append(s6, ignore_index = True)\n",
    "print(\"\\nCombined Data:\")\n",
    "print(combined_data)"
   ]
  },
  {
   "cell_type": "markdown",
   "id": "cfb4601e",
   "metadata": {},
   "source": [
    "48.Write a Pandas program to join the two given dataframes along rows and merge with another dataframe along the common column id.\n",
    "Test Data:\n",
    "student_data1:\n",
    "  student_id              name  marks\n",
    "0         S1  Danniella Fenton    200\n",
    "1         S2      Ryder Storey    210\n",
    "2         S3      Bryce Jensen    190\n",
    "3         S4         Ed Bernal    222\n",
    "4         S5       Kwame Morin    199\n",
    "student_data2:\n",
    "  student_id              name  marks\n",
    "0         S4  Scarlette Fisher    201\n",
    "1         S5  Carla Williamson    200\n",
    "2         S6       Dante Morse    198\n",
    "3         S7    Kaiser William    219\n",
    "4         S8   Madeeha Preston    201\n"
   ]
  },
  {
   "cell_type": "code",
   "execution_count": 36,
   "id": "4e235d57",
   "metadata": {},
   "outputs": [
    {
     "name": "stdout",
     "output_type": "stream",
     "text": [
      "Original DataFrames:\n",
      "  student_id              name  marks\n",
      "0         S1  Danniella Fenton    200\n",
      "1         S2      Ryder Storey    210\n",
      "2         S3      Bryce Jensen    190\n",
      "3         S4         Ed Bernal    222\n",
      "4         S5       Kwame Morin    199\n",
      "  student_id              name  marks\n",
      "0         S4  Scarlette Fisher    201\n",
      "1         S5  Carla Williamson    200\n",
      "2         S6       Dante Morse    198\n",
      "3         S7    Kaiser William    219\n",
      "4         S8   Madeeha Preston    201\n",
      "   student_id  exam_id\n",
      "0          S1       23\n",
      "1          S2       45\n",
      "2          S3       12\n",
      "3          S4       67\n",
      "4          S5       21\n",
      "5          S7       55\n",
      "6          S8       33\n",
      "7          S9       14\n",
      "8         S10       56\n",
      "9         S11       83\n",
      "10        S12       88\n",
      "11        S13       12\n",
      "\n",
      "Join first two said dataframes along rows:\n",
      "  student_id              name  marks\n",
      "0         S1  Danniella Fenton    200\n",
      "1         S2      Ryder Storey    210\n",
      "2         S3      Bryce Jensen    190\n",
      "3         S4         Ed Bernal    222\n",
      "4         S5       Kwame Morin    199\n",
      "0         S4  Scarlette Fisher    201\n",
      "1         S5  Carla Williamson    200\n",
      "2         S6       Dante Morse    198\n",
      "3         S7    Kaiser William    219\n",
      "4         S8   Madeeha Preston    201\n",
      "\n",
      "Now join the said result_data and df_exam_data along student_id:\n",
      "  student_id              name  marks  exam_id\n",
      "0         S1  Danniella Fenton    200       23\n",
      "1         S2      Ryder Storey    210       45\n",
      "2         S3      Bryce Jensen    190       12\n",
      "3         S4         Ed Bernal    222       67\n",
      "4         S4  Scarlette Fisher    201       67\n",
      "5         S5       Kwame Morin    199       21\n",
      "6         S5  Carla Williamson    200       21\n",
      "7         S7    Kaiser William    219       55\n",
      "8         S8   Madeeha Preston    201       33\n"
     ]
    }
   ],
   "source": [
    "import pandas as pd\n",
    "student_data1 = pd.DataFrame({\n",
    "        'student_id': ['S1', 'S2', 'S3', 'S4', 'S5'],\n",
    "         'name': ['Danniella Fenton', 'Ryder Storey', 'Bryce Jensen', 'Ed Bernal', 'Kwame Morin'], \n",
    "        'marks': [200, 210, 190, 222, 199]})\n",
    "\n",
    "student_data2 = pd.DataFrame({\n",
    "        'student_id': ['S4', 'S5', 'S6', 'S7', 'S8'],\n",
    "        'name': ['Scarlette Fisher', 'Carla Williamson', 'Dante Morse', 'Kaiser William', 'Madeeha Preston'], \n",
    "        'marks': [201, 200, 198, 219, 201]})\n",
    "\n",
    "exam_data = pd.DataFrame({\n",
    "        'student_id': ['S1', 'S2', 'S3', 'S4', 'S5', 'S7', 'S8', 'S9', 'S10', 'S11', 'S12', 'S13'],\n",
    "        'exam_id': [23, 45, 12, 67, 21, 55, 33, 14, 56, 83, 88, 12]})\n",
    "\n",
    "print(\"Original DataFrames:\")\n",
    "print(student_data1)\n",
    "print(student_data2)\n",
    "print(exam_data)\n",
    "\n",
    "print(\"\\nJoin first two said dataframes along rows:\")\n",
    "result_data = pd.concat([student_data1, student_data2])\n",
    "print(result_data)\n",
    "\n",
    "print(\"\\nNow join the said result_data and df_exam_data along student_id:\")\n",
    "final_merged_data = pd.merge(result_data, exam_data, on='student_id')\n",
    "print(final_merged_data)"
   ]
  },
  {
   "cell_type": "markdown",
   "id": "b6c882fc",
   "metadata": {},
   "source": [
    "49. Write a Pandas program to split the following dataframe into groups based on school code. Also check the type of GroupBy object.\n",
    "Test Data:\n",
    "   school class            name date_Of_Birth   age  height  weight  address\n",
    "S1   s001     V  Alberto Franco     15/05/2002   12    173      35  street1\n",
    "S2   s002     V    Gino Mcneill     17/05/2002   12    192      32  street2\n",
    "S3   s003    VI     Ryan Parkes     16/02/1999   13    186      33  street3\n",
    "S4   s001    VI    Eesha Hinton     25/09/1998   13    167      30  street1\n",
    "S5   s002     V    Gino Mcneill     11/05/2002   14    151      31  street2\n",
    "S6   s004    VI    David Parkes     15/09/1997   12    159      32  street4\n"
   ]
  },
  {
   "cell_type": "code",
   "execution_count": 33,
   "id": "727c0afe",
   "metadata": {},
   "outputs": [
    {
     "name": "stdout",
     "output_type": "stream",
     "text": [
      "Original DataFrame:\n",
      "   school_code class            name  age  address\n",
      "S1        s001     V  Alberto Franco   12  street1\n",
      "S2        s002     V    Gino Mcneill   12  street2\n",
      "S3        s003    VI     Ryan Parkes   13  street3\n",
      "S4        s001     V    Eesha Hinton   13  street1\n",
      "S6        s004    VI             Wee   12  street2\n",
      "\n",
      "Split the said data on school_code wise:\n",
      "\n",
      "Group:\n",
      "s001\n",
      "   school_code class            name  age  address\n",
      "S1        s001     V  Alberto Franco   12  street1\n",
      "S4        s001     V    Eesha Hinton   13  street1\n",
      "\n",
      "Group:\n",
      "s002\n",
      "   school_code class          name  age  address\n",
      "S2        s002     V  Gino Mcneill   12  street2\n",
      "\n",
      "Group:\n",
      "s003\n",
      "   school_code class         name  age  address\n",
      "S3        s003    VI  Ryan Parkes   13  street3\n",
      "\n",
      "Group:\n",
      "s004\n",
      "   school_code class name  age  address\n",
      "S6        s004    VI  Wee   12  street2\n",
      "\n",
      "Type of the object:\n",
      "<class 'pandas.core.groupby.generic.DataFrameGroupBy'>\n"
     ]
    },
    {
     "name": "stderr",
     "output_type": "stream",
     "text": [
      "C:\\Users\\vigne\\AppData\\Local\\Temp\\ipykernel_6448\\3389442255.py:15: FutureWarning: In a future version of pandas, a length 1 tuple will be returned when iterating over a groupby with a grouper equal to a list of length 1. Don't supply a list with a single grouper to avoid this warning.\n",
      "  for name,group in result:\n"
     ]
    }
   ],
   "source": [
    "import pandas as pd\n",
    "pd.set_option('display.max_rows', None)\n",
    "#pd.set_option('display.max_columns', None)\n",
    "student_data = pd.DataFrame({\n",
    "'school_code': ['s001','s002','s003','s001','s004'],\n",
    "'class': ['V', 'V',  'VI', 'V', 'VI'],\n",
    "'name': ['Alberto Franco','Gino Mcneill','Ryan Parkes', 'Eesha Hinton','Wee'],\n",
    "'age': [12, 12, 13, 13,  12],\n",
    "'address': ['street1', 'street2', 'street3', 'street1', 'street2']},\n",
    "index=['S1', 'S2', 'S3', 'S4',  'S6'])\n",
    "print(\"Original DataFrame:\")\n",
    "print(student_data)\n",
    "print('\\nSplit the said data on school_code wise:')\n",
    "result = student_data.groupby(['school_code'])\n",
    "for name,group in result:\n",
    "    print(\"\\nGroup:\")\n",
    "    print(name)\n",
    "    print(group)\n",
    "print(\"\\nType of the object:\")\n",
    "print(type(result))"
   ]
  },
  {
   "cell_type": "raw",
   "id": "e969cd92",
   "metadata": {},
   "source": [
    "50. Write a Pandas program to split the following dataframe by school code and get mean, min, and max value of age for each school.\n",
    "Test Data:\n",
    "   school class            name date_Of_Birth   age  height  weight  address\n",
    "S1   s001     V  Alberto Franco     15/05/2002   12    173      35  street1\n",
    "S2   s002     V    Gino Mcneill     17/05/2002   12    192      32  street2\n",
    "S3   s003    VI     Ryan Parkes     16/02/1999   13    186      33  street3\n",
    "S4   s001    VI    Eesha Hinton     25/09/1998   13    167      30  street1\n",
    "S5   s002     V    Gino Mcneill     11/05/2002   14    151      31  street2\n",
    "S6   s004    VI    David Parkes     15/09/1997   12    159      32  street4\n"
   ]
  },
  {
   "cell_type": "code",
   "execution_count": 34,
   "id": "72e0e6fa",
   "metadata": {},
   "outputs": [],
   "source": [
    "import pandas as pd\n",
    "pd.set_option('display.max_rows', None)\n",
    "#pd.set_option('display.max_columns', None)\n",
    "student_data = pd.DataFrame({\n",
    "'school_code': ['s001','s002','s003','s001','s002','s004'],\n",
    "'class': ['V', 'V', 'VI', 'VI', 'V', 'VI'],\n",
    "'name': ['Alberto Franco','Gino Mcneill','Ryan Parkes', 'Eesha Hinton','Gino Mcneill',' David Parkes'],\n",
    "'date_Of_Birth ': ['15/05/2002','17/05/2002','16/02/1999','25/09/1998','11/05/2002','  15/09/1997'],\n",
    "'age': [12, 12, 13, 13, 14, 12],\n",
    "'height': [173, 192, 186, 167, 151, 159],\n",
    "'weight': [35, 32, 33, 30, 31, 32]},index=['S1', 'S2', 'S3', 'S4', 'S5', 'S6'])\n",
    "    "
   ]
  },
  {
   "cell_type": "code",
   "execution_count": 35,
   "id": "17132b2b",
   "metadata": {},
   "outputs": [
    {
     "name": "stdout",
     "output_type": "stream",
     "text": [
      "Original DataFrame:\n",
      "   school_code class            name date_Of_Birth   age  height  weight\n",
      "S1        s001     V  Alberto Franco     15/05/2002   12     173      35\n",
      "S2        s002     V    Gino Mcneill     17/05/2002   12     192      32\n",
      "S3        s003    VI     Ryan Parkes     16/02/1999   13     186      33\n",
      "S4        s001    VI    Eesha Hinton     25/09/1998   13     167      30\n",
      "S5        s002     V    Gino Mcneill     11/05/2002   14     151      31\n",
      "S6        s004    VI    David Parkes     15/09/1997   12     159      32\n"
     ]
    }
   ],
   "source": [
    "print(\"Original DataFrame:\")\n",
    "print(student_data)"
   ]
  },
  {
   "cell_type": "code",
   "execution_count": 36,
   "id": "dd72c0c6",
   "metadata": {},
   "outputs": [
    {
     "name": "stdout",
     "output_type": "stream",
     "text": [
      "              age        \n",
      "             mean min max\n",
      "school_code              \n",
      "s001         12.5  12  13\n",
      "s002         13.0  12  14\n",
      "s003         13.0  13  13\n",
      "s004         12.0  12  12\n"
     ]
    }
   ],
   "source": [
    "grouped_single = student_data.groupby('school_code').agg({'age': ['mean','min','max']})\n",
    "print(grouped_single)"
   ]
  },
  {
   "cell_type": "code",
   "execution_count": null,
   "id": "cea5ad15",
   "metadata": {},
   "outputs": [],
   "source": []
  }
 ],
 "metadata": {
  "kernelspec": {
   "display_name": "Python 3 (ipykernel)",
   "language": "python",
   "name": "python3"
  },
  "language_info": {
   "codemirror_mode": {
    "name": "ipython",
    "version": 3
   },
   "file_extension": ".py",
   "mimetype": "text/x-python",
   "name": "python",
   "nbconvert_exporter": "python",
   "pygments_lexer": "ipython3",
   "version": "3.10.8"
  }
 },
 "nbformat": 4,
 "nbformat_minor": 5
}
