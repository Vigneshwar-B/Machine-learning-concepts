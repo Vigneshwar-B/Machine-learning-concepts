{
 "cells": [
  {
   "cell_type": "markdown",
   "id": "b8e1f746",
   "metadata": {
    "id": "b8e1f746"
   },
   "source": [
    "# Numpy library -1 vigneshwar"
   ]
  },
  {
   "cell_type": "markdown",
   "id": "cf68e200",
   "metadata": {},
   "source": [
    "### How to Import NumPy as np and Print the Version Number?"
   ]
  },
  {
   "cell_type": "code",
   "execution_count": 1,
   "id": "667e2340",
   "metadata": {
    "id": "667e2340",
    "outputId": "d3b22c1d-4a09-40e7-dc00-5bf11da65de3"
   },
   "outputs": [
    {
     "name": "stdout",
     "output_type": "stream",
     "text": [
      "1.23.4\n"
     ]
    }
   ],
   "source": [
    "import numpy as np\n",
    "print(np.__version__)"
   ]
  },
  {
   "cell_type": "markdown",
   "id": "f8462f07",
   "metadata": {
    "id": "f8462f07"
   },
   "source": [
    "### Using Tuple to Create a NumPy Array"
   ]
  },
  {
   "cell_type": "code",
   "execution_count": 2,
   "id": "146d9f1b",
   "metadata": {
    "id": "146d9f1b",
    "outputId": "2f677fd9-19bf-4755-d686-487e7349661b"
   },
   "outputs": [
    {
     "data": {
      "text/plain": [
       "array([23, 32, 65, 85])"
      ]
     },
     "execution_count": 2,
     "metadata": {},
     "output_type": "execute_result"
    }
   ],
   "source": [
    "arrObj = np.array((23, 32, 65, 85))\n",
    "arrObj"
   ]
  },
  {
   "cell_type": "markdown",
   "id": "1ab4eaca",
   "metadata": {
    "id": "1ab4eaca"
   },
   "source": [
    "### Using List to Create a NumPy Array"
   ]
  },
  {
   "cell_type": "code",
   "execution_count": 3,
   "id": "a24c3312",
   "metadata": {
    "id": "a24c3312",
    "outputId": "730a20bf-199b-407f-9fad-32305e2c7494"
   },
   "outputs": [
    {
     "data": {
      "text/plain": [
       "array([43, 23, 75, 15])"
      ]
     },
     "execution_count": 3,
     "metadata": {},
     "output_type": "execute_result"
    }
   ],
   "source": [
    "arrObj = np.array([43, 23, 75, 15])\n",
    "arrObj"
   ]
  },
  {
   "cell_type": "markdown",
   "id": "56b8b460",
   "metadata": {
    "id": "56b8b460"
   },
   "source": [
    "### 0-D Arrays"
   ]
  },
  {
   "cell_type": "code",
   "execution_count": 4,
   "id": "037abedc",
   "metadata": {
    "id": "037abedc",
    "outputId": "4a84c023-57bf-4388-84c2-9c955ffcf7b3"
   },
   "outputs": [
    {
     "data": {
      "text/plain": [
       "array(21)"
      ]
     },
     "execution_count": 4,
     "metadata": {},
     "output_type": "execute_result"
    }
   ],
   "source": [
    "arrObj = np.array(21)\n",
    "arrObj"
   ]
  },
  {
   "cell_type": "markdown",
   "id": "39f8216b",
   "metadata": {
    "id": "39f8216b"
   },
   "source": [
    "### 1-D Arrays"
   ]
  },
  {
   "cell_type": "code",
   "execution_count": 5,
   "id": "5701abf5",
   "metadata": {
    "id": "5701abf5",
    "outputId": "c3eeb3d2-22b6-44a7-8d12-a13d6f4ae4bf"
   },
   "outputs": [
    {
     "data": {
      "text/plain": [
       "array([43, 23, 75, 15])"
      ]
     },
     "execution_count": 5,
     "metadata": {},
     "output_type": "execute_result"
    }
   ],
   "source": [
    "arrObj = np.array([43, 23, 75, 15])\n",
    "arrObj"
   ]
  },
  {
   "cell_type": "markdown",
   "id": "0159ed0c",
   "metadata": {
    "id": "0159ed0c"
   },
   "source": [
    "### 2-D Arrays"
   ]
  },
  {
   "cell_type": "code",
   "execution_count": 6,
   "id": "4db835f7",
   "metadata": {
    "id": "4db835f7",
    "outputId": "7ec6f870-f0a0-4cd6-f742-fa58a9aaa358"
   },
   "outputs": [
    {
     "data": {
      "text/plain": [
       "array([[12, 43, 21],\n",
       "       [67, 32, 98]])"
      ]
     },
     "execution_count": 6,
     "metadata": {},
     "output_type": "execute_result"
    }
   ],
   "source": [
    "arrObj = np.array([[12, 43, 21], [67, 32, 98]])\n",
    "arrObj"
   ]
  },
  {
   "cell_type": "markdown",
   "id": "a63aef07",
   "metadata": {
    "id": "a63aef07"
   },
   "source": [
    "### 3-D Arrays"
   ]
  },
  {
   "cell_type": "code",
   "execution_count": 7,
   "id": "8cb8b4fe",
   "metadata": {
    "id": "8cb8b4fe",
    "outputId": "14c4610a-e227-4ea9-9c79-54c149205b62"
   },
   "outputs": [
    {
     "data": {
      "text/plain": [
       "array([[[23, 45, 22],\n",
       "        [45, 76, 23]],\n",
       "\n",
       "       [[67, 23, 56],\n",
       "        [12, 76, 63]]])"
      ]
     },
     "execution_count": 7,
     "metadata": {},
     "output_type": "execute_result"
    }
   ],
   "source": [
    "arrObj = np.array([[[23, 45, 22], [45, 76, 23]], [[67, 23, 56], [12, 76, 63]]])\n",
    "arrObj"
   ]
  },
  {
   "cell_type": "markdown",
   "id": "1fb84ba9",
   "metadata": {
    "id": "1fb84ba9"
   },
   "source": [
    "### n-Dimensional Array"
   ]
  },
  {
   "cell_type": "code",
   "execution_count": 8,
   "id": "a8d345b8",
   "metadata": {
    "id": "a8d345b8",
    "outputId": "0f1a9641-cc08-42bf-9590-51ab02ce6404"
   },
   "outputs": [
    {
     "data": {
      "text/plain": [
       "array([[[[[23, 22, 65, 44]]]]])"
      ]
     },
     "execution_count": 8,
     "metadata": {},
     "output_type": "execute_result"
    }
   ],
   "source": [
    "arrObj = np.array([23, 22, 65, 44], ndmin=5)\n",
    "arrObj"
   ]
  },
  {
   "cell_type": "markdown",
   "id": "eb7ed6f0",
   "metadata": {
    "id": "eb7ed6f0"
   },
   "source": [
    "### Find Dimensions of an Array"
   ]
  },
  {
   "cell_type": "code",
   "execution_count": 9,
   "id": "54a8d75c",
   "metadata": {
    "id": "54a8d75c",
    "outputId": "42efd978-9771-47a6-baf0-cec421af0a72"
   },
   "outputs": [
    {
     "name": "stdout",
     "output_type": "stream",
     "text": [
      "0\n",
      "1\n",
      "2\n",
      "3\n"
     ]
    }
   ],
   "source": [
    "arrObj1 = np.array(21)\n",
    "arrObj2 = np.array([43, 23, 75, 15])\n",
    "arrObj3 = np.array([[12, 43, 21], [67, 32, 98]])\n",
    "arrObj4 = np.array([[[23, 45, 22], [45, 76, 23]], [[67, 23, 56], [12, 76, 63]]])\n",
    "print(arrObj1.ndim)\n",
    "print(arrObj2.ndim)\n",
    "print(arrObj3.ndim)\n",
    "print(arrObj4.ndim)"
   ]
  },
  {
   "cell_type": "markdown",
   "id": "3f017a7b",
   "metadata": {
    "id": "3f017a7b"
   },
   "source": [
    "### Access the Elements of the 1-D, 2-D, and 3-D Arrays"
   ]
  },
  {
   "cell_type": "code",
   "execution_count": 10,
   "id": "495eb85f",
   "metadata": {
    "id": "495eb85f",
    "outputId": "8ccf8b2c-f52f-491d-9255-4b947a637400"
   },
   "outputs": [
    {
     "name": "stdout",
     "output_type": "stream",
     "text": [
      "75\n",
      "21\n",
      "23\n"
     ]
    }
   ],
   "source": [
    "arrObj1 = np.array([43, 23, 75, 15])\n",
    "arrObj2 = np.array([[12, 43, 21], [67, 32, 98]])\n",
    "arrObj3 = np.array([[[23, 45, 22], [45, 76, 23]], [[67, 23, 56], [12, 76, 63]]])\n",
    "print(arrObj1[2])\n",
    "print(arrObj2[0, 2])\n",
    "print(arrObj3[0, 1, 2])"
   ]
  },
  {
   "cell_type": "markdown",
   "id": "90df962b",
   "metadata": {
    "id": "90df962b"
   },
   "source": [
    "### Check the Data Type of the NumPy Array Object"
   ]
  },
  {
   "cell_type": "code",
   "execution_count": 11,
   "id": "db6198f4",
   "metadata": {
    "id": "db6198f4",
    "outputId": "470ce710-0af4-4ba9-d834-eda2a8a40b2a"
   },
   "outputs": [
    {
     "name": "stdout",
     "output_type": "stream",
     "text": [
      "int32\n",
      "float64\n",
      "<U7\n"
     ]
    }
   ],
   "source": [
    "arrObj1 = np.array([1, 2, 3, 4])\n",
    "arrObj2 = np.array([1.3, 6.8, 3.5, 9.2])\n",
    "arrObj3 = np.array(['Welcome', 'to', 'MUO'])\n",
    "print(arrObj1.dtype)\n",
    "print(arrObj2.dtype)\n",
    "print(arrObj3.dtype)"
   ]
  },
  {
   "cell_type": "markdown",
   "id": "07c88a1c",
   "metadata": {
    "id": "07c88a1c"
   },
   "source": [
    "### Converting Integer Array to Float Array"
   ]
  },
  {
   "cell_type": "code",
   "execution_count": 12,
   "id": "e4c366ae",
   "metadata": {
    "id": "e4c366ae",
    "outputId": "c24c3ab2-99aa-481e-a007-2b58199aa1ca"
   },
   "outputs": [
    {
     "data": {
      "text/plain": [
       "array([43., 23., 75., 15.], dtype=float32)"
      ]
     },
     "execution_count": 12,
     "metadata": {},
     "output_type": "execute_result"
    }
   ],
   "source": [
    "arrObj = np.array([43, 23, 75, 15])\n",
    "floatArr = arrObj.astype('f')\n",
    "floatArr"
   ]
  },
  {
   "cell_type": "markdown",
   "id": "7c29df15",
   "metadata": {
    "id": "7c29df15"
   },
   "source": [
    "### Converting Float Array to Integer Array"
   ]
  },
  {
   "cell_type": "code",
   "execution_count": 13,
   "id": "912f2462",
   "metadata": {
    "id": "912f2462",
    "outputId": "27592c2d-c02a-42a7-f268-68d7ab46292e"
   },
   "outputs": [
    {
     "data": {
      "text/plain": [
       "array([1, 6, 3, 9], dtype=int32)"
      ]
     },
     "execution_count": 13,
     "metadata": {},
     "output_type": "execute_result"
    }
   ],
   "source": [
    "arrObj = np.array([1.3, 6.8, 3.5, 9.2])\n",
    "intArr = arrObj.astype('i')\n",
    "intArr"
   ]
  },
  {
   "cell_type": "markdown",
   "id": "cea16363",
   "metadata": {
    "id": "cea16363"
   },
   "source": [
    "### Copy a NumPy Array Into Another Array"
   ]
  },
  {
   "cell_type": "code",
   "execution_count": 14,
   "id": "ee752807",
   "metadata": {
    "id": "ee752807",
    "outputId": "0c771c55-c47d-4464-d32c-b7901df6ee2d"
   },
   "outputs": [
    {
     "data": {
      "text/plain": [
       "array([43, 23, 75, 15])"
      ]
     },
     "execution_count": 14,
     "metadata": {},
     "output_type": "execute_result"
    }
   ],
   "source": [
    "oldArr = np.array([43, 23, 75, 15])\n",
    "newArr = np.copy(oldArr)\n",
    "newArr"
   ]
  },
  {
   "cell_type": "markdown",
   "id": "3ae39db9",
   "metadata": {
    "id": "3ae39db9"
   },
   "source": [
    "### Find the Shape of an NumPy Array"
   ]
  },
  {
   "cell_type": "code",
   "execution_count": 15,
   "id": "24e4952b",
   "metadata": {
    "id": "24e4952b",
    "outputId": "53226180-c1b0-4ee4-8730-133100d58c6c"
   },
   "outputs": [
    {
     "data": {
      "text/plain": [
       "(2, 3)"
      ]
     },
     "execution_count": 15,
     "metadata": {},
     "output_type": "execute_result"
    }
   ],
   "source": [
    "arrObj = np.array([[12, 43, 21], [67, 32, 98]])\n",
    "arrObj.shape"
   ]
  },
  {
   "cell_type": "markdown",
   "id": "d044d7c8",
   "metadata": {
    "id": "d044d7c8"
   },
   "source": [
    "### Reshape an Array"
   ]
  },
  {
   "cell_type": "code",
   "execution_count": 16,
   "id": "8c7f32b5",
   "metadata": {
    "id": "8c7f32b5",
    "outputId": "4940bddb-8cf4-451c-fd54-d36a8bdfda20"
   },
   "outputs": [
    {
     "data": {
      "text/plain": [
       "array([[43, 23, 75],\n",
       "       [15, 34, 45]])"
      ]
     },
     "execution_count": 16,
     "metadata": {},
     "output_type": "execute_result"
    }
   ],
   "source": [
    "arrObj = np.array([43, 23, 75, 15, 34, 45])\n",
    "reshapedArr = arrObj.reshape(2, 3)\n",
    "reshapedArr"
   ]
  },
  {
   "cell_type": "markdown",
   "id": "0488a81c",
   "metadata": {
    "id": "0488a81c"
   },
   "source": [
    "### Flatten an Array"
   ]
  },
  {
   "cell_type": "code",
   "execution_count": 17,
   "id": "0d460d68",
   "metadata": {
    "id": "0d460d68",
    "outputId": "22b5deee-a47f-4ebe-c681-58cd217ca4a1"
   },
   "outputs": [
    {
     "data": {
      "text/plain": [
       "array([12, 43, 21, 67, 32, 98])"
      ]
     },
     "execution_count": 17,
     "metadata": {},
     "output_type": "execute_result"
    }
   ],
   "source": [
    "arrObj = np.array([[12, 43, 21], [67, 32, 98]])\n",
    "flattenedArr = arrObj.reshape(-1)\n",
    "flattenedArr"
   ]
  },
  {
   "cell_type": "markdown",
   "id": "4d2c9315",
   "metadata": {
    "id": "4d2c9315"
   },
   "source": [
    "### Sorting 1-D Array of Integers"
   ]
  },
  {
   "cell_type": "code",
   "execution_count": 18,
   "id": "c55dadce",
   "metadata": {
    "id": "c55dadce",
    "outputId": "593287cc-bc1c-42d3-dd92-18c99bdf1010"
   },
   "outputs": [
    {
     "data": {
      "text/plain": [
       "array([15, 23, 43, 75])"
      ]
     },
     "execution_count": 18,
     "metadata": {},
     "output_type": "execute_result"
    }
   ],
   "source": [
    "arrObj = np.array([43, 23, 75, 15])\n",
    "np.sort(arrObj)"
   ]
  },
  {
   "cell_type": "markdown",
   "id": "1997ba3c",
   "metadata": {
    "id": "1997ba3c"
   },
   "source": [
    "### Sorting 1-D Array of Strings"
   ]
  },
  {
   "cell_type": "code",
   "execution_count": 19,
   "id": "8aebe0bd",
   "metadata": {
    "id": "8aebe0bd",
    "outputId": "9158f57f-b782-4441-bb1b-3acf89494de1"
   },
   "outputs": [
    {
     "data": {
      "text/plain": [
       "array(['Golang', 'JavaScript', 'Python', 'Solidity'], dtype='<U10')"
      ]
     },
     "execution_count": 19,
     "metadata": {},
     "output_type": "execute_result"
    }
   ],
   "source": [
    "arrObj = np.array([\"Python\", \"JavaScript\", \"Solidity\", \"Golang\"])\n",
    "np.sort(arrObj)"
   ]
  },
  {
   "cell_type": "markdown",
   "id": "7bf461e1",
   "metadata": {
    "id": "7bf461e1"
   },
   "source": [
    "### Sorting 2-D Array of Integers"
   ]
  },
  {
   "cell_type": "code",
   "execution_count": 20,
   "id": "d678b466",
   "metadata": {
    "id": "d678b466",
    "outputId": "a3f50a79-7f36-42a1-d420-2a0ff1f03de5"
   },
   "outputs": [
    {
     "data": {
      "text/plain": [
       "array([[12, 21, 43],\n",
       "       [32, 67, 98]])"
      ]
     },
     "execution_count": 20,
     "metadata": {},
     "output_type": "execute_result"
    }
   ],
   "source": [
    "arrObj = np.array([[12, 43, 21], [67, 32, 98]])\n",
    "np.sort(arrObj)"
   ]
  },
  {
   "cell_type": "code",
   "execution_count": null,
   "id": "7abe3b87",
   "metadata": {},
   "outputs": [],
   "source": [
    "for further queries contact through linked in"
   ]
  }
 ],
 "metadata": {
  "colab": {
   "provenance": [],
   "toc_visible": true
  },
  "kernelspec": {
   "display_name": "Python 3 (ipykernel)",
   "language": "python",
   "name": "python3"
  },
  "language_info": {
   "codemirror_mode": {
    "name": "ipython",
    "version": 3
   },
   "file_extension": ".py",
   "mimetype": "text/x-python",
   "name": "python",
   "nbconvert_exporter": "python",
   "pygments_lexer": "ipython3",
   "version": "3.10.8"
  }
 },
 "nbformat": 4,
 "nbformat_minor": 5
}
